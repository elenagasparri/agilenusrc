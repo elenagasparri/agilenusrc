{
 "cells": [
  {
   "cell_type": "markdown",
   "metadata": {},
   "source": [
    "# Blazars/Non-Blazars (AGNs) Samples Definition\n",
    "\n",
    "### These notebook is to define the samples of sed data of blazars and non-blazar objects for future training of the neural network.\n",
    "\n",
    "A list of ID and coordinates (RA, Dec) is obtained for the blazar dataset (5699 from the OU4v2 catalog) and for agns(???) (4097 from the mqv7.2 catalog).\n",
    "\n",
    "This list will be given as input to the VOU_Blazar tool (Radius of 15 arcsec) to get the files with the sed data."
   ]
  },
  {
   "cell_type": "code",
   "execution_count": 1,
   "metadata": {},
   "outputs": [
    {
     "name": "stdout",
     "output_type": "stream",
     "text": [
      "0.11.2\n",
      "1.4.1\n",
      "1.18.5\n"
     ]
    }
   ],
   "source": [
    "import matplotlib\n",
    "from matplotlib import pyplot as plt\n",
    "%matplotlib inline\n",
    "\n",
    "import seaborn as sns\n",
    "print(sns.__version__)\n",
    "\n",
    "import pandas as pd\n",
    "print(pd.__version__)\n",
    "\n",
    "import numpy as np\n",
    "print(np.__version__)\n",
    "\n",
    "import os"
   ]
  },
  {
   "cell_type": "code",
   "execution_count": 2,
   "metadata": {},
   "outputs": [],
   "source": [
    "blcatalog = 'OU4Bl_v2.csv'\n",
    "agncatalog = 'milliquasv7.2.txt'\n",
    "dir_path = '/home/elenagasparri/Documenti/Fisica/esame_cmepda/SED_Builder/Data/'"
   ]
  },
  {
   "cell_type": "code",
   "execution_count": 3,
   "metadata": {},
   "outputs": [
    {
     "name": "stdout",
     "output_type": "stream",
     "text": [
      "2whsp_nameNOTfound.txt          my2whsp_name.csv\r\n",
      "3hsp.csv                        my3hsp_name.csv\r\n",
      "agn_qrx_radec.csv               my3hsp_name_not_recognized.csv\r\n",
      "agns_qrx_labelradec.csv         my3hsp_name_prova.csv\r\n",
      "agns_quasR.csv                  mybl_list.csv\r\n",
      "agns_quasR_prova.csv            new_milliquas.csv\r\n",
      "agns_v72_qrx.csv                new_veron.csv\r\n",
      "milliquasv6.4.csv               ou4bl3hsp_name.csv\r\n",
      "milliquasv6.4_readme.txt        ou4bl3hsp_radec.csv\r\n",
      "milliquasv7.2_readme.txt        ou4bl_labelradec.csv\r\n",
      "milliquasv7.2.txt               OU4Bl_v1.csv\r\n",
      "milliquasv7.4_agn_K.txt         OU4Bl_v2.csv\r\n",
      "milliquasv7.4_agn_S1.txt        setAGnsNonBlazar.ipynb\r\n",
      "milliquasv7.4_QSO_TYPE_1.txt    setBlazar.html\r\n",
      "milliquasv7.4_Radio_galaxy.txt  setBlazar.ipynb\r\n",
      "milliquasv7.4_readme.txt        veron_catalogue.txt\r\n",
      "milliquasv7.4.txt\r\n"
     ]
    }
   ],
   "source": [
    "os.chdir(dir_path)\n",
    "%ls"
   ]
  },
  {
   "cell_type": "markdown",
   "metadata": {},
   "source": [
    "# Blazar sample"
   ]
  },
  {
   "cell_type": "code",
   "execution_count": 4,
   "metadata": {},
   "outputs": [
    {
     "data": {
      "text/html": [
       "<div>\n",
       "<style scoped>\n",
       "    .dataframe tbody tr th:only-of-type {\n",
       "        vertical-align: middle;\n",
       "    }\n",
       "\n",
       "    .dataframe tbody tr th {\n",
       "        vertical-align: top;\n",
       "    }\n",
       "\n",
       "    .dataframe thead th {\n",
       "        text-align: right;\n",
       "    }\n",
       "</style>\n",
       "<table border=\"1\" class=\"dataframe\">\n",
       "  <thead>\n",
       "    <tr style=\"text-align: right;\">\n",
       "      <th></th>\n",
       "      <th>id</th>\n",
       "      <th>Source name</th>\n",
       "      <th>R.A.</th>\n",
       "      <th>Dec</th>\n",
       "      <th>Radio flux d.</th>\n",
       "      <th>Fermi flux</th>\n",
       "      <th>Log nu_peak</th>\n",
       "      <th>Redshift</th>\n",
       "      <th>Original catalog</th>\n",
       "    </tr>\n",
       "  </thead>\n",
       "  <tbody>\n",
       "    <tr>\n",
       "      <th>5673</th>\n",
       "      <td>5674</td>\n",
       "      <td>5BZQJ2230-3942</td>\n",
       "      <td>22 30 40.27</td>\n",
       "      <td>-39 42 51.98</td>\n",
       "      <td>370.0</td>\n",
       "      <td>0.000000e+00</td>\n",
       "      <td>0.0</td>\n",
       "      <td>0.318</td>\n",
       "      <td>5BZCAT</td>\n",
       "    </tr>\n",
       "    <tr>\n",
       "      <th>2838</th>\n",
       "      <td>2839</td>\n",
       "      <td>5BZBJ1109+2411</td>\n",
       "      <td>11 09 16.17</td>\n",
       "      <td>+24 11 20.11</td>\n",
       "      <td>34.0</td>\n",
       "      <td>3.700000e-12</td>\n",
       "      <td>15.7</td>\n",
       "      <td>0.000</td>\n",
       "      <td>5BZCAT</td>\n",
       "    </tr>\n",
       "    <tr>\n",
       "      <th>5979</th>\n",
       "      <td>5980</td>\n",
       "      <td>5BZQJ2343+2339</td>\n",
       "      <td>23 43 12.39</td>\n",
       "      <td>+23 39 45.61</td>\n",
       "      <td>363.0</td>\n",
       "      <td>0.000000e+00</td>\n",
       "      <td>0.0</td>\n",
       "      <td>1.328</td>\n",
       "      <td>5BZCAT</td>\n",
       "    </tr>\n",
       "    <tr>\n",
       "      <th>3061</th>\n",
       "      <td>3062</td>\n",
       "      <td>5BZBJ1152+1531</td>\n",
       "      <td>11 52 22.18</td>\n",
       "      <td>+15 31 48.1</td>\n",
       "      <td>34.0</td>\n",
       "      <td>0.000000e+00</td>\n",
       "      <td>0.0</td>\n",
       "      <td>0.000</td>\n",
       "      <td>5BZCAT</td>\n",
       "    </tr>\n",
       "    <tr>\n",
       "      <th>3211</th>\n",
       "      <td>3212</td>\n",
       "      <td>5BZQJ1217+5155</td>\n",
       "      <td>12 17 36.65</td>\n",
       "      <td>+51 55 10.19</td>\n",
       "      <td>85.0</td>\n",
       "      <td>0.000000e+00</td>\n",
       "      <td>0.0</td>\n",
       "      <td>2.224</td>\n",
       "      <td>5BZCAT</td>\n",
       "    </tr>\n",
       "    <tr>\n",
       "      <th>3673</th>\n",
       "      <td>3674</td>\n",
       "      <td>5BZQJ1342-2051</td>\n",
       "      <td>13 42 04.73</td>\n",
       "      <td>-20 51 29.41</td>\n",
       "      <td>399.0</td>\n",
       "      <td>7.500000e-12</td>\n",
       "      <td>0.0</td>\n",
       "      <td>1.582</td>\n",
       "      <td>5BZCAT</td>\n",
       "    </tr>\n",
       "    <tr>\n",
       "      <th>1878</th>\n",
       "      <td>1879</td>\n",
       "      <td>4FGLJ0754.0+0451</td>\n",
       "      <td>07 54 05.7</td>\n",
       "      <td>+04 52 38.49</td>\n",
       "      <td>53.1</td>\n",
       "      <td>3.200000e-12</td>\n",
       "      <td>0.0</td>\n",
       "      <td>0.000</td>\n",
       "      <td>Fermi 4LAC</td>\n",
       "    </tr>\n",
       "    <tr>\n",
       "      <th>3947</th>\n",
       "      <td>3948</td>\n",
       "      <td>3HSPJ143005.0+412707.9</td>\n",
       "      <td>14 30 04.99</td>\n",
       "      <td>+41 27 07.88</td>\n",
       "      <td>31.7</td>\n",
       "      <td>0.000000e+00</td>\n",
       "      <td>16.6</td>\n",
       "      <td>0.663</td>\n",
       "      <td>3HSP</td>\n",
       "    </tr>\n",
       "    <tr>\n",
       "      <th>746</th>\n",
       "      <td>747</td>\n",
       "      <td>5BZQJ0239-7626</td>\n",
       "      <td>02 39 00.48</td>\n",
       "      <td>-76 26 42.21</td>\n",
       "      <td>367.0</td>\n",
       "      <td>0.000000e+00</td>\n",
       "      <td>0.0</td>\n",
       "      <td>1.386</td>\n",
       "      <td>5BZCAT</td>\n",
       "    </tr>\n",
       "    <tr>\n",
       "      <th>4525</th>\n",
       "      <td>4526</td>\n",
       "      <td>4FGLJ1627.3+4758</td>\n",
       "      <td>16 27 46.2</td>\n",
       "      <td>+48 03 24.91</td>\n",
       "      <td>97.8</td>\n",
       "      <td>2.500000e-12</td>\n",
       "      <td>0.0</td>\n",
       "      <td>0.000</td>\n",
       "      <td>Fermi 4LAC</td>\n",
       "    </tr>\n",
       "  </tbody>\n",
       "</table>\n",
       "</div>"
      ],
      "text/plain": [
       "        id             Source name         R.A.           Dec  Radio flux d.  \\\n",
       "5673  5674         5BZQJ2230-3942   22 30 40.27  -39 42 51.98          370.0   \n",
       "2838  2839         5BZBJ1109+2411   11 09 16.17  +24 11 20.11           34.0   \n",
       "5979  5980         5BZQJ2343+2339   23 43 12.39  +23 39 45.61          363.0   \n",
       "3061  3062         5BZBJ1152+1531   11 52 22.18   +15 31 48.1           34.0   \n",
       "3211  3212         5BZQJ1217+5155   12 17 36.65  +51 55 10.19           85.0   \n",
       "3673  3674         5BZQJ1342-2051   13 42 04.73  -20 51 29.41          399.0   \n",
       "1878  1879       4FGLJ0754.0+0451    07 54 05.7  +04 52 38.49           53.1   \n",
       "3947  3948  3HSPJ143005.0+412707.9  14 30 04.99  +41 27 07.88           31.7   \n",
       "746    747         5BZQJ0239-7626   02 39 00.48  -76 26 42.21          367.0   \n",
       "4525  4526       4FGLJ1627.3+4758    16 27 46.2  +48 03 24.91           97.8   \n",
       "\n",
       "        Fermi flux  Log nu_peak  Redshift Original catalog  \n",
       "5673  0.000000e+00          0.0     0.318           5BZCAT  \n",
       "2838  3.700000e-12         15.7     0.000           5BZCAT  \n",
       "5979  0.000000e+00          0.0     1.328           5BZCAT  \n",
       "3061  0.000000e+00          0.0     0.000           5BZCAT  \n",
       "3211  0.000000e+00          0.0     2.224           5BZCAT  \n",
       "3673  7.500000e-12          0.0     1.582           5BZCAT  \n",
       "1878  3.200000e-12          0.0     0.000       Fermi 4LAC  \n",
       "3947  0.000000e+00         16.6     0.663             3HSP  \n",
       "746   0.000000e+00          0.0     1.386           5BZCAT  \n",
       "4525  2.500000e-12          0.0     0.000       Fermi 4LAC  "
      ]
     },
     "execution_count": 4,
     "metadata": {},
     "output_type": "execute_result"
    }
   ],
   "source": [
    "ou4bl = pd.read_csv(blcatalog, encoding='utf-8-sig')\n",
    "ou4bl.sample(10)"
   ]
  },
  {
   "cell_type": "code",
   "execution_count": 5,
   "metadata": {},
   "outputs": [],
   "source": [
    "# convert coordinates\n",
    "def sex2deg(ra,dec):\n",
    "    h,m,s = list(map(float,ra.split()))\n",
    "    ra = s / 86400\n",
    "    ra += m / 1440\n",
    "    ra += h / 24\n",
    "    ra *= 360\n",
    "    \n",
    "    d,m,s = dec.split()\n",
    "    dec = float(s) / 3600\n",
    "    dec += float(m) / 60\n",
    "    if d[0] == '-':\n",
    "        dec = float(d) - dec\n",
    "    else:\n",
    "        dec = float(d) + dec\n",
    "    \n",
    "    return ra,dec"
   ]
  },
  {
   "cell_type": "code",
   "execution_count": 6,
   "metadata": {},
   "outputs": [],
   "source": [
    "RA_COL = 'R.A.'\n",
    "DEC_COL = 'Dec'\n",
    "def apply_df(df):\n",
    "    try:\n",
    "        bla = list(sex2deg(df[RA_COL],df[DEC_COL]))\n",
    "    except:\n",
    "        bla = [None,None]\n",
    "    return bla\n",
    "\n",
    "ou4bl[['RA','DEC']] = ou4bl.apply(apply_df, axis=1, result_type = 'expand')"
   ]
  },
  {
   "cell_type": "code",
   "execution_count": 7,
   "metadata": {
    "scrolled": true
   },
   "outputs": [
    {
     "data": {
      "text/html": [
       "<div>\n",
       "<style scoped>\n",
       "    .dataframe tbody tr th:only-of-type {\n",
       "        vertical-align: middle;\n",
       "    }\n",
       "\n",
       "    .dataframe tbody tr th {\n",
       "        vertical-align: top;\n",
       "    }\n",
       "\n",
       "    .dataframe thead th {\n",
       "        text-align: right;\n",
       "    }\n",
       "</style>\n",
       "<table border=\"1\" class=\"dataframe\">\n",
       "  <thead>\n",
       "    <tr style=\"text-align: right;\">\n",
       "      <th></th>\n",
       "      <th>id</th>\n",
       "      <th>Source name</th>\n",
       "      <th>R.A.</th>\n",
       "      <th>Dec</th>\n",
       "      <th>Radio flux d.</th>\n",
       "      <th>Fermi flux</th>\n",
       "      <th>Log nu_peak</th>\n",
       "      <th>Redshift</th>\n",
       "      <th>Original catalog</th>\n",
       "      <th>RA</th>\n",
       "      <th>DEC</th>\n",
       "    </tr>\n",
       "  </thead>\n",
       "  <tbody>\n",
       "    <tr>\n",
       "      <th>0</th>\n",
       "      <td>1</td>\n",
       "      <td>3HSPJ000236.0-081532.4</td>\n",
       "      <td>00 02 36.06</td>\n",
       "      <td>-08 15 32.4</td>\n",
       "      <td>29.0</td>\n",
       "      <td>0.000000e+00</td>\n",
       "      <td>16.0</td>\n",
       "      <td>0.390</td>\n",
       "      <td>3HSP</td>\n",
       "      <td>0.650250</td>\n",
       "      <td>-8.259000</td>\n",
       "    </tr>\n",
       "    <tr>\n",
       "      <th>1</th>\n",
       "      <td>2</td>\n",
       "      <td>5BZBJ0002-0024</td>\n",
       "      <td>00 02 57.16</td>\n",
       "      <td>-00 24 47.01</td>\n",
       "      <td>178.0</td>\n",
       "      <td>0.000000e+00</td>\n",
       "      <td>0.0</td>\n",
       "      <td>0.523</td>\n",
       "      <td>5BZCAT</td>\n",
       "      <td>0.738167</td>\n",
       "      <td>-0.413058</td>\n",
       "    </tr>\n",
       "    <tr>\n",
       "      <th>2</th>\n",
       "      <td>3</td>\n",
       "      <td>4FGLJ0003.3-5905</td>\n",
       "      <td>00 03 13.32</td>\n",
       "      <td>-59 05 47.61</td>\n",
       "      <td>505.9</td>\n",
       "      <td>1.680000e-12</td>\n",
       "      <td>0.0</td>\n",
       "      <td>0.000</td>\n",
       "      <td>Fermi 4LAC</td>\n",
       "      <td>0.805500</td>\n",
       "      <td>-59.096558</td>\n",
       "    </tr>\n",
       "    <tr>\n",
       "      <th>3</th>\n",
       "      <td>4</td>\n",
       "      <td>4FGLJ0003.3-1928</td>\n",
       "      <td>00 03 18.66</td>\n",
       "      <td>-19 27 22.28</td>\n",
       "      <td>171.0</td>\n",
       "      <td>2.590000e-12</td>\n",
       "      <td>0.0</td>\n",
       "      <td>0.000</td>\n",
       "      <td>Fermi 4LAC</td>\n",
       "      <td>0.827750</td>\n",
       "      <td>-19.456189</td>\n",
       "    </tr>\n",
       "    <tr>\n",
       "      <th>4</th>\n",
       "      <td>5</td>\n",
       "      <td>5BZQJ0003+2129</td>\n",
       "      <td>00 03 19.32</td>\n",
       "      <td>+21 29 44.48</td>\n",
       "      <td>83.0</td>\n",
       "      <td>0.000000e+00</td>\n",
       "      <td>0.0</td>\n",
       "      <td>0.450</td>\n",
       "      <td>5BZCAT</td>\n",
       "      <td>0.830500</td>\n",
       "      <td>21.495689</td>\n",
       "    </tr>\n",
       "  </tbody>\n",
       "</table>\n",
       "</div>"
      ],
      "text/plain": [
       "   id             Source name         R.A.           Dec  Radio flux d.  \\\n",
       "0   1  3HSPJ000236.0-081532.4  00 02 36.06   -08 15 32.4           29.0   \n",
       "1   2         5BZBJ0002-0024   00 02 57.16  -00 24 47.01          178.0   \n",
       "2   3       4FGLJ0003.3-5905   00 03 13.32  -59 05 47.61          505.9   \n",
       "3   4       4FGLJ0003.3-1928   00 03 18.66  -19 27 22.28          171.0   \n",
       "4   5         5BZQJ0003+2129   00 03 19.32  +21 29 44.48           83.0   \n",
       "\n",
       "     Fermi flux  Log nu_peak  Redshift Original catalog        RA        DEC  \n",
       "0  0.000000e+00         16.0     0.390             3HSP  0.650250  -8.259000  \n",
       "1  0.000000e+00          0.0     0.523           5BZCAT  0.738167  -0.413058  \n",
       "2  1.680000e-12          0.0     0.000       Fermi 4LAC  0.805500 -59.096558  \n",
       "3  2.590000e-12          0.0     0.000       Fermi 4LAC  0.827750 -19.456189  \n",
       "4  0.000000e+00          0.0     0.450           5BZCAT  0.830500  21.495689  "
      ]
     },
     "execution_count": 7,
     "metadata": {},
     "output_type": "execute_result"
    }
   ],
   "source": [
    "ou4bl.head()"
   ]
  },
  {
   "cell_type": "code",
   "execution_count": 8,
   "metadata": {},
   "outputs": [
    {
     "data": {
      "text/plain": [
       "Index(['id', 'Source name', 'R.A.', 'Dec', 'Radio flux d.', 'Fermi flux',\n",
       "       'Log nu_peak', 'Redshift', 'Original catalog', 'RA', 'DEC'],\n",
       "      dtype='object')"
      ]
     },
     "execution_count": 8,
     "metadata": {},
     "output_type": "execute_result"
    }
   ],
   "source": [
    "ou4bl.columns"
   ]
  },
  {
   "cell_type": "code",
   "execution_count": 9,
   "metadata": {},
   "outputs": [
    {
     "data": {
      "text/plain": [
       "Original catalog\n",
       "5BZCAT        3561\n",
       "3HSP          1353\n",
       "Fermi 4LAC     748\n",
       "Fermi 3LAC     415\n",
       "dtype: int64"
      ]
     },
     "execution_count": 9,
     "metadata": {},
     "output_type": "execute_result"
    }
   ],
   "source": [
    "# Description of the Blazars in the catalog\n",
    "ou4bl.groupby('Original catalog').size().sort_values(ascending=False)"
   ]
  },
  {
   "cell_type": "code",
   "execution_count": 10,
   "metadata": {},
   "outputs": [],
   "source": [
    "# define the colums of interest\n",
    "col = dict(idn='id',\n",
    "           ra='RA',\n",
    "           dec='DEC',\n",
    "           name='Source name',\n",
    "           redshift='Redshift',\n",
    "           flux_radio='Radio flux d.',\n",
    "           fermi_flux='Fermi flux',\n",
    "           nupk='Log nu_peak',\n",
    "           catalog='Original catalog'\n",
    "          )"
   ]
  },
  {
   "cell_type": "code",
   "execution_count": null,
   "metadata": {},
   "outputs": [],
   "source": [
    "# Dataset per il run con VOU_Blazars in batch mode (6077 Blazars)\n",
    "\n",
    "#ou4bl[[col['idn'],col['ra'],col['dec']]].to_csv('ou4bl_labelradec.csv', sep= ' ', encoding='utf-8-sig', index=False, float_format='%.5f')"
   ]
  },
  {
   "cell_type": "markdown",
   "metadata": {},
   "source": [
    "# AGNs Sample"
   ]
  },
  {
   "cell_type": "code",
   "execution_count": 11,
   "metadata": {
    "scrolled": true
   },
   "outputs": [
    {
     "data": {
      "text/html": [
       "<div>\n",
       "<style scoped>\n",
       "    .dataframe tbody tr th:only-of-type {\n",
       "        vertical-align: middle;\n",
       "    }\n",
       "\n",
       "    .dataframe tbody tr th {\n",
       "        vertical-align: top;\n",
       "    }\n",
       "\n",
       "    .dataframe thead th {\n",
       "        text-align: right;\n",
       "    }\n",
       "</style>\n",
       "<table border=\"1\" class=\"dataframe\">\n",
       "  <thead>\n",
       "    <tr style=\"text-align: right;\">\n",
       "      <th></th>\n",
       "      <th>RAJ2000</th>\n",
       "      <th>DEJ2000</th>\n",
       "      <th>Name</th>\n",
       "      <th>Type</th>\n",
       "      <th>Rmag</th>\n",
       "      <th>Bmag</th>\n",
       "      <th>Comment</th>\n",
       "      <th>R</th>\n",
       "      <th>B</th>\n",
       "      <th>z</th>\n",
       "      <th>Qpct</th>\n",
       "      <th>XName</th>\n",
       "      <th>RName</th>\n",
       "      <th>Lobe1</th>\n",
       "      <th>Lobe2</th>\n",
       "    </tr>\n",
       "  </thead>\n",
       "  <tbody>\n",
       "    <tr>\n",
       "      <th>930836</th>\n",
       "      <td>197.072332</td>\n",
       "      <td>-30.595489</td>\n",
       "      <td>WISEA J130817.35-303543.8</td>\n",
       "      <td>q</td>\n",
       "      <td>18.91</td>\n",
       "      <td>20.24</td>\n",
       "      <td>jG</td>\n",
       "      <td>-</td>\n",
       "      <td>-</td>\n",
       "      <td>1.000</td>\n",
       "      <td>96</td>\n",
       "      <td></td>\n",
       "      <td></td>\n",
       "      <td></td>\n",
       "      <td>NaN</td>\n",
       "    </tr>\n",
       "    <tr>\n",
       "      <th>1243330</th>\n",
       "      <td>248.851835</td>\n",
       "      <td>44.344365</td>\n",
       "      <td>WISEA J163524.44+442039.7</td>\n",
       "      <td>q</td>\n",
       "      <td>17.98</td>\n",
       "      <td>20.35</td>\n",
       "      <td>pmG</td>\n",
       "      <td>1</td>\n",
       "      <td>-</td>\n",
       "      <td>0.200</td>\n",
       "      <td>68</td>\n",
       "      <td></td>\n",
       "      <td></td>\n",
       "      <td></td>\n",
       "      <td>NaN</td>\n",
       "    </tr>\n",
       "    <tr>\n",
       "      <th>1305198</th>\n",
       "      <td>268.461370</td>\n",
       "      <td>35.466229</td>\n",
       "      <td>B2 1752+35</td>\n",
       "      <td>QRX</td>\n",
       "      <td>18.42</td>\n",
       "      <td>18.87</td>\n",
       "      <td>pG</td>\n",
       "      <td>-</td>\n",
       "      <td>-</td>\n",
       "      <td>0.550</td>\n",
       "      <td>98</td>\n",
       "      <td>2RXS J175350.0+352757</td>\n",
       "      <td>VL0J175350.76+352758.8</td>\n",
       "      <td>NVSS J175350.6+352758</td>\n",
       "      <td>NaN</td>\n",
       "    </tr>\n",
       "    <tr>\n",
       "      <th>1318291</th>\n",
       "      <td>277.178791</td>\n",
       "      <td>24.496719</td>\n",
       "      <td>WISEA J182842.90+242948.4</td>\n",
       "      <td>q</td>\n",
       "      <td>19.07</td>\n",
       "      <td>19.58</td>\n",
       "      <td>pG</td>\n",
       "      <td>1</td>\n",
       "      <td>-</td>\n",
       "      <td>2.200</td>\n",
       "      <td>99</td>\n",
       "      <td></td>\n",
       "      <td></td>\n",
       "      <td></td>\n",
       "      <td>NaN</td>\n",
       "    </tr>\n",
       "    <tr>\n",
       "      <th>906886</th>\n",
       "      <td>193.400006</td>\n",
       "      <td>26.047333</td>\n",
       "      <td>WISEA J125336.00+260250.3</td>\n",
       "      <td>q</td>\n",
       "      <td>20.12</td>\n",
       "      <td>20.42</td>\n",
       "      <td>pm</td>\n",
       "      <td>1</td>\n",
       "      <td>-</td>\n",
       "      <td>0.400</td>\n",
       "      <td>98</td>\n",
       "      <td></td>\n",
       "      <td></td>\n",
       "      <td></td>\n",
       "      <td>NaN</td>\n",
       "    </tr>\n",
       "    <tr>\n",
       "      <th>133488</th>\n",
       "      <td>20.959819</td>\n",
       "      <td>0.155480</td>\n",
       "      <td>SDSS J012350.35+000919.7</td>\n",
       "      <td>Q</td>\n",
       "      <td>22.63</td>\n",
       "      <td>22.60</td>\n",
       "      <td>g</td>\n",
       "      <td>-</td>\n",
       "      <td>-</td>\n",
       "      <td>2.295</td>\n",
       "      <td></td>\n",
       "      <td></td>\n",
       "      <td></td>\n",
       "      <td></td>\n",
       "      <td>NaN</td>\n",
       "    </tr>\n",
       "    <tr>\n",
       "      <th>812398</th>\n",
       "      <td>179.058212</td>\n",
       "      <td>52.656735</td>\n",
       "      <td>SDSS J115613.97+523924.2</td>\n",
       "      <td>Q</td>\n",
       "      <td>22.19</td>\n",
       "      <td>21.86</td>\n",
       "      <td>g</td>\n",
       "      <td>-</td>\n",
       "      <td>-</td>\n",
       "      <td>2.166</td>\n",
       "      <td></td>\n",
       "      <td></td>\n",
       "      <td></td>\n",
       "      <td></td>\n",
       "      <td>NaN</td>\n",
       "    </tr>\n",
       "    <tr>\n",
       "      <th>1504165</th>\n",
       "      <td>348.018891</td>\n",
       "      <td>19.704208</td>\n",
       "      <td>SDSS J231204.53+194215.1</td>\n",
       "      <td>Q</td>\n",
       "      <td>20.76</td>\n",
       "      <td>21.60</td>\n",
       "      <td>g</td>\n",
       "      <td>1</td>\n",
       "      <td>-</td>\n",
       "      <td>1.395</td>\n",
       "      <td></td>\n",
       "      <td></td>\n",
       "      <td></td>\n",
       "      <td></td>\n",
       "      <td>NaN</td>\n",
       "    </tr>\n",
       "    <tr>\n",
       "      <th>891465</th>\n",
       "      <td>191.037726</td>\n",
       "      <td>52.235298</td>\n",
       "      <td>SDSS J124409.05+521407.1</td>\n",
       "      <td>Q</td>\n",
       "      <td>20.45</td>\n",
       "      <td>21.18</td>\n",
       "      <td>jG</td>\n",
       "      <td>-</td>\n",
       "      <td>-</td>\n",
       "      <td>0.965</td>\n",
       "      <td></td>\n",
       "      <td></td>\n",
       "      <td></td>\n",
       "      <td></td>\n",
       "      <td>NaN</td>\n",
       "    </tr>\n",
       "    <tr>\n",
       "      <th>1192446</th>\n",
       "      <td>238.891596</td>\n",
       "      <td>59.689652</td>\n",
       "      <td>SDSS J155533.97+594122.7</td>\n",
       "      <td>Q</td>\n",
       "      <td>19.98</td>\n",
       "      <td>21.45</td>\n",
       "      <td>jG</td>\n",
       "      <td>-</td>\n",
       "      <td>1</td>\n",
       "      <td>1.719</td>\n",
       "      <td></td>\n",
       "      <td></td>\n",
       "      <td></td>\n",
       "      <td></td>\n",
       "      <td>NaN</td>\n",
       "    </tr>\n",
       "  </tbody>\n",
       "</table>\n",
       "</div>"
      ],
      "text/plain": [
       "            RAJ2000    DEJ2000                       Name  Type   Rmag   Bmag  \\\n",
       "930836   197.072332 -30.595489  WISEA J130817.35-303543.8  q     18.91  20.24   \n",
       "1243330  248.851835  44.344365  WISEA J163524.44+442039.7  q     17.98  20.35   \n",
       "1305198  268.461370  35.466229  B2 1752+35                 QRX   18.42  18.87   \n",
       "1318291  277.178791  24.496719  WISEA J182842.90+242948.4  q     19.07  19.58   \n",
       "906886   193.400006  26.047333  WISEA J125336.00+260250.3  q     20.12  20.42   \n",
       "133488    20.959819   0.155480  SDSS J012350.35+000919.7   Q     22.63  22.60   \n",
       "812398   179.058212  52.656735  SDSS J115613.97+523924.2   Q     22.19  21.86   \n",
       "1504165  348.018891  19.704208  SDSS J231204.53+194215.1   Q     20.76  21.60   \n",
       "891465   191.037726  52.235298  SDSS J124409.05+521407.1   Q     20.45  21.18   \n",
       "1192446  238.891596  59.689652  SDSS J155533.97+594122.7   Q     19.98  21.45   \n",
       "\n",
       "        Comment  R  B       z Qpct                   XName  \\\n",
       "930836      jG   -  -   1.000   96                           \n",
       "1243330     pmG  1  -   0.200   68                           \n",
       "1305198     pG   -  -   0.550   98  2RXS J175350.0+352757    \n",
       "1318291     pG   1  -   2.200   99                           \n",
       "906886      pm   1  -   0.400   98                           \n",
       "133488      g    -  -   2.295                                \n",
       "812398      g    -  -   2.166                                \n",
       "1504165     g    1  -   1.395                                \n",
       "891465      jG   -  -   0.965                                \n",
       "1192446     jG   -  1   1.719                                \n",
       "\n",
       "                          RName                   Lobe1 Lobe2  \n",
       "930836                                                    NaN  \n",
       "1243330                                                   NaN  \n",
       "1305198  VL0J175350.76+352758.8  NVSS J175350.6+352758    NaN  \n",
       "1318291                                                   NaN  \n",
       "906886                                                    NaN  \n",
       "133488                                                    NaN  \n",
       "812398                                                    NaN  \n",
       "1504165                                                   NaN  \n",
       "891465                                                    NaN  \n",
       "1192446                                                   NaN  "
      ]
     },
     "execution_count": 11,
     "metadata": {},
     "output_type": "execute_result"
    }
   ],
   "source": [
    "agns_v72 = pd.read_csv(agncatalog, encoding='utf-8-sig', delimiter = '|')\n",
    "agns_v72.sample(10)"
   ]
  },
  {
   "cell_type": "code",
   "execution_count": 12,
   "metadata": {},
   "outputs": [
    {
     "data": {
      "text/plain": [
       "Index(['RAJ2000', 'DEJ2000', 'Name', 'Type', 'Rmag', 'Bmag', 'Comment', 'R',\n",
       "       'B', 'z', 'Qpct', 'XName', 'RName', 'Lobe1', 'Lobe2'],\n",
       "      dtype='object')"
      ]
     },
     "execution_count": 12,
     "metadata": {},
     "output_type": "execute_result"
    }
   ],
   "source": [
    "agns_v72.columns"
   ]
  },
  {
   "cell_type": "code",
   "execution_count": 13,
   "metadata": {
    "scrolled": true
   },
   "outputs": [
    {
     "data": {
      "text/plain": [
       "Type\n",
       "Q       707379\n",
       "q       478297\n",
       "X        83737\n",
       "R        52371\n",
       "QX       50952\n",
       "qX       46025\n",
       "qR       29917\n",
       "N        25773\n",
       "QR       24446\n",
       "A        24114\n",
       "AX        8100\n",
       "K         4522\n",
       "AR        4421\n",
       "NR        4117\n",
       "QRX       4093\n",
       "2         3928\n",
       "QR2       2150\n",
       "qRX       2100\n",
       "RX        1870\n",
       "NX        1843\n",
       "ARX       1831\n",
       "R2        1786\n",
       "qR2       1785\n",
       "BRX       1658\n",
       "q2         972\n",
       "QR2X       877\n",
       "BR         781\n",
       "Q2         715\n",
       "NRX        635\n",
       "KX         524\n",
       "qR2X       248\n",
       "KR         174\n",
       "NR2        165\n",
       "Q2X        164\n",
       "AR2X       150\n",
       "AR2        145\n",
       "R2X        142\n",
       "N2         133\n",
       "BX         106\n",
       "2X          90\n",
       "A2          87\n",
       "q2X         80\n",
       "BR2X        68\n",
       "B           51\n",
       "L           50\n",
       "KRX         49\n",
       "NR2X        43\n",
       "A2X         42\n",
       "BR2         27\n",
       "KR2         18\n",
       "K2          18\n",
       "N2X         17\n",
       "LX          10\n",
       "B2X          8\n",
       "KR2X         6\n",
       "K2X          5\n",
       "B2           5\n",
       "LRX          3\n",
       "LR           1\n",
       "dtype: int64"
      ]
     },
     "execution_count": 13,
     "metadata": {},
     "output_type": "execute_result"
    }
   ],
   "source": [
    "agns_v72.groupby('Type').size().sort_values(ascending=False)"
   ]
  },
  {
   "cell_type": "code",
   "execution_count": 16,
   "metadata": {},
   "outputs": [
    {
     "data": {
      "text/html": [
       "<div>\n",
       "<style scoped>\n",
       "    .dataframe tbody tr th:only-of-type {\n",
       "        vertical-align: middle;\n",
       "    }\n",
       "\n",
       "    .dataframe tbody tr th {\n",
       "        vertical-align: top;\n",
       "    }\n",
       "\n",
       "    .dataframe thead th {\n",
       "        text-align: right;\n",
       "    }\n",
       "</style>\n",
       "<table border=\"1\" class=\"dataframe\">\n",
       "  <thead>\n",
       "    <tr style=\"text-align: right;\">\n",
       "      <th></th>\n",
       "      <th>RAJ2000</th>\n",
       "      <th>DEJ2000</th>\n",
       "      <th>Name</th>\n",
       "      <th>Type</th>\n",
       "      <th>Rmag</th>\n",
       "      <th>Bmag</th>\n",
       "      <th>Comment</th>\n",
       "      <th>R</th>\n",
       "      <th>B</th>\n",
       "      <th>z</th>\n",
       "      <th>Qpct</th>\n",
       "      <th>XName</th>\n",
       "      <th>RName</th>\n",
       "      <th>Lobe1</th>\n",
       "      <th>Lobe2</th>\n",
       "    </tr>\n",
       "  </thead>\n",
       "  <tbody>\n",
       "    <tr>\n",
       "      <th>1343</th>\n",
       "      <td>0.212906</td>\n",
       "      <td>11.236500</td>\n",
       "      <td>SDSS J000051.09+111411.2</td>\n",
       "      <td>QRX</td>\n",
       "      <td>17.16</td>\n",
       "      <td>17.99</td>\n",
       "      <td>pG</td>\n",
       "      <td>-</td>\n",
       "      <td>-</td>\n",
       "      <td>0.865</td>\n",
       "      <td>99</td>\n",
       "      <td>2RXS J000051.2+111422</td>\n",
       "      <td>FIRST J000051.0+111411</td>\n",
       "      <td>VL0J000051.07+111411.6</td>\n",
       "      <td>NaN</td>\n",
       "    </tr>\n",
       "    <tr>\n",
       "      <th>1520</th>\n",
       "      <td>0.240825</td>\n",
       "      <td>29.710146</td>\n",
       "      <td>SDSS J000057.79+294236.4</td>\n",
       "      <td>QRX</td>\n",
       "      <td>20.10</td>\n",
       "      <td>20.11</td>\n",
       "      <td>gG</td>\n",
       "      <td>-</td>\n",
       "      <td>-</td>\n",
       "      <td>0.760</td>\n",
       "      <td>100</td>\n",
       "      <td>2RXS J000058.1+294227</td>\n",
       "      <td>VL0J000057.78+294236.5</td>\n",
       "      <td>NVSS J000058.1+294237</td>\n",
       "      <td>2RXP J000058.5+294234</td>\n",
       "    </tr>\n",
       "    <tr>\n",
       "      <th>1787</th>\n",
       "      <td>0.285889</td>\n",
       "      <td>19.242694</td>\n",
       "      <td>TEX 2358+189</td>\n",
       "      <td>QRX</td>\n",
       "      <td>20.50</td>\n",
       "      <td>21.19</td>\n",
       "      <td>j</td>\n",
       "      <td>1</td>\n",
       "      <td>1</td>\n",
       "      <td>3.100</td>\n",
       "      <td>100</td>\n",
       "      <td>2SXPS J000108.5+191431</td>\n",
       "      <td>VL0J000108.62+191434.1</td>\n",
       "      <td>NVSS J000108.6+191434</td>\n",
       "      <td>NaN</td>\n",
       "    </tr>\n",
       "    <tr>\n",
       "      <th>2071</th>\n",
       "      <td>0.330319</td>\n",
       "      <td>19.429377</td>\n",
       "      <td>SDSS J000119.28+192545.7</td>\n",
       "      <td>QRX</td>\n",
       "      <td>19.97</td>\n",
       "      <td>20.61</td>\n",
       "      <td>gG</td>\n",
       "      <td>-</td>\n",
       "      <td>1</td>\n",
       "      <td>1.253</td>\n",
       "      <td>98</td>\n",
       "      <td>2SXPS J000119.2+192541</td>\n",
       "      <td>NVSS J000119.2+192548</td>\n",
       "      <td></td>\n",
       "      <td>NaN</td>\n",
       "    </tr>\n",
       "    <tr>\n",
       "      <th>2227</th>\n",
       "      <td>0.353409</td>\n",
       "      <td>8.890468</td>\n",
       "      <td>SDSS J000124.81+085325.7</td>\n",
       "      <td>QRX</td>\n",
       "      <td>19.13</td>\n",
       "      <td>18.93</td>\n",
       "      <td>jG</td>\n",
       "      <td>-</td>\n",
       "      <td>-</td>\n",
       "      <td>1.051</td>\n",
       "      <td>99</td>\n",
       "      <td>2RXS J000124.9+085320</td>\n",
       "      <td>FIRST J000124.8+085325</td>\n",
       "      <td>NVSS J000124.8+085325</td>\n",
       "      <td>NaN</td>\n",
       "    </tr>\n",
       "  </tbody>\n",
       "</table>\n",
       "</div>"
      ],
      "text/plain": [
       "       RAJ2000    DEJ2000                       Name  Type   Rmag   Bmag  \\\n",
       "1343  0.212906  11.236500  SDSS J000051.09+111411.2   QRX   17.16  17.99   \n",
       "1520  0.240825  29.710146  SDSS J000057.79+294236.4   QRX   20.10  20.11   \n",
       "1787  0.285889  19.242694  TEX 2358+189               QRX   20.50  21.19   \n",
       "2071  0.330319  19.429377  SDSS J000119.28+192545.7   QRX   19.97  20.61   \n",
       "2227  0.353409   8.890468  SDSS J000124.81+085325.7   QRX   19.13  18.93   \n",
       "\n",
       "     Comment  R  B       z Qpct                   XName  \\\n",
       "1343     pG   -  -   0.865   99  2RXS J000051.2+111422    \n",
       "1520     gG   -  -   0.760  100  2RXS J000058.1+294227    \n",
       "1787     j    1  1   3.100  100  2SXPS J000108.5+191431   \n",
       "2071     gG   -  1   1.253   98  2SXPS J000119.2+192541   \n",
       "2227     jG   -  -   1.051   99  2RXS J000124.9+085320    \n",
       "\n",
       "                       RName                   Lobe1                  Lobe2  \n",
       "1343  FIRST J000051.0+111411  VL0J000051.07+111411.6                    NaN  \n",
       "1520  VL0J000057.78+294236.5  NVSS J000058.1+294237   2RXP J000058.5+294234  \n",
       "1787  VL0J000108.62+191434.1  NVSS J000108.6+191434                     NaN  \n",
       "2071  NVSS J000119.2+192548                                             NaN  \n",
       "2227  FIRST J000124.8+085325  NVSS J000124.8+085325                     NaN  "
      ]
     },
     "execution_count": 16,
     "metadata": {},
     "output_type": "execute_result"
    }
   ],
   "source": [
    "# seleziono il tipo \"QRX\" cioè QSO type-I broad-line core-dominated con associazione Radio e X (4093)\n",
    "agns_qrx = agns_v72.loc[agns_v72['Type'].str.strip() == 'QRX']\n",
    "agns_qrx.head()"
   ]
  },
  {
   "cell_type": "code",
   "execution_count": 18,
   "metadata": {},
   "outputs": [
    {
     "data": {
      "text/plain": [
       "(4093, 15)"
      ]
     },
     "execution_count": 18,
     "metadata": {},
     "output_type": "execute_result"
    }
   ],
   "source": [
    "# Dataset agns per run VOU_Blazars\n",
    "\n",
    "agns_qrx_labradec = agns_qrx[['RAJ2000','DEJ2000']]\n",
    "#agns_qrx_labradec.to_csv('agns_qrx_labelradec.csv', sep= ' ')\n",
    "agns_qrx.shape"
   ]
  },
  {
   "cell_type": "markdown",
   "metadata": {},
   "source": [
    "# Preprocessing of the SED data file obteined with VOU_Blazars\n",
    "\n",
    "At this point, the SED of each object (providing one) is built from `VOU-Blazars Tool`, in particular the SEDs go inside `~/Vou_Blazars/Results/SEDtool/`."
   ]
  },
  {
   "cell_type": "code",
   "execution_count": 19,
   "metadata": {},
   "outputs": [],
   "source": [
    "#funzione per creare una lista con i nomi dei file da analizzare\n",
    "\n",
    "import os\n",
    "def list_files_recursive(path):\n",
    "    \"\"\"\n",
    "    Function that receives as a parameter a directory path\n",
    "    :return list_: File List and Its Absolute Paths\n",
    "    \"\"\"\n",
    "    files = []\n",
    "    # r = root, d = directories, f = files\n",
    "    for r, d, f in os.walk(path):\n",
    "          for file in f:\n",
    "                if '.zip' in file:\n",
    "                    continue\n",
    "                files.append(os.path.join(r, file))\n",
    "                \n",
    "    return files"
   ]
  },
  {
   "cell_type": "code",
   "execution_count": 21,
   "metadata": {},
   "outputs": [
    {
     "name": "stdout",
     "output_type": "stream",
     "text": [
      "/home/elenagasparri/Documenti/Fisica/esame_cmepda/SED_Builder/Data\n"
     ]
    }
   ],
   "source": [
    "# Load SED data of the Blazars from my run of VOUB in /VOUB_blazarE\n",
    "dir_bzcat = 'VOUB_blazarE/'\n",
    "#dir_agn = 'VOUB_AGNCarlos/'\n",
    "\n",
    "print(os.getcwd())"
   ]
  },
  {
   "cell_type": "code",
   "execution_count": 22,
   "metadata": {
    "scrolled": true
   },
   "outputs": [
    {
     "name": "stdout",
     "output_type": "stream",
     "text": [
      "/home/elenagasparri/Documenti/Fisica/esame_cmepda/SED_Builder\n"
     ]
    }
   ],
   "source": [
    "cd /home/elenagasparri/Documenti/Fisica/esame_cmepda/SED_Builder"
   ]
  },
  {
   "cell_type": "code",
   "execution_count": 23,
   "metadata": {},
   "outputs": [
    {
     "name": "stdout",
     "output_type": "stream",
     "text": [
      " \u001b[0m\u001b[01;32m5BZCAT.csv\u001b[0m*\r\n",
      " agn_name.csv\r\n",
      " \u001b[01;34magns\u001b[0m/\r\n",
      " AGNs.csv\r\n",
      " \u001b[01;34magns_mqv7.2_name\u001b[0m/\r\n",
      " \u001b[01;34magns_mqv7.2_radec_qrx\u001b[0m/\r\n",
      " bzcat_catalougue_ssdc.csv\r\n",
      " bzcat_name.csv\r\n",
      " carlos_AGNSample_AllColumns_clean.csv\r\n",
      " Check_run_VOUB.ipynb\r\n",
      " \u001b[01;34mData\u001b[0m/\r\n",
      " geckodriver.log\r\n",
      " newfile.txt\r\n",
      " nn_data_v2.npz\r\n",
      " nn_data_v3.npz\r\n",
      " nn_data_voub.npz\r\n",
      " preparationSED_BUILDERdata.ipynb\r\n",
      " preparation_sedData_BinningHist.ipynb\r\n",
      " preparation_sedData_final_version.ipynb\r\n",
      " preparation_sedData_final_version-v2.ipynb\r\n",
      " preparation_sedData_final_version-v3-Copy1.ipynb\r\n",
      " preparation_sedData_final_version-v3.ipynb\r\n",
      " preparation_sedData.ipynb\r\n",
      " preparationVOUBdata.ipynb\r\n",
      " \u001b[01;34m__pycache__\u001b[0m/\r\n",
      " result_bzcat.txt\r\n",
      " \u001b[01;32mrun_sedbuilder_batch.sh\u001b[0m*\r\n",
      " run_sedbuilder.py\r\n",
      " run_sedbuilder_selenium_command.py\r\n",
      " run_sedbuilder_selenium_final.py\r\n",
      " \u001b[01;34msedData_2whsp_name\u001b[0m/\r\n",
      " \u001b[01;34msedData_bzcat_name\u001b[0m/\r\n",
      "\u001b[01;34m'SED with no data'\u001b[0m/\r\n",
      " \u001b[01;34mVOUB_AGNCarlos\u001b[0m/\r\n",
      " \u001b[01;34mVOUB_BlazarCarlos\u001b[0m/\r\n",
      " \u001b[01;34mVOUB_blazarE\u001b[0m/\r\n"
     ]
    }
   ],
   "source": [
    "cur_dir = os.getcwd()\n",
    "%ls"
   ]
  },
  {
   "cell_type": "code",
   "execution_count": 24,
   "metadata": {},
   "outputs": [],
   "source": [
    "# List of sed file for agn and blazar from VOUB\n",
    "\n",
    "path_bzcat = os.path.join(cur_dir, dir_bzcat)\n",
    "sed_bzcat = list_files_recursive(path_bzcat)\n",
    "#path_agn = os.path.join(cur_dir, dir_agn)\n",
    "#sed_agn_c = list_files_recursive(path_agn)"
   ]
  },
  {
   "cell_type": "code",
   "execution_count": 25,
   "metadata": {},
   "outputs": [
    {
     "data": {
      "text/plain": [
       "5699"
      ]
     },
     "execution_count": 25,
     "metadata": {},
     "output_type": "execute_result"
    }
   ],
   "source": [
    "# Number of sed of blazars finally found\n",
    "len(sed_bzcat)"
   ]
  },
  {
   "cell_type": "code",
   "execution_count": null,
   "metadata": {},
   "outputs": [],
   "source": [
    "# Number of sed of agns finally found\n",
    "len(sed_agn_c)"
   ]
  },
  {
   "cell_type": "code",
   "execution_count": null,
   "metadata": {},
   "outputs": [],
   "source": []
  },
  {
   "cell_type": "markdown",
   "metadata": {},
   "source": [
    "### Preprocessing sui file delle sed del Blazar Sample per preparare input rete neurale"
   ]
  },
  {
   "cell_type": "code",
   "execution_count": 27,
   "metadata": {},
   "outputs": [],
   "source": [
    "# Blazars\n",
    "\n",
    "freq_all_bl=[]                                  # inizializzazione array che conterrà tutte le frequenze del dataset\n",
    "flux_all_bl=[]                                  # inizializzazione array che conterrà tutti i flussi del dataset\n",
    "seddata_all_bl= []                              # inizializzazione tupla per il dataset completo rete neurale\n",
    "point_sed_bl =[]                                # inizializzazione array con numero di punti sed per sorgente\n",
    "\n",
    "for file in sed_bzcat:\n",
    "    df_sed = pd.read_csv(file, sep='|', names=['ra','dec','freq','dfreq','flux','dflux','mjd','dmjd','UL','UNK'])\n",
    "    ul_idx = df_sed[(df_sed.UL=='UL')].index    # trovo eventuali upper limit nel file\n",
    "    df_sed.drop(ul_idx,inplace=True)            # elimino upper limit\n",
    "    \n",
    "    freq_opt = []                               # np array fequenza flusso che non contengono upper limit\n",
    "    flux_opt = []                               # e misure ripetute\n",
    "    \n",
    "    sed_data= df_sed[['freq','flux']].to_numpy()\n",
    "    freq=sed_data[:,0]\n",
    "    flux=sed_data[:,1]\n",
    "    try:\n",
    "        #tolgo eventuali punti molto alti in flusso\n",
    "        strange_flux_index = [i for i in range(len(freq)) if flux[i]>= 1e-5 or flux[i]<0]\n",
    "        freq = np.delete(freq,strange_flux_index)\n",
    "        flux = np.delete(flux,strange_flux_index)\n",
    "        # se le frequenze sono ripetute, tengo la misura a flusso più alto\n",
    "        for i in range(len(freq)):\n",
    "            if np.size(np.where(freq_opt == freq[i]))>0:\n",
    "                if flux[i] > flux_opt[np.where(freq_opt == freq[i])]:\n",
    "                    flux_opt[np.where(freq_opt == freq[i])]=flux[i]\n",
    "            else:\n",
    "                freq_opt= np.append(freq_opt,freq[i])\n",
    "                flux_opt= np.append(flux_opt,flux[i])\n",
    "    except TypeError:\n",
    "        freq_opt= np.append(freq_opt,freq)                       # Nel caso ci sia una misura sola di flusso\n",
    "        flux_opt= np.append(flux_opt,flux)                       # non da errore ma appende semplicemente valore\n",
    "    \n",
    "    # Costruisco array di interesse\n",
    "    freq_all_bl = np.append(freq_all_bl,freq_opt)                   # array 1-D con tutte le frequenze\n",
    "    flux_all_bl = np.append(flux_all_bl,flux_opt)                   # array 1-D con tutti i flussi\n",
    "    freq_points_bl = np.unique(freq_all_bl)                         # array 1-D con solo le frequenze diverse presenti nel set blazars\n",
    "    freq_points_bl_ord = freq_points_bl[freq_points_bl.argsort()]   # array freq_points ordinato\n",
    "    seddata_all_bl.append((freq_opt,flux_opt))                      # tupla flux_all[i][j][k], i = source, j=0 or 1 freq or\n",
    "                                                                    # flux measure, [k] = k-riga dell'array\n",
    "    point_sed_bl = np.append(point_sed_bl,len(freq_opt))            # array con numero di punti per sed"
   ]
  },
  {
   "cell_type": "markdown",
   "metadata": {},
   "source": [
    "### Preprocessing sui file delle sed degli AGNs per preparare input rete neurale"
   ]
  },
  {
   "cell_type": "code",
   "execution_count": null,
   "metadata": {},
   "outputs": [],
   "source": [
    "# Dataset AGNs\n",
    "\n",
    "\n",
    "freq_all_agn=[]\n",
    "flux_all_bl=[]\n",
    "seddata_all_agn= []\n",
    "point_sed_agn =[]\n",
    "\n",
    "for file in sed_agn_c:\n",
    "    df_sed = pd.read_csv(file, sep='|', names=['ra','dec','freq','dfreq','flux','dflux','mjd','dmjd','UL','UNK'])\n",
    "    ul_idx = df_sed[(df_sed.UL=='UL')].index    # trovo eventuali upper limit nel file\n",
    "    df_sed.drop(ul_idx,inplace=True)            # elimino upper limit\n",
    "    \n",
    "    freq_opt = []\n",
    "    flux_opt = []\n",
    "    \n",
    "    sed_data= df_sed[['freq','flux']].to_numpy()\n",
    "    freq=sed_data[:,0]\n",
    "    flux=sed_data[:,1]\n",
    "    try:\n",
    "        #tolgo eventuali punti molto alti in flusso\n",
    "        strange_flux_index = [i for i in range(len(freq)) if flux[i]>= 1e-5 or flux[i]<0]\n",
    "        freq = np.delete(freq,strange_flux_index)\n",
    "        flux = np.delete(flux,strange_flux_index)\n",
    "        # se le frequenze sono ripetute, tengo la misura a flusso più alto\n",
    "        for i in range(len(freq)):\n",
    "            if np.size(np.where(freq_opt == freq[i]))>0:\n",
    "                if flux[i] > flux_opt[np.where(freq_opt == freq[i])]:\n",
    "                    flux_opt[np.where(freq_opt == freq[i])]=flux[i]\n",
    "            else:\n",
    "                freq_opt= np.append(freq_opt,freq[i])\n",
    "                flux_opt= np.append(flux_opt,flux[i])\n",
    "    except TypeError:\n",
    "        freq_opt= np.append(freq_opt,freq)                       # Nel caso ci sia una misura sola di flusso\n",
    "        flux_opt= np.append(flux_opt,flux)                       # non da errore ma appende semplicemente valore\n",
    "    \n",
    "    # Costruisco array di interesse\n",
    "    freq_all_agn = np.append(freq_all_agn,freq_opt)                    # array 1-D con tutte le frequenze\n",
    "    flux_all_agn = np.append(flux_all_agn,flux_opt)                   # array 1-D con tutti i flussi\n",
    "    freq_points_agn = np.unique(freq_all_agn)                          # array 1-D con solo le frequenze diverse presenti nel set agns\n",
    "    freq_points_agn_ord = freq_points_agn[freq_points_agn.argsort()]   # array freq_points ordinato\n",
    "    seddata_all_agn.append((freq_opt,flux_opt))                        # tupla seddata_all_agn[i][j][k], [i] = source, j=0 or 1 freq or\n",
    "                                                                       # flux measure, [k] = k-riga dell'array\n",
    "    point_sed_agn = np.append(point_sed_agn,len(freq_opt))             # array con numero di punti per sed"
   ]
  },
  {
   "cell_type": "code",
   "execution_count": 28,
   "metadata": {
    "scrolled": true
   },
   "outputs": [
    {
     "data": {
      "text/plain": [
       "(5603,)"
      ]
     },
     "execution_count": 28,
     "metadata": {},
     "output_type": "execute_result"
    }
   ],
   "source": [
    "freq_points_bl.shape"
   ]
  },
  {
   "cell_type": "code",
   "execution_count": 29,
   "metadata": {},
   "outputs": [
    {
     "data": {
      "text/plain": [
       "5699"
      ]
     },
     "execution_count": 29,
     "metadata": {},
     "output_type": "execute_result"
    }
   ],
   "source": [
    "len(seddata_all_bl)"
   ]
  },
  {
   "cell_type": "code",
   "execution_count": null,
   "metadata": {
    "scrolled": true
   },
   "outputs": [],
   "source": [
    "freq_points_agn.shape"
   ]
  },
  {
   "cell_type": "code",
   "execution_count": null,
   "metadata": {},
   "outputs": [],
   "source": [
    "len(seddata_all_agn)"
   ]
  },
  {
   "cell_type": "code",
   "execution_count": null,
   "metadata": {},
   "outputs": [],
   "source": []
  },
  {
   "cell_type": "markdown",
   "metadata": {},
   "source": [
    "# Generation of the dataset for the Neural Network"
   ]
  },
  {
   "cell_type": "code",
   "execution_count": 30,
   "metadata": {},
   "outputs": [
    {
     "data": {
      "text/plain": [
       "(5603,)"
      ]
     },
     "execution_count": 30,
     "metadata": {},
     "output_type": "execute_result"
    }
   ],
   "source": [
    "# Genero 'nn_freq_data' un vettore ordinato che contenga tutti i valori di frequenze diverse che compaiono nei due\n",
    "# data set blazars e agns per creare gli array di lunghezza identica da dare in pasto alla rete neurale\n",
    "\n",
    "#tot_freq = np.append(freq_points_bl_ord,freq_points_agn_ord)\n",
    "#tot_freq_un = np.unique(tot_freq)\n",
    "#nn_freq_data = tot_freq_un[tot_freq_un.argsort()]\n",
    "\n",
    "#nn_freq_data.shape\n",
    "\n",
    "#uso freq_points_bl_ord finche non ho dataset agn\n",
    "nn_freq_data = freq_points_bl_ord\n",
    "nn_freq_data.shape"
   ]
  },
  {
   "cell_type": "code",
   "execution_count": 31,
   "metadata": {},
   "outputs": [],
   "source": [
    "def GenerateDataSet(nn_frequencies, sed_values):\n",
    "    \"\"\"\n",
    "    Una funzione che dato un array di frequenze ordinato, genera una array con shape (N,2) dove i valori di flusso\n",
    "    sono disposti nella giusta posizione rispetto alla frequenza associata (assegna zero ai flussi non misurati).\n",
    "    Nella seconda colonna abbiamo un flag a 1 per dati presenti nel file della sed.\n",
    "    \n",
    "    nn_frequencies = numpy array ordinato con tutte le frequenze diverse presenti nei data set blazar + agns\n",
    "    sed_values = tupla che contiene tutti i dati sed (blazars o agn) [i]= sources, [j]= 0 (freq), 1(flux), [k]=k-riga dell'array\n",
    "    \n",
    "    \"\"\"\n",
    "    data = []\n",
    "    for x in sed_values:\n",
    "        temp = np.zeros((nn_frequencies.shape[0],2)) #np.zeros(freq_points.shape)\n",
    "        for i in range(len(x[0])):\n",
    "            idx = np.where(nn_frequencies == x[0][i])\n",
    "            temp[idx,0] = x[1][i]                 # temp[idx] = x[1][i]\n",
    "            temp[idx,1]=1                        # flag a 1 per presenza dati nella sed\n",
    "        data.append(temp)\n",
    "    return np.array(data)"
   ]
  },
  {
   "cell_type": "code",
   "execution_count": 32,
   "metadata": {},
   "outputs": [
    {
     "data": {
      "text/plain": [
       "(5699, 5603, 2)"
      ]
     },
     "execution_count": 32,
     "metadata": {},
     "output_type": "execute_result"
    }
   ],
   "source": [
    "# n-D array di numpy con i dati delle blazars per la rete neurale\n",
    "bl_data = GenerateDataSet(nn_freq_data, seddata_all_bl)\n",
    "\n",
    "bl_data.shape"
   ]
  },
  {
   "cell_type": "code",
   "execution_count": null,
   "metadata": {},
   "outputs": [],
   "source": [
    "# n-D array di numpy con i dati degli AGN non-blazazar per la rete neurale\n",
    "agn_data = GenerateDataSet(nn_freq_data, seddata_all_agn)\n",
    "\n",
    "agn_data.shape"
   ]
  },
  {
   "cell_type": "code",
   "execution_count": null,
   "metadata": {},
   "outputs": [],
   "source": [
    "# Salvo i due numpy.ndarray dei dati blazar e agn e l'array con le frequenze ordinate, nel file '.npz'\n",
    "# che userò nella rete neurale\n",
    "#np.savez('nn_data_voub.npz',bl_data = bl_data, agn_data = agn_data, nn_freq_data = nn_freq_data)"
   ]
  },
  {
   "cell_type": "markdown",
   "metadata": {},
   "source": [
    "# Some Plot of data"
   ]
  },
  {
   "cell_type": "code",
   "execution_count": 33,
   "metadata": {},
   "outputs": [],
   "source": [
    "# Histogram of the number of sources per amount of data points in the SED\n",
    "#plt.style.use('seaborn-white')\n",
    "def histData(points_bl, points_agn):\n",
    "    ''' Histogram of the amount of data points per SED file\n",
    "    -----------\n",
    "        points_bl = numpy array like points_per_sed of Blazars sources\n",
    "        points_agn = numpy array like points_per_sed of AGN sources\n",
    "    '''\n",
    "    plt.figure()\n",
    "    plt.title('Number of sources per amount of data points in the SED')\n",
    "    plt.xlabel('Points per SED')\n",
    "    plt.ylabel('Numbers of sources')\n",
    "    plt.grid(True)\n",
    "    bins = np.logspace(0, 3, 50)\n",
    "    plt.xscale('log')\n",
    "\n",
    "    n, bins, patches=plt.hist(points_bl, bins=bins, alpha=1.0, histtype='step', label='Blazars')\n",
    "    n_1, bins_1, patches_1=plt.hist(points_agn, bins=bins, alpha=1.0, histtype='step', label=f'AGNs')\n",
    "    plt.legend(loc='upper right')\n",
    "    plt.show()"
   ]
  },
  {
   "cell_type": "code",
   "execution_count": 34,
   "metadata": {
    "scrolled": false
   },
   "outputs": [
    {
     "data": {
      "image/png": "[encoded data removed]",
      "text/plain": [
       "<Figure size 432x288 with 1 Axes>"
      ]
     },
     "metadata": {
      "needs_background": "light"
     },
     "output_type": "display_data"
    }
   ],
   "source": [
    "#plot of VOUB data\n",
    "#histData(point_sed_bl,point_sed_agn)\n",
    "histData(point_sed_bl,point_sed_bl)"
   ]
  },
  {
   "cell_type": "code",
   "execution_count": 35,
   "metadata": {},
   "outputs": [],
   "source": [
    "# plotto le SED sovraposte di tutti i file per vedere come sono distribuiti i punti\n",
    "def sedDistribution(sed_data_all,mode):\n",
    "    ''' Plot of the SED files\n",
    "    -------------\n",
    "        sed_data_all = tupla con i dati completi freq e flux like seddata_all_***\n",
    "        mode = boolean , 'True' stands for blazar and 'False' for AGNs\n",
    "    '''\n",
    "    plt.figure()\n",
    "    if mode:\n",
    "        plt.title('Superimposed Plot of the SED of the entire Blazars dataset')\n",
    "    else:\n",
    "        plt.title('Superimposed Plot of the SED of the entire AGNs dataset')\n",
    "    plt.xlabel('Frequency (Hz)')\n",
    "    plt.ylabel(r'$\\nu F_{\\nu} (erg/cm^2/s)$')\n",
    "    plt.grid(True)\n",
    "    for sed in sed_data_all:\n",
    "        freq= sed[0]\n",
    "        flux= sed[1]\n",
    "        plt.loglog(freq, flux, 'b.', markersize=1)\n",
    "    plt.show()"
   ]
  },
  {
   "cell_type": "code",
   "execution_count": 36,
   "metadata": {
    "scrolled": true
   },
   "outputs": [
    {
     "data": {
      "image/png": "[encoded data removed]",
      "text/plain": [
       "<Figure size 432x288 with 1 Axes>"
      ]
     },
     "metadata": {
      "needs_background": "light"
     },
     "output_type": "display_data"
    }
   ],
   "source": [
    "sedDistribution(seddata_all_bl,True)"
   ]
  },
  {
   "cell_type": "code",
   "execution_count": null,
   "metadata": {},
   "outputs": [],
   "source": [
    "sedDistribution(seddata_all_agn,False)"
   ]
  },
  {
   "cell_type": "code",
   "execution_count": 37,
   "metadata": {},
   "outputs": [],
   "source": [
    "#Scatter plot of the SED files with color map for the recurrent point\n",
    "\n",
    "def sedColormapPlot(sed_data_all,mode):\n",
    "    ''' Scatter plot of the SED files with color map for the recurrent point\n",
    "    -------------\n",
    "        sed_data_all = tupla con i dati completi freq e flux like seddata_all_***\n",
    "        mode = boolean , 'True' stands for blazar and 'False' for AGNs\n",
    "    '''\n",
    "    dens = np.zeros((1,3))\n",
    "    for sed in sed_data_all:\n",
    "        freq= sed[0]\n",
    "        flux= sed[1]\n",
    "        # Con l'ndarray dens conto quante volte in totale ho una stessa misura di freq/flusso\n",
    "        # La terza colonna dell'array ci dice il numero di volte che è ripetuta la misura nell'intero dataset\n",
    "        for i in range(len(freq)):\n",
    "            if np.size(np.where(np.logical_and(dens[:,0] == freq[i], dens[:,1] == flux[i]))[0]) > 0:\n",
    "                dens[np.where(np.logical_and(dens[:,0] == freq[i], dens[:,1] == flux[i]))[0],2] += 1\n",
    "            else:\n",
    "                dens = np.vstack([dens,[freq[i],flux[i],1]])\n",
    "    densn = np.delete(dens,(0),axis=0)                              #tolgo la prima riga di zeri\n",
    "    \n",
    "    plt.figure()\n",
    "    fig,ax = plt.subplots()\n",
    "    if mode:\n",
    "        fig.suptitle('Density plots of the SEDs of Blazars data set')\n",
    "    else:\n",
    "        fig.suptitle('Density plots of the SEDs of AGNs data set')\n",
    "    ax.set_xlabel('Frequency (Hz)')\n",
    "    ax.set_ylabel(r'$\\nu F_{\\nu} (erg/cm^2/s)$')\n",
    "    ax.grid(False)\n",
    "    ax.set_xscale('log')\n",
    "    ax.set_yscale('log')\n",
    "    im = ax.scatter(densn[:,0],densn[:,1], c = densn[:,2], cmap ='viridis',marker='.', alpha=0.5)\n",
    "    fig.colorbar(im, ax=ax)\n",
    "    plt.show()"
   ]
  },
  {
   "cell_type": "code",
   "execution_count": 38,
   "metadata": {},
   "outputs": [
    {
     "data": {
      "text/plain": [
       "<Figure size 432x288 with 0 Axes>"
      ]
     },
     "metadata": {},
     "output_type": "display_data"
    },
    {
     "data": {
      "image/png": "[encoded data removed]",
      "text/plain": [
       "<Figure size 432x288 with 2 Axes>"
      ]
     },
     "metadata": {
      "needs_background": "light"
     },
     "output_type": "display_data"
    }
   ],
   "source": [
    "#plot of SED Builder data\n",
    "sedColormapPlot(seddata_all_bl,True)"
   ]
  },
  {
   "cell_type": "code",
   "execution_count": null,
   "metadata": {},
   "outputs": [],
   "source": [
    "#Plot of SED Builder Data\n",
    "sedColormapPlot(seddata_all_agn, False)"
   ]
  },
  {
   "cell_type": "code",
   "execution_count": 39,
   "metadata": {},
   "outputs": [],
   "source": [
    "# Hist2D of the SEDs in our blazars data set\n",
    "# freq_all e flux_all sono array con tutte le coppie di dati del dataset anche ripetute\n",
    "def hist2dSed(freq_all,flux_all,mode):\n",
    "    '''Hist2D of the SEDs of the entire data set.\n",
    "    ------------\n",
    "            freq_all,flux_all = 1D-array with all couple of data of type Blazar or AGNs\n",
    "            mode = boolean, 'True' for Blazars data and 'False' for AGNs data\n",
    "    '''\n",
    "    plt.figure()\n",
    "    if mode:\n",
    "        plt.title('2D Histogram of the SEDs of Blazars data set')\n",
    "    else:\n",
    "        plt.title('2D Histogram of the SEDs of AGNs data set')\n",
    "    plt.xlabel('Frequency (Hz)')\n",
    "    plt.ylabel(r'$\\nu F_{\\nu} (erg/cm^2/s)$')\n",
    "    plt.grid(False)\n",
    "\n",
    "    plt.xscale('log')\n",
    "    plt.yscale('log')\n",
    "\n",
    "    x_bins = np.logspace(6, 27,200)\n",
    "    y_bins = np.logspace(-20,-7,200)\n",
    "    #plt.hist2d(freq_all,flux_all, bins=[x_bins,y_bins], vmin =10, cmap = 'BuPu')\n",
    "    plt.hist2d(freq_all,flux_all, bins=[x_bins,y_bins], vmin =-10, cmap = 'twilight')\n",
    "    cb = plt.colorbar()\n",
    "    cb.set_label('counts in bin')\n",
    "    plt.show()"
   ]
  },
  {
   "cell_type": "code",
   "execution_count": 40,
   "metadata": {},
   "outputs": [
    {
     "data": {
      "image/png": "[encoded data removed]",
      "text/plain": [
       "<Figure size 432x288 with 2 Axes>"
      ]
     },
     "metadata": {
      "needs_background": "light"
     },
     "output_type": "display_data"
    }
   ],
   "source": [
    "hist2dSed(freq_all_bl,flux_all_bl,True)"
   ]
  },
  {
   "cell_type": "code",
   "execution_count": null,
   "metadata": {},
   "outputs": [],
   "source": [
    "hist2dSed(freq_all_agn,flux_all_agn,False)"
   ]
  },
  {
   "cell_type": "markdown",
   "metadata": {},
   "source": [
    "# Nuova analisi con le Blazar dal VOUB"
   ]
  },
  {
   "cell_type": "code",
   "execution_count": null,
   "metadata": {},
   "outputs": [],
   "source": [
    "# Modifiche per il mio dataset: 5603 frequenze diverse! Come gestirle?"
   ]
  },
  {
   "cell_type": "code",
   "execution_count": null,
   "metadata": {},
   "outputs": [],
   "source": []
  },
  {
   "cell_type": "code",
   "execution_count": null,
   "metadata": {},
   "outputs": [],
   "source": []
  },
  {
   "cell_type": "code",
   "execution_count": null,
   "metadata": {},
   "outputs": [],
   "source": [
    "# Genero 'nn_freq_data' un vettore ordinato che contenga tutti i valori di frequenze diverse che compaiono nei due\n",
    "# data set blazars e agns per creare gli array di lunghezza identica da dare in pasto alla rete neurale\n",
    "tot_freq = freq_points_bl_ord\n",
    "tot_freq_un = np.unique(tot_freq)\n",
    "nn_freq_data = tot_freq_un[tot_freq_un.argsort()]\n",
    "\n",
    "nn_freq_data.shape"
   ]
  },
  {
   "cell_type": "code",
   "execution_count": null,
   "metadata": {
    "scrolled": true
   },
   "outputs": [],
   "source": [
    "plt.xscale('log')\n",
    "plt.yscale('log')\n",
    "plt.scatter(nn_freq_data,nn_freq_data)"
   ]
  },
  {
   "cell_type": "code",
   "execution_count": null,
   "metadata": {},
   "outputs": [],
   "source": [
    "print('Min freq of dataset ', nn_freq_data.min())\n",
    "print('Max freq of dataset ', nn_freq_data.max())"
   ]
  },
  {
   "cell_type": "code",
   "execution_count": null,
   "metadata": {},
   "outputs": [],
   "source": [
    "bl_data_voub = GenerateDataSet(nn_freq_data, seddata_all_bl)\n",
    "\n",
    "bl_data_voub.shape"
   ]
  },
  {
   "cell_type": "code",
   "execution_count": null,
   "metadata": {
    "scrolled": true
   },
   "outputs": [],
   "source": [
    "#plot of VOUB data\n",
    "histData(point_sed_bl,point_sed_bl)"
   ]
  },
  {
   "cell_type": "markdown",
   "metadata": {},
   "source": [
    "# Idee per migliorare risultati"
   ]
  },
  {
   "cell_type": "code",
   "execution_count": null,
   "metadata": {},
   "outputs": [],
   "source": [
    "# binnare veramente: ho 5603 freq diverse creo la metà dei bin\n",
    "\n",
    "minf = nn_freq_data.min()\n",
    "maxf = nn_freq_data.max()\n",
    "bins = np.logspace(7, 28, 2802)\n",
    "digitized = np.digitize(nn_freq_data, bins)"
   ]
  },
  {
   "cell_type": "code",
   "execution_count": null,
   "metadata": {},
   "outputs": [],
   "source": []
  },
  {
   "cell_type": "code",
   "execution_count": null,
   "metadata": {},
   "outputs": [],
   "source": [
    "def rebin(arr, new_shape):\n",
    "    shape = (new_shape[0], arr.shape[0] // new_shape[0],\n",
    "             new_shape[1], arr.shape[1] // new_shape[1])\n",
    "    return arr.reshape(shape).mean(-1).mean(1)"
   ]
  },
  {
   "cell_type": "code",
   "execution_count": null,
   "metadata": {},
   "outputs": [],
   "source": [
    "a= np.linspace(1,100,100)"
   ]
  },
  {
   "cell_type": "code",
   "execution_count": null,
   "metadata": {},
   "outputs": [],
   "source": [
    "shape = (25, a.shape[0]//25)"
   ]
  },
  {
   "cell_type": "code",
   "execution_count": null,
   "metadata": {},
   "outputs": [],
   "source": [
    "b=a.reshape(shape).mean(-1)\n",
    "b"
   ]
  },
  {
   "cell_type": "code",
   "execution_count": null,
   "metadata": {},
   "outputs": [],
   "source": [
    "shape=(50,2)\n",
    "b=a.reshape(shape)\n",
    "b"
   ]
  }
 ],
 "metadata": {
  "kernelspec": {
   "display_name": "Python 3 (ipykernel)",
   "language": "python",
   "name": "python3"
  },
  "language_info": {
   "codemirror_mode": {
    "name": "ipython",
    "version": 3
   },
   "file_extension": ".py",
   "mimetype": "text/x-python",
   "name": "python",
   "nbconvert_exporter": "python",
   "pygments_lexer": "ipython3",
   "version": "3.8.8"
  }
 },
 "nbformat": 4,
 "nbformat_minor": 2
}
