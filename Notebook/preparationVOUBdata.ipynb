{
 "cells": [
  {
   "cell_type": "markdown",
   "metadata": {},
   "source": [
    "# Blazars/Non-Blazars (AGNs) Samples Definition\n",
    "\n",
    "### These notebook is to define the samples of sed data of blazars and non-blazar objects for future training of the neural network.\n",
    "\n",
    "A list of ID and coordinates (RA, Dec) is obtained for the blazar dataset (5699 from the OU4v2 catalog) and for agns (3489 from the mqv7.2 catalog).\n",
    "\n",
    "This list will be given as input to the VOU_Blazar tool (Radius of 15 arcsec) to get the files with the sed data."
   ]
  },
  {
   "cell_type": "code",
   "execution_count": 1,
   "metadata": {},
   "outputs": [
    {
     "name": "stdout",
     "output_type": "stream",
     "text": [
      "1.4.1\n",
      "1.18.5\n"
     ]
    }
   ],
   "source": [
    "import matplotlib\n",
    "from matplotlib import pyplot as plt\n",
    "%matplotlib inline\n",
    "\n",
    "import pandas as pd\n",
    "print(pd.__version__)\n",
    "\n",
    "import numpy as np\n",
    "print(np.__version__)\n",
    "\n",
    "import os"
   ]
  },
  {
   "cell_type": "code",
   "execution_count": 2,
   "metadata": {},
   "outputs": [],
   "source": [
    "blcatalog = 'OU4Bl_v2.csv'\n",
    "agncatalog = 'milliquasv7.2.txt'"
   ]
  },
  {
   "cell_type": "code",
   "execution_count": 16,
   "metadata": {},
   "outputs": [
    {
     "name": "stdout",
     "output_type": "stream",
     "text": [
      "2whsp_list.csv                 ic170922a_agilesearch.ipynb\r\n",
      "3hsp.csv                       milliquasv7.2.txt\r\n",
      "5bzcat_list.csv                mqv7.2agn_qrx.csv\r\n",
      "blazar_model_v6_kfold.ipynb    newfile.txt\r\n",
      "blazar_model_v6_nokfold.ipynb  OU4Bl_v2.csv\r\n",
      "\u001b[0m\u001b[01;34mdata\u001b[0m/                          preparationSED_BUILDERdata.ipynb\r\n",
      "example_txs0506+056.ipynb      preparationVOUBdata.ipynb\r\n"
     ]
    }
   ],
   "source": [
    "%ls"
   ]
  },
  {
   "cell_type": "markdown",
   "metadata": {},
   "source": [
    "# Blazar sample"
   ]
  },
  {
   "cell_type": "code",
   "execution_count": 4,
   "metadata": {},
   "outputs": [
    {
     "data": {
      "text/html": [
       "<div>\n",
       "<style scoped>\n",
       "    .dataframe tbody tr th:only-of-type {\n",
       "        vertical-align: middle;\n",
       "    }\n",
       "\n",
       "    .dataframe tbody tr th {\n",
       "        vertical-align: top;\n",
       "    }\n",
       "\n",
       "    .dataframe thead th {\n",
       "        text-align: right;\n",
       "    }\n",
       "</style>\n",
       "<table border=\"1\" class=\"dataframe\">\n",
       "  <thead>\n",
       "    <tr style=\"text-align: right;\">\n",
       "      <th></th>\n",
       "      <th>id</th>\n",
       "      <th>Source name</th>\n",
       "      <th>R.A.</th>\n",
       "      <th>Dec</th>\n",
       "      <th>Radio flux d.</th>\n",
       "      <th>Fermi flux</th>\n",
       "      <th>Log nu_peak</th>\n",
       "      <th>Redshift</th>\n",
       "      <th>Original catalog</th>\n",
       "    </tr>\n",
       "  </thead>\n",
       "  <tbody>\n",
       "    <tr>\n",
       "      <th>5531</th>\n",
       "      <td>5532</td>\n",
       "      <td>5BZQJ2150-2812</td>\n",
       "      <td>21 50 53.08</td>\n",
       "      <td>-28 12 42.69</td>\n",
       "      <td>307.0</td>\n",
       "      <td>3.400000e-12</td>\n",
       "      <td>0.0</td>\n",
       "      <td>0.865</td>\n",
       "      <td>5BZCAT</td>\n",
       "    </tr>\n",
       "    <tr>\n",
       "      <th>2603</th>\n",
       "      <td>2604</td>\n",
       "      <td>3HSPJ102432.3-454426.9</td>\n",
       "      <td>10 24 32.35</td>\n",
       "      <td>-45 44 26.8</td>\n",
       "      <td>0.0</td>\n",
       "      <td>2.780000e-12</td>\n",
       "      <td>17.0</td>\n",
       "      <td>0.370</td>\n",
       "      <td>3HSP</td>\n",
       "    </tr>\n",
       "    <tr>\n",
       "      <th>3039</th>\n",
       "      <td>3040</td>\n",
       "      <td>5BZQJ1148-0404</td>\n",
       "      <td>11 48 55.86</td>\n",
       "      <td>-04 04 09.51</td>\n",
       "      <td>175.0</td>\n",
       "      <td>0.000000e+00</td>\n",
       "      <td>0.0</td>\n",
       "      <td>0.340</td>\n",
       "      <td>5BZCAT</td>\n",
       "    </tr>\n",
       "    <tr>\n",
       "      <th>5559</th>\n",
       "      <td>5560</td>\n",
       "      <td>5BZQJ2157+3127</td>\n",
       "      <td>21 57 28.81</td>\n",
       "      <td>+31 27 01.4</td>\n",
       "      <td>424.0</td>\n",
       "      <td>3.320000e-11</td>\n",
       "      <td>0.0</td>\n",
       "      <td>1.486</td>\n",
       "      <td>5BZCAT</td>\n",
       "    </tr>\n",
       "    <tr>\n",
       "      <th>3345</th>\n",
       "      <td>3346</td>\n",
       "      <td>5BZBJ1241+3440</td>\n",
       "      <td>12 41 41.4</td>\n",
       "      <td>+34 40 31.0</td>\n",
       "      <td>10.0</td>\n",
       "      <td>1.590000e-12</td>\n",
       "      <td>17.2</td>\n",
       "      <td>0.000</td>\n",
       "      <td>5BZCAT</td>\n",
       "    </tr>\n",
       "    <tr>\n",
       "      <th>971</th>\n",
       "      <td>972</td>\n",
       "      <td>5BZBJ0336-0347</td>\n",
       "      <td>03 36 23.8</td>\n",
       "      <td>-03 47 38.61</td>\n",
       "      <td>54.0</td>\n",
       "      <td>1.370000e-12</td>\n",
       "      <td>17.3</td>\n",
       "      <td>0.162</td>\n",
       "      <td>5BZCAT</td>\n",
       "    </tr>\n",
       "    <tr>\n",
       "      <th>383</th>\n",
       "      <td>384</td>\n",
       "      <td>5BZBJ0124+3249</td>\n",
       "      <td>01 24 30.54</td>\n",
       "      <td>+32 49 46.3</td>\n",
       "      <td>14.0</td>\n",
       "      <td>0.000000e+00</td>\n",
       "      <td>16.5</td>\n",
       "      <td>0.000</td>\n",
       "      <td>5BZCAT</td>\n",
       "    </tr>\n",
       "    <tr>\n",
       "      <th>5541</th>\n",
       "      <td>5542</td>\n",
       "      <td>5BZBJ2152+1734</td>\n",
       "      <td>21 52 24.82</td>\n",
       "      <td>+17 34 37.81</td>\n",
       "      <td>681.0</td>\n",
       "      <td>1.620000e-12</td>\n",
       "      <td>0.0</td>\n",
       "      <td>0.000</td>\n",
       "      <td>5BZCAT</td>\n",
       "    </tr>\n",
       "    <tr>\n",
       "      <th>2393</th>\n",
       "      <td>2394</td>\n",
       "      <td>3HSPJ094502.0-044833.8</td>\n",
       "      <td>09 45 02.02</td>\n",
       "      <td>-04 48 33.8</td>\n",
       "      <td>28.8</td>\n",
       "      <td>0.000000e+00</td>\n",
       "      <td>16.2</td>\n",
       "      <td>0.430</td>\n",
       "      <td>3HSP</td>\n",
       "    </tr>\n",
       "    <tr>\n",
       "      <th>303</th>\n",
       "      <td>304</td>\n",
       "      <td>4FGLJ0107.3-1210</td>\n",
       "      <td>01 07 11.77</td>\n",
       "      <td>-12 11 23.71</td>\n",
       "      <td>59.9</td>\n",
       "      <td>2.750000e-12</td>\n",
       "      <td>0.0</td>\n",
       "      <td>0.000</td>\n",
       "      <td>Fermi 3LAC</td>\n",
       "    </tr>\n",
       "  </tbody>\n",
       "</table>\n",
       "</div>"
      ],
      "text/plain": [
       "        id             Source name         R.A.           Dec  Radio flux d.  \\\n",
       "5531  5532         5BZQJ2150-2812   21 50 53.08  -28 12 42.69          307.0   \n",
       "2603  2604  3HSPJ102432.3-454426.9  10 24 32.35   -45 44 26.8            0.0   \n",
       "3039  3040         5BZQJ1148-0404   11 48 55.86  -04 04 09.51          175.0   \n",
       "5559  5560         5BZQJ2157+3127   21 57 28.81   +31 27 01.4          424.0   \n",
       "3345  3346         5BZBJ1241+3440    12 41 41.4   +34 40 31.0           10.0   \n",
       "971    972         5BZBJ0336-0347    03 36 23.8  -03 47 38.61           54.0   \n",
       "383    384         5BZBJ0124+3249   01 24 30.54   +32 49 46.3           14.0   \n",
       "5541  5542         5BZBJ2152+1734   21 52 24.82  +17 34 37.81          681.0   \n",
       "2393  2394  3HSPJ094502.0-044833.8  09 45 02.02   -04 48 33.8           28.8   \n",
       "303    304       4FGLJ0107.3-1210   01 07 11.77  -12 11 23.71           59.9   \n",
       "\n",
       "        Fermi flux  Log nu_peak  Redshift Original catalog  \n",
       "5531  3.400000e-12          0.0     0.865           5BZCAT  \n",
       "2603  2.780000e-12         17.0     0.370             3HSP  \n",
       "3039  0.000000e+00          0.0     0.340           5BZCAT  \n",
       "5559  3.320000e-11          0.0     1.486           5BZCAT  \n",
       "3345  1.590000e-12         17.2     0.000           5BZCAT  \n",
       "971   1.370000e-12         17.3     0.162           5BZCAT  \n",
       "383   0.000000e+00         16.5     0.000           5BZCAT  \n",
       "5541  1.620000e-12          0.0     0.000           5BZCAT  \n",
       "2393  0.000000e+00         16.2     0.430             3HSP  \n",
       "303   2.750000e-12          0.0     0.000       Fermi 3LAC  "
      ]
     },
     "execution_count": 4,
     "metadata": {},
     "output_type": "execute_result"
    }
   ],
   "source": [
    "ou4bl = pd.read_csv(blcatalog, encoding='utf-8-sig')\n",
    "ou4bl.sample(10)"
   ]
  },
  {
   "cell_type": "code",
   "execution_count": 5,
   "metadata": {},
   "outputs": [],
   "source": [
    "# convert coordinates\n",
    "def sex2deg(ra,dec):\n",
    "    h,m,s = list(map(float,ra.split()))\n",
    "    ra = s / 86400\n",
    "    ra += m / 1440\n",
    "    ra += h / 24\n",
    "    ra *= 360\n",
    "    \n",
    "    d,m,s = dec.split()\n",
    "    dec = float(s) / 3600\n",
    "    dec += float(m) / 60\n",
    "    if d[0] == '-':\n",
    "        dec = float(d) - dec\n",
    "    else:\n",
    "        dec = float(d) + dec\n",
    "    \n",
    "    return ra,dec"
   ]
  },
  {
   "cell_type": "code",
   "execution_count": 6,
   "metadata": {},
   "outputs": [],
   "source": [
    "RA_COL = 'R.A.'\n",
    "DEC_COL = 'Dec'\n",
    "def apply_df(df):\n",
    "    try:\n",
    "        bla = list(sex2deg(df[RA_COL],df[DEC_COL]))\n",
    "    except:\n",
    "        bla = [None,None]\n",
    "    return bla\n",
    "\n",
    "ou4bl[['RA','DEC']] = ou4bl.apply(apply_df, axis=1, result_type = 'expand')"
   ]
  },
  {
   "cell_type": "code",
   "execution_count": 7,
   "metadata": {
    "scrolled": true
   },
   "outputs": [
    {
     "data": {
      "text/html": [
       "<div>\n",
       "<style scoped>\n",
       "    .dataframe tbody tr th:only-of-type {\n",
       "        vertical-align: middle;\n",
       "    }\n",
       "\n",
       "    .dataframe tbody tr th {\n",
       "        vertical-align: top;\n",
       "    }\n",
       "\n",
       "    .dataframe thead th {\n",
       "        text-align: right;\n",
       "    }\n",
       "</style>\n",
       "<table border=\"1\" class=\"dataframe\">\n",
       "  <thead>\n",
       "    <tr style=\"text-align: right;\">\n",
       "      <th></th>\n",
       "      <th>id</th>\n",
       "      <th>Source name</th>\n",
       "      <th>R.A.</th>\n",
       "      <th>Dec</th>\n",
       "      <th>Radio flux d.</th>\n",
       "      <th>Fermi flux</th>\n",
       "      <th>Log nu_peak</th>\n",
       "      <th>Redshift</th>\n",
       "      <th>Original catalog</th>\n",
       "      <th>RA</th>\n",
       "      <th>DEC</th>\n",
       "    </tr>\n",
       "  </thead>\n",
       "  <tbody>\n",
       "    <tr>\n",
       "      <th>0</th>\n",
       "      <td>1</td>\n",
       "      <td>3HSPJ000236.0-081532.4</td>\n",
       "      <td>00 02 36.06</td>\n",
       "      <td>-08 15 32.4</td>\n",
       "      <td>29.0</td>\n",
       "      <td>0.000000e+00</td>\n",
       "      <td>16.0</td>\n",
       "      <td>0.390</td>\n",
       "      <td>3HSP</td>\n",
       "      <td>0.650250</td>\n",
       "      <td>-8.259000</td>\n",
       "    </tr>\n",
       "    <tr>\n",
       "      <th>1</th>\n",
       "      <td>2</td>\n",
       "      <td>5BZBJ0002-0024</td>\n",
       "      <td>00 02 57.16</td>\n",
       "      <td>-00 24 47.01</td>\n",
       "      <td>178.0</td>\n",
       "      <td>0.000000e+00</td>\n",
       "      <td>0.0</td>\n",
       "      <td>0.523</td>\n",
       "      <td>5BZCAT</td>\n",
       "      <td>0.738167</td>\n",
       "      <td>-0.413058</td>\n",
       "    </tr>\n",
       "    <tr>\n",
       "      <th>2</th>\n",
       "      <td>3</td>\n",
       "      <td>4FGLJ0003.3-5905</td>\n",
       "      <td>00 03 13.32</td>\n",
       "      <td>-59 05 47.61</td>\n",
       "      <td>505.9</td>\n",
       "      <td>1.680000e-12</td>\n",
       "      <td>0.0</td>\n",
       "      <td>0.000</td>\n",
       "      <td>Fermi 4LAC</td>\n",
       "      <td>0.805500</td>\n",
       "      <td>-59.096558</td>\n",
       "    </tr>\n",
       "    <tr>\n",
       "      <th>3</th>\n",
       "      <td>4</td>\n",
       "      <td>4FGLJ0003.3-1928</td>\n",
       "      <td>00 03 18.66</td>\n",
       "      <td>-19 27 22.28</td>\n",
       "      <td>171.0</td>\n",
       "      <td>2.590000e-12</td>\n",
       "      <td>0.0</td>\n",
       "      <td>0.000</td>\n",
       "      <td>Fermi 4LAC</td>\n",
       "      <td>0.827750</td>\n",
       "      <td>-19.456189</td>\n",
       "    </tr>\n",
       "    <tr>\n",
       "      <th>4</th>\n",
       "      <td>5</td>\n",
       "      <td>5BZQJ0003+2129</td>\n",
       "      <td>00 03 19.32</td>\n",
       "      <td>+21 29 44.48</td>\n",
       "      <td>83.0</td>\n",
       "      <td>0.000000e+00</td>\n",
       "      <td>0.0</td>\n",
       "      <td>0.450</td>\n",
       "      <td>5BZCAT</td>\n",
       "      <td>0.830500</td>\n",
       "      <td>21.495689</td>\n",
       "    </tr>\n",
       "  </tbody>\n",
       "</table>\n",
       "</div>"
      ],
      "text/plain": [
       "   id             Source name         R.A.           Dec  Radio flux d.  \\\n",
       "0   1  3HSPJ000236.0-081532.4  00 02 36.06   -08 15 32.4           29.0   \n",
       "1   2         5BZBJ0002-0024   00 02 57.16  -00 24 47.01          178.0   \n",
       "2   3       4FGLJ0003.3-5905   00 03 13.32  -59 05 47.61          505.9   \n",
       "3   4       4FGLJ0003.3-1928   00 03 18.66  -19 27 22.28          171.0   \n",
       "4   5         5BZQJ0003+2129   00 03 19.32  +21 29 44.48           83.0   \n",
       "\n",
       "     Fermi flux  Log nu_peak  Redshift Original catalog        RA        DEC  \n",
       "0  0.000000e+00         16.0     0.390             3HSP  0.650250  -8.259000  \n",
       "1  0.000000e+00          0.0     0.523           5BZCAT  0.738167  -0.413058  \n",
       "2  1.680000e-12          0.0     0.000       Fermi 4LAC  0.805500 -59.096558  \n",
       "3  2.590000e-12          0.0     0.000       Fermi 4LAC  0.827750 -19.456189  \n",
       "4  0.000000e+00          0.0     0.450           5BZCAT  0.830500  21.495689  "
      ]
     },
     "execution_count": 7,
     "metadata": {},
     "output_type": "execute_result"
    }
   ],
   "source": [
    "ou4bl.head()"
   ]
  },
  {
   "cell_type": "code",
   "execution_count": 8,
   "metadata": {},
   "outputs": [
    {
     "data": {
      "text/plain": [
       "Index(['id', 'Source name', 'R.A.', 'Dec', 'Radio flux d.', 'Fermi flux',\n",
       "       'Log nu_peak', 'Redshift', 'Original catalog', 'RA', 'DEC'],\n",
       "      dtype='object')"
      ]
     },
     "execution_count": 8,
     "metadata": {},
     "output_type": "execute_result"
    }
   ],
   "source": [
    "ou4bl.columns"
   ]
  },
  {
   "cell_type": "code",
   "execution_count": 9,
   "metadata": {},
   "outputs": [
    {
     "data": {
      "text/plain": [
       "Original catalog\n",
       "5BZCAT        3561\n",
       "3HSP          1353\n",
       "Fermi 4LAC     748\n",
       "Fermi 3LAC     415\n",
       "dtype: int64"
      ]
     },
     "execution_count": 9,
     "metadata": {},
     "output_type": "execute_result"
    }
   ],
   "source": [
    "# Description of the Blazars in the catalog\n",
    "ou4bl.groupby('Original catalog').size().sort_values(ascending=False)"
   ]
  },
  {
   "cell_type": "code",
   "execution_count": 10,
   "metadata": {},
   "outputs": [],
   "source": [
    "# define the colums of interest\n",
    "col = dict(idn='id',\n",
    "           ra='RA',\n",
    "           dec='DEC',\n",
    "           name='Source name',\n",
    "           redshift='Redshift',\n",
    "           flux_radio='Radio flux d.',\n",
    "           fermi_flux='Fermi flux',\n",
    "           nupk='Log nu_peak',\n",
    "           catalog='Original catalog'\n",
    "          )"
   ]
  },
  {
   "cell_type": "code",
   "execution_count": null,
   "metadata": {},
   "outputs": [],
   "source": [
    "# Dataset per il run con VOU_Blazars in batch mode (6077 Blazars)\n",
    "\n",
    "#ou4bl[[col['idn'],col['ra'],col['dec']]].to_csv('ou4bl_labelradec.csv', sep= ' ', encoding='utf-8-sig', index=False, float_format='%.5f')"
   ]
  },
  {
   "cell_type": "markdown",
   "metadata": {},
   "source": [
    "# AGNs Sample"
   ]
  },
  {
   "cell_type": "code",
   "execution_count": 11,
   "metadata": {
    "scrolled": true
   },
   "outputs": [
    {
     "data": {
      "text/html": [
       "<div>\n",
       "<style scoped>\n",
       "    .dataframe tbody tr th:only-of-type {\n",
       "        vertical-align: middle;\n",
       "    }\n",
       "\n",
       "    .dataframe tbody tr th {\n",
       "        vertical-align: top;\n",
       "    }\n",
       "\n",
       "    .dataframe thead th {\n",
       "        text-align: right;\n",
       "    }\n",
       "</style>\n",
       "<table border=\"1\" class=\"dataframe\">\n",
       "  <thead>\n",
       "    <tr style=\"text-align: right;\">\n",
       "      <th></th>\n",
       "      <th>RAJ2000</th>\n",
       "      <th>DEJ2000</th>\n",
       "      <th>Name</th>\n",
       "      <th>Type</th>\n",
       "      <th>Rmag</th>\n",
       "      <th>Bmag</th>\n",
       "      <th>Comment</th>\n",
       "      <th>R</th>\n",
       "      <th>B</th>\n",
       "      <th>z</th>\n",
       "      <th>Qpct</th>\n",
       "      <th>XName</th>\n",
       "      <th>RName</th>\n",
       "      <th>Lobe1</th>\n",
       "      <th>Lobe2</th>\n",
       "    </tr>\n",
       "  </thead>\n",
       "  <tbody>\n",
       "    <tr>\n",
       "      <th>1300283</th>\n",
       "      <td>265.690689</td>\n",
       "      <td>79.514446</td>\n",
       "      <td>WISEA J174245.76+793052.0</td>\n",
       "      <td>q</td>\n",
       "      <td>19.42</td>\n",
       "      <td>20.55</td>\n",
       "      <td>pG</td>\n",
       "      <td>-</td>\n",
       "      <td>-</td>\n",
       "      <td>0.700</td>\n",
       "      <td>100</td>\n",
       "      <td></td>\n",
       "      <td></td>\n",
       "      <td></td>\n",
       "      <td>NaN</td>\n",
       "    </tr>\n",
       "    <tr>\n",
       "      <th>627337</th>\n",
       "      <td>149.927113</td>\n",
       "      <td>-35.173373</td>\n",
       "      <td>WISEA J095942.50-351024.1</td>\n",
       "      <td>qR</td>\n",
       "      <td>18.65</td>\n",
       "      <td>19.78</td>\n",
       "      <td>j</td>\n",
       "      <td>1</td>\n",
       "      <td>1</td>\n",
       "      <td>0.100</td>\n",
       "      <td>90</td>\n",
       "      <td></td>\n",
       "      <td>VL0J095942.48-351023.0</td>\n",
       "      <td>NVSS J095942.5-351025</td>\n",
       "      <td>NaN</td>\n",
       "    </tr>\n",
       "    <tr>\n",
       "      <th>313234</th>\n",
       "      <td>60.623395</td>\n",
       "      <td>-17.817754</td>\n",
       "      <td>WISEA J040229.62-174903.6</td>\n",
       "      <td>q</td>\n",
       "      <td>19.37</td>\n",
       "      <td>20.16</td>\n",
       "      <td>pG</td>\n",
       "      <td>1</td>\n",
       "      <td>-</td>\n",
       "      <td>2.200</td>\n",
       "      <td>100</td>\n",
       "      <td></td>\n",
       "      <td></td>\n",
       "      <td></td>\n",
       "      <td>NaN</td>\n",
       "    </tr>\n",
       "    <tr>\n",
       "      <th>1268723</th>\n",
       "      <td>254.804384</td>\n",
       "      <td>44.486908</td>\n",
       "      <td>WISEA J165913.05+442912.9</td>\n",
       "      <td>q</td>\n",
       "      <td>18.80</td>\n",
       "      <td>20.54</td>\n",
       "      <td>pG</td>\n",
       "      <td>-</td>\n",
       "      <td>-</td>\n",
       "      <td>0.600</td>\n",
       "      <td>68</td>\n",
       "      <td></td>\n",
       "      <td></td>\n",
       "      <td></td>\n",
       "      <td>NaN</td>\n",
       "    </tr>\n",
       "    <tr>\n",
       "      <th>503613</th>\n",
       "      <td>129.676730</td>\n",
       "      <td>23.913396</td>\n",
       "      <td>SDSS J083842.41+235448.2</td>\n",
       "      <td>A</td>\n",
       "      <td>16.85</td>\n",
       "      <td>18.00</td>\n",
       "      <td>pa+</td>\n",
       "      <td>1</td>\n",
       "      <td>1</td>\n",
       "      <td>0.119</td>\n",
       "      <td></td>\n",
       "      <td></td>\n",
       "      <td></td>\n",
       "      <td></td>\n",
       "      <td>NaN</td>\n",
       "    </tr>\n",
       "    <tr>\n",
       "      <th>79817</th>\n",
       "      <td>12.659240</td>\n",
       "      <td>14.839538</td>\n",
       "      <td>SDSS J005038.22+145022.3</td>\n",
       "      <td>Q</td>\n",
       "      <td>19.46</td>\n",
       "      <td>19.85</td>\n",
       "      <td>gmG</td>\n",
       "      <td>-</td>\n",
       "      <td>-</td>\n",
       "      <td>1.273</td>\n",
       "      <td></td>\n",
       "      <td></td>\n",
       "      <td></td>\n",
       "      <td></td>\n",
       "      <td>NaN</td>\n",
       "    </tr>\n",
       "    <tr>\n",
       "      <th>1115050</th>\n",
       "      <td>225.234965</td>\n",
       "      <td>37.027915</td>\n",
       "      <td>SDSS J150056.38+370140.4</td>\n",
       "      <td>Q</td>\n",
       "      <td>19.97</td>\n",
       "      <td>20.47</td>\n",
       "      <td>jG</td>\n",
       "      <td>-</td>\n",
       "      <td>-</td>\n",
       "      <td>1.736</td>\n",
       "      <td></td>\n",
       "      <td></td>\n",
       "      <td></td>\n",
       "      <td></td>\n",
       "      <td>NaN</td>\n",
       "    </tr>\n",
       "    <tr>\n",
       "      <th>1032574</th>\n",
       "      <td>212.715683</td>\n",
       "      <td>-32.288022</td>\n",
       "      <td>WISEA J141051.76-321716.8</td>\n",
       "      <td>q</td>\n",
       "      <td>18.69</td>\n",
       "      <td>20.09</td>\n",
       "      <td>pmG</td>\n",
       "      <td>-</td>\n",
       "      <td>-</td>\n",
       "      <td>1.100</td>\n",
       "      <td>99</td>\n",
       "      <td></td>\n",
       "      <td></td>\n",
       "      <td></td>\n",
       "      <td>NaN</td>\n",
       "    </tr>\n",
       "    <tr>\n",
       "      <th>452547</th>\n",
       "      <td>120.287833</td>\n",
       "      <td>50.796111</td>\n",
       "      <td>J080109.08+504746.0</td>\n",
       "      <td>X</td>\n",
       "      <td>22.35</td>\n",
       "      <td>23.09</td>\n",
       "      <td>g</td>\n",
       "      <td>-</td>\n",
       "      <td>-</td>\n",
       "      <td></td>\n",
       "      <td>75</td>\n",
       "      <td>2SXPS J080109.4+504743</td>\n",
       "      <td></td>\n",
       "      <td></td>\n",
       "      <td>NaN</td>\n",
       "    </tr>\n",
       "    <tr>\n",
       "      <th>752802</th>\n",
       "      <td>169.532333</td>\n",
       "      <td>48.279066</td>\n",
       "      <td>SDSS J111807.76+481644.6</td>\n",
       "      <td>Q</td>\n",
       "      <td>19.99</td>\n",
       "      <td>20.54</td>\n",
       "      <td>gG</td>\n",
       "      <td>-</td>\n",
       "      <td>-</td>\n",
       "      <td>1.095</td>\n",
       "      <td></td>\n",
       "      <td></td>\n",
       "      <td></td>\n",
       "      <td></td>\n",
       "      <td>NaN</td>\n",
       "    </tr>\n",
       "  </tbody>\n",
       "</table>\n",
       "</div>"
      ],
      "text/plain": [
       "            RAJ2000    DEJ2000                       Name  Type   Rmag   Bmag  \\\n",
       "1300283  265.690689  79.514446  WISEA J174245.76+793052.0  q     19.42  20.55   \n",
       "627337   149.927113 -35.173373  WISEA J095942.50-351024.1  qR    18.65  19.78   \n",
       "313234    60.623395 -17.817754  WISEA J040229.62-174903.6  q     19.37  20.16   \n",
       "1268723  254.804384  44.486908  WISEA J165913.05+442912.9  q     18.80  20.54   \n",
       "503613   129.676730  23.913396  SDSS J083842.41+235448.2   A     16.85  18.00   \n",
       "79817     12.659240  14.839538  SDSS J005038.22+145022.3   Q     19.46  19.85   \n",
       "1115050  225.234965  37.027915  SDSS J150056.38+370140.4   Q     19.97  20.47   \n",
       "1032574  212.715683 -32.288022  WISEA J141051.76-321716.8  q     18.69  20.09   \n",
       "452547   120.287833  50.796111  J080109.08+504746.0        X     22.35  23.09   \n",
       "752802   169.532333  48.279066  SDSS J111807.76+481644.6   Q     19.99  20.54   \n",
       "\n",
       "        Comment  R  B       z Qpct                   XName  \\\n",
       "1300283     pG   -  -   0.700  100                           \n",
       "627337      j    1  1   0.100   90                           \n",
       "313234      pG   1  -   2.200  100                           \n",
       "1268723     pG   -  -   0.600   68                           \n",
       "503613      pa+  1  1   0.119                                \n",
       "79817       gmG  -  -   1.273                                \n",
       "1115050     jG   -  -   1.736                                \n",
       "1032574     pmG  -  -   1.100   99                           \n",
       "452547      g    -  -           75  2SXPS J080109.4+504743   \n",
       "752802      gG   -  -   1.095                                \n",
       "\n",
       "                          RName                   Lobe1 Lobe2  \n",
       "1300283                                                   NaN  \n",
       "627337   VL0J095942.48-351023.0  NVSS J095942.5-351025    NaN  \n",
       "313234                                                    NaN  \n",
       "1268723                                                   NaN  \n",
       "503613                                                    NaN  \n",
       "79817                                                     NaN  \n",
       "1115050                                                   NaN  \n",
       "1032574                                                   NaN  \n",
       "452547                                                    NaN  \n",
       "752802                                                    NaN  "
      ]
     },
     "execution_count": 11,
     "metadata": {},
     "output_type": "execute_result"
    }
   ],
   "source": [
    "agns_v72 = pd.read_csv(agncatalog, encoding='utf-8-sig', delimiter = '|')\n",
    "agns_v72.sample(10)"
   ]
  },
  {
   "cell_type": "code",
   "execution_count": 12,
   "metadata": {},
   "outputs": [
    {
     "data": {
      "text/plain": [
       "Index(['RAJ2000', 'DEJ2000', 'Name', 'Type', 'Rmag', 'Bmag', 'Comment', 'R',\n",
       "       'B', 'z', 'Qpct', 'XName', 'RName', 'Lobe1', 'Lobe2'],\n",
       "      dtype='object')"
      ]
     },
     "execution_count": 12,
     "metadata": {},
     "output_type": "execute_result"
    }
   ],
   "source": [
    "agns_v72.columns"
   ]
  },
  {
   "cell_type": "code",
   "execution_count": 13,
   "metadata": {
    "scrolled": true
   },
   "outputs": [
    {
     "data": {
      "text/plain": [
       "Type\n",
       "Q       707379\n",
       "q       478297\n",
       "X        83737\n",
       "R        52371\n",
       "QX       50952\n",
       "qX       46025\n",
       "qR       29917\n",
       "N        25773\n",
       "QR       24446\n",
       "A        24114\n",
       "AX        8100\n",
       "K         4522\n",
       "AR        4421\n",
       "NR        4117\n",
       "QRX       4093\n",
       "2         3928\n",
       "QR2       2150\n",
       "qRX       2100\n",
       "RX        1870\n",
       "NX        1843\n",
       "ARX       1831\n",
       "R2        1786\n",
       "qR2       1785\n",
       "BRX       1658\n",
       "q2         972\n",
       "QR2X       877\n",
       "BR         781\n",
       "Q2         715\n",
       "NRX        635\n",
       "KX         524\n",
       "qR2X       248\n",
       "KR         174\n",
       "NR2        165\n",
       "Q2X        164\n",
       "AR2X       150\n",
       "AR2        145\n",
       "R2X        142\n",
       "N2         133\n",
       "BX         106\n",
       "2X          90\n",
       "A2          87\n",
       "q2X         80\n",
       "BR2X        68\n",
       "B           51\n",
       "L           50\n",
       "KRX         49\n",
       "NR2X        43\n",
       "A2X         42\n",
       "BR2         27\n",
       "KR2         18\n",
       "K2          18\n",
       "N2X         17\n",
       "LX          10\n",
       "B2X          8\n",
       "KR2X         6\n",
       "K2X          5\n",
       "B2           5\n",
       "LRX          3\n",
       "LR           1\n",
       "dtype: int64"
      ]
     },
     "execution_count": 13,
     "metadata": {},
     "output_type": "execute_result"
    }
   ],
   "source": [
    "agns_v72.groupby('Type').size().sort_values(ascending=False)"
   ]
  },
  {
   "cell_type": "code",
   "execution_count": 14,
   "metadata": {},
   "outputs": [
    {
     "data": {
      "text/html": [
       "<div>\n",
       "<style scoped>\n",
       "    .dataframe tbody tr th:only-of-type {\n",
       "        vertical-align: middle;\n",
       "    }\n",
       "\n",
       "    .dataframe tbody tr th {\n",
       "        vertical-align: top;\n",
       "    }\n",
       "\n",
       "    .dataframe thead th {\n",
       "        text-align: right;\n",
       "    }\n",
       "</style>\n",
       "<table border=\"1\" class=\"dataframe\">\n",
       "  <thead>\n",
       "    <tr style=\"text-align: right;\">\n",
       "      <th></th>\n",
       "      <th>RAJ2000</th>\n",
       "      <th>DEJ2000</th>\n",
       "      <th>Name</th>\n",
       "      <th>Type</th>\n",
       "      <th>Rmag</th>\n",
       "      <th>Bmag</th>\n",
       "      <th>Comment</th>\n",
       "      <th>R</th>\n",
       "      <th>B</th>\n",
       "      <th>z</th>\n",
       "      <th>Qpct</th>\n",
       "      <th>XName</th>\n",
       "      <th>RName</th>\n",
       "      <th>Lobe1</th>\n",
       "      <th>Lobe2</th>\n",
       "    </tr>\n",
       "  </thead>\n",
       "  <tbody>\n",
       "    <tr>\n",
       "      <th>1343</th>\n",
       "      <td>0.212906</td>\n",
       "      <td>11.236500</td>\n",
       "      <td>SDSS J000051.09+111411.2</td>\n",
       "      <td>QRX</td>\n",
       "      <td>17.16</td>\n",
       "      <td>17.99</td>\n",
       "      <td>pG</td>\n",
       "      <td>-</td>\n",
       "      <td>-</td>\n",
       "      <td>0.865</td>\n",
       "      <td>99</td>\n",
       "      <td>2RXS J000051.2+111422</td>\n",
       "      <td>FIRST J000051.0+111411</td>\n",
       "      <td>VL0J000051.07+111411.6</td>\n",
       "      <td>NaN</td>\n",
       "    </tr>\n",
       "    <tr>\n",
       "      <th>1520</th>\n",
       "      <td>0.240825</td>\n",
       "      <td>29.710146</td>\n",
       "      <td>SDSS J000057.79+294236.4</td>\n",
       "      <td>QRX</td>\n",
       "      <td>20.10</td>\n",
       "      <td>20.11</td>\n",
       "      <td>gG</td>\n",
       "      <td>-</td>\n",
       "      <td>-</td>\n",
       "      <td>0.760</td>\n",
       "      <td>100</td>\n",
       "      <td>2RXS J000058.1+294227</td>\n",
       "      <td>VL0J000057.78+294236.5</td>\n",
       "      <td>NVSS J000058.1+294237</td>\n",
       "      <td>2RXP J000058.5+294234</td>\n",
       "    </tr>\n",
       "    <tr>\n",
       "      <th>1787</th>\n",
       "      <td>0.285889</td>\n",
       "      <td>19.242694</td>\n",
       "      <td>TEX 2358+189</td>\n",
       "      <td>QRX</td>\n",
       "      <td>20.50</td>\n",
       "      <td>21.19</td>\n",
       "      <td>j</td>\n",
       "      <td>1</td>\n",
       "      <td>1</td>\n",
       "      <td>3.100</td>\n",
       "      <td>100</td>\n",
       "      <td>2SXPS J000108.5+191431</td>\n",
       "      <td>VL0J000108.62+191434.1</td>\n",
       "      <td>NVSS J000108.6+191434</td>\n",
       "      <td>NaN</td>\n",
       "    </tr>\n",
       "    <tr>\n",
       "      <th>2071</th>\n",
       "      <td>0.330319</td>\n",
       "      <td>19.429377</td>\n",
       "      <td>SDSS J000119.28+192545.7</td>\n",
       "      <td>QRX</td>\n",
       "      <td>19.97</td>\n",
       "      <td>20.61</td>\n",
       "      <td>gG</td>\n",
       "      <td>-</td>\n",
       "      <td>1</td>\n",
       "      <td>1.253</td>\n",
       "      <td>98</td>\n",
       "      <td>2SXPS J000119.2+192541</td>\n",
       "      <td>NVSS J000119.2+192548</td>\n",
       "      <td></td>\n",
       "      <td>NaN</td>\n",
       "    </tr>\n",
       "    <tr>\n",
       "      <th>2227</th>\n",
       "      <td>0.353409</td>\n",
       "      <td>8.890468</td>\n",
       "      <td>SDSS J000124.81+085325.7</td>\n",
       "      <td>QRX</td>\n",
       "      <td>19.13</td>\n",
       "      <td>18.93</td>\n",
       "      <td>jG</td>\n",
       "      <td>-</td>\n",
       "      <td>-</td>\n",
       "      <td>1.051</td>\n",
       "      <td>99</td>\n",
       "      <td>2RXS J000124.9+085320</td>\n",
       "      <td>FIRST J000124.8+085325</td>\n",
       "      <td>NVSS J000124.8+085325</td>\n",
       "      <td>NaN</td>\n",
       "    </tr>\n",
       "  </tbody>\n",
       "</table>\n",
       "</div>"
      ],
      "text/plain": [
       "       RAJ2000    DEJ2000                       Name  Type   Rmag   Bmag  \\\n",
       "1343  0.212906  11.236500  SDSS J000051.09+111411.2   QRX   17.16  17.99   \n",
       "1520  0.240825  29.710146  SDSS J000057.79+294236.4   QRX   20.10  20.11   \n",
       "1787  0.285889  19.242694  TEX 2358+189               QRX   20.50  21.19   \n",
       "2071  0.330319  19.429377  SDSS J000119.28+192545.7   QRX   19.97  20.61   \n",
       "2227  0.353409   8.890468  SDSS J000124.81+085325.7   QRX   19.13  18.93   \n",
       "\n",
       "     Comment  R  B       z Qpct                   XName  \\\n",
       "1343     pG   -  -   0.865   99  2RXS J000051.2+111422    \n",
       "1520     gG   -  -   0.760  100  2RXS J000058.1+294227    \n",
       "1787     j    1  1   3.100  100  2SXPS J000108.5+191431   \n",
       "2071     gG   -  1   1.253   98  2SXPS J000119.2+192541   \n",
       "2227     jG   -  -   1.051   99  2RXS J000124.9+085320    \n",
       "\n",
       "                       RName                   Lobe1                  Lobe2  \n",
       "1343  FIRST J000051.0+111411  VL0J000051.07+111411.6                    NaN  \n",
       "1520  VL0J000057.78+294236.5  NVSS J000058.1+294237   2RXP J000058.5+294234  \n",
       "1787  VL0J000108.62+191434.1  NVSS J000108.6+191434                     NaN  \n",
       "2071  NVSS J000119.2+192548                                             NaN  \n",
       "2227  FIRST J000124.8+085325  NVSS J000124.8+085325                     NaN  "
      ]
     },
     "execution_count": 14,
     "metadata": {},
     "output_type": "execute_result"
    }
   ],
   "source": [
    "# I select the type \"QRX\": QSO type-I broad-line core-dominated with Radio and X association (4093)\n",
    "agns_qrx = agns_v72.loc[agns_v72['Type'].str.strip() == 'QRX']\n",
    "agns_qrx.head()"
   ]
  },
  {
   "cell_type": "code",
   "execution_count": 15,
   "metadata": {},
   "outputs": [
    {
     "data": {
      "text/plain": [
       "(4093, 15)"
      ]
     },
     "execution_count": 15,
     "metadata": {},
     "output_type": "execute_result"
    }
   ],
   "source": [
    "# Dataset agns per run VOU_Blazars\n",
    "\n",
    "agns_qrx_labradec = agns_qrx[['RAJ2000','DEJ2000']]\n",
    "#agns_qrx_labradec.to_csv('agns_qrx_labelradec.csv', sep= ' ')\n",
    "agns_qrx.shape"
   ]
  },
  {
   "cell_type": "markdown",
   "metadata": {},
   "source": [
    "# Preprocessing of the SED data file obteined with VOU_Blazars\n",
    "\n",
    "At this point, the SED of each object (providing one) is built from `VOU-Blazars Tool`, in particular the SEDs automatically go inside `~/Vou_Blazars/Results/SEDtool/`. The data retrived are in the folder `data/VOUB_blazar`and `data/VOUB_agn`."
   ]
  },
  {
   "cell_type": "code",
   "execution_count": 17,
   "metadata": {},
   "outputs": [],
   "source": [
    "#function to create a list with path to files\n",
    "\n",
    "def list_files_recursive(path):\n",
    "    \"\"\"\n",
    "    Function to create a list with the absolute path to files.\n",
    "    \n",
    "    Parameter\n",
    "    ---------\n",
    "    path: str\n",
    "        directory path\n",
    "    \"\"\"\n",
    "    import os\n",
    "    files = []\n",
    "    # r = root, d = directories, f = files\n",
    "    for r, d, f in os.walk(path):\n",
    "          for file in f:\n",
    "                if '.zip' in file:\n",
    "                    continue\n",
    "                files.append(os.path.join(r, file))\n",
    "                \n",
    "    return files"
   ]
  },
  {
   "cell_type": "code",
   "execution_count": 18,
   "metadata": {},
   "outputs": [
    {
     "name": "stdout",
     "output_type": "stream",
     "text": [
      "/home/elenagasparri/agilenusrc/Notebook\n"
     ]
    }
   ],
   "source": [
    "# Load SED data of the Blazars and AGNs from retrived frm the run of VOUB\n",
    "dir_bl = 'data/VOUB_blazar/'\n",
    "dir_agn = 'data/VOUB_agn/'\n",
    "\n",
    "print(os.getcwd())"
   ]
  },
  {
   "cell_type": "code",
   "execution_count": 19,
   "metadata": {},
   "outputs": [
    {
     "name": "stdout",
     "output_type": "stream",
     "text": [
      "2whsp_list.csv                 ic170922a_agilesearch.ipynb\r\n",
      "3hsp.csv                       milliquasv7.2.txt\r\n",
      "5bzcat_list.csv                mqv7.2agn_qrx.csv\r\n",
      "blazar_model_v6_kfold.ipynb    newfile.txt\r\n",
      "blazar_model_v6_nokfold.ipynb  OU4Bl_v2.csv\r\n",
      "\u001b[0m\u001b[01;34mdata\u001b[0m/                          preparationSED_BUILDERdata.ipynb\r\n",
      "example_txs0506+056.ipynb      preparationVOUBdata.ipynb\r\n"
     ]
    }
   ],
   "source": [
    "cur_dir = os.getcwd()\n",
    "%ls"
   ]
  },
  {
   "cell_type": "code",
   "execution_count": 20,
   "metadata": {},
   "outputs": [],
   "source": [
    "# List of sed file of agn and blazar from VOUB\n",
    "\n",
    "path_bl = os.path.join(cur_dir, dir_bl)\n",
    "sed_bl = list_files_recursive(path_bl)\n",
    "path_agn = os.path.join(cur_dir, dir_agn)\n",
    "sed_agn = list_files_recursive(path_agn)"
   ]
  },
  {
   "cell_type": "code",
   "execution_count": 21,
   "metadata": {},
   "outputs": [
    {
     "data": {
      "text/plain": [
       "5699"
      ]
     },
     "execution_count": 21,
     "metadata": {},
     "output_type": "execute_result"
    }
   ],
   "source": [
    "# Number of sed of blazars finally found\n",
    "len(sed_bl)"
   ]
  },
  {
   "cell_type": "code",
   "execution_count": 22,
   "metadata": {},
   "outputs": [
    {
     "data": {
      "text/plain": [
       "3489"
      ]
     },
     "execution_count": 22,
     "metadata": {},
     "output_type": "execute_result"
    }
   ],
   "source": [
    "# Number of sed of agns finally found\n",
    "len(sed_agn)"
   ]
  },
  {
   "cell_type": "markdown",
   "metadata": {},
   "source": [
    "### Preprocessing on sed files"
   ]
  },
  {
   "cell_type": "code",
   "execution_count": 23,
   "metadata": {},
   "outputs": [],
   "source": [
    "def precision_round(numbers, digits = 3):\n",
    "    '''\n",
    "    Parameters:\n",
    "    -----------\n",
    "    numbers : scalar, 1D , or 2D array(-like)\n",
    "    digits: number of digits after decimal point\n",
    "    \n",
    "    Returns:\n",
    "    --------\n",
    "    out : same shape as numbers\n",
    "    '''\n",
    "    import numpy as np\n",
    "\n",
    "    numbers = np.asarray(np.atleast_2d(numbers))\n",
    "    out_array = np.zeros(numbers.shape) # the returning array\n",
    "    \n",
    "    for dim0 in range(numbers.shape[0]):\n",
    "        powers = [int(F\"{number:e}\".split('e')[1]) for number in numbers[dim0, :]]\n",
    "        out_array[dim0, :] = [round(number, -(int(power) - digits))\n",
    "                         for number, power in zip(numbers[dim0, :], powers)]\n",
    "        \n",
    "    # returning the original shape of the `numbers` \n",
    "    if out_array.shape[0] == 1 and out_array.shape[1] == 1:\n",
    "        out_array = out_array[0, 0]\n",
    "    elif out_array.shape[0] == 1:\n",
    "        out_array = out_array[0, :]\n",
    "    \n",
    "    return out_array"
   ]
  },
  {
   "cell_type": "code",
   "execution_count": 24,
   "metadata": {},
   "outputs": [],
   "source": [
    "# Preprocessing on blazar sed files\n",
    "\n",
    "freq_all_bl=[]\n",
    "flux_all_bl=[]\n",
    "seddata_all_bl= []\n",
    "point_sed_bl =[]\n",
    "\n",
    "for file in sed_bl:\n",
    "    df_sed = pd.read_csv(file, sep='|', names=['ra','dec','freq','dfreq','flux','dflux','mjd','dmjd','UL','UNK'])\n",
    "    ul_idx = df_sed[(df_sed.UL=='UL')].index    # find upper limit in dataframe\n",
    "    df_sed.drop(ul_idx,inplace=True)            # remove upper limit\n",
    "    \n",
    "    freq_opt = []                               # refined freq-flux array initialization\n",
    "    flux_opt = []\n",
    "    \n",
    "    sed_data= df_sed[['freq','flux']].to_numpy()\n",
    "    freq_tr=sed_data[:,0]\n",
    "    flux=sed_data[:,1]\n",
    "    freq=precision_round(freq_tr,digits=1)               # rounded freq\n",
    "    try:\n",
    "        #deleting strange measures\n",
    "        strange_flux_index = [i for i in range(len(freq)) if flux[i]>= 1e-5 or flux[i]<0]\n",
    "        freq = np.delete(freq,strange_flux_index)\n",
    "        flux = np.delete(flux,strange_flux_index)\n",
    "        # if the frequencies are repeated, I keep the higher flux measurement\n",
    "        for i in range(len(freq)):\n",
    "            if np.size(np.where(freq_opt == freq[i]))>0:\n",
    "                if flux[i] > flux_opt[np.where(freq_opt == freq[i])]:\n",
    "                    flux_opt[np.where(freq_opt == freq[i])]=flux[i]\n",
    "            else:\n",
    "                freq_opt= np.append(freq_opt,freq[i])\n",
    "                flux_opt= np.append(flux_opt,flux[i])\n",
    "    except TypeError:\n",
    "        freq_opt= np.append(freq_opt,freq[i])                       # In case there is only one freq-flux measurement\n",
    "        flux_opt= np.append(flux_opt,flux[i])                       # does not give an error but simply appends value\n",
    "    \n",
    "    # Building arrays of interest\n",
    "    freq_all_bl = np.append(freq_all_bl,freq_opt)                   # array 1-D whit all the frequencies\n",
    "    flux_all_bl = np.append(flux_all_bl,flux_opt)                   # array 1-D whit all the fluxes\n",
    "    freq_points_bl = np.unique(freq_all_bl)                         # array 1-D whit all the unique freq in the dataset\n",
    "    freq_points_bl_ord = freq_points_bl[freq_points_bl.argsort()]   # array 1-D freq_points sorted\n",
    "    seddata_all_bl.append((freq_opt,flux_opt))                      # tupla flux_all[i][j][k], i = source, j=0 or 1 freq or\n",
    "                                                                    # flux measure, [k] = k-riga of the array\n",
    "    point_sed_bl = np.append(point_sed_bl,len(freq_opt))            # array 1-D whit the number of points for sed"
   ]
  },
  {
   "cell_type": "code",
   "execution_count": 25,
   "metadata": {},
   "outputs": [
    {
     "name": "stdout",
     "output_type": "stream",
     "text": [
      "The number of different frequencies in the blazar dataset is  (535,)\n",
      "The number of input vectors for blazars is  5699\n"
     ]
    }
   ],
   "source": [
    "print('The number of different frequencies in the blazar dataset is ',freq_points_bl.shape)\n",
    "print('The number of input vectors for blazars is ',len(seddata_all_bl))"
   ]
  },
  {
   "cell_type": "markdown",
   "metadata": {},
   "source": [
    "### Preprocessing sui file delle sed degli AGNs per preparare input rete neurale"
   ]
  },
  {
   "cell_type": "code",
   "execution_count": 26,
   "metadata": {},
   "outputs": [],
   "source": [
    "# Preprocessing on AGNs sed files\n",
    "\n",
    "\n",
    "freq_all_agn=[]\n",
    "flux_all_agn=[]\n",
    "seddata_all_agn= []\n",
    "point_sed_agn =[]\n",
    "\n",
    "for file in sed_agn:\n",
    "    df_sed = pd.read_csv(file, sep='|', names=['ra','dec','freq','dfreq','flux','dflux','mjd','dmjd','UL','UNK'])\n",
    "    ul_idx = df_sed[(df_sed.UL=='UL')].index    # find upper limit in dataframe\n",
    "    df_sed.drop(ul_idx,inplace=True)            # remove upper limit\n",
    "    \n",
    "    freq_opt = []                               # refined freq-flux array initialization\n",
    "    flux_opt = []\n",
    "    \n",
    "    sed_data= df_sed[['freq','flux']].to_numpy()\n",
    "    freq_tr=sed_data[:,0]\n",
    "    freq=precision_round(freq_tr,digits=1)               # rounded freq\n",
    "    flux=sed_data[:,1]\n",
    "    try:\n",
    "        #deleting strange measures\n",
    "        strange_flux_index = [i for i in range(len(freq)) if flux[i]>= 1e-5 or flux[i]<0]\n",
    "        freq = np.delete(freq,strange_flux_index)\n",
    "        flux = np.delete(flux,strange_flux_index)\n",
    "        # if the frequencies are repeated, I keep the higher flux measurement\n",
    "        for i in range(len(freq)):\n",
    "            if np.size(np.where(freq_opt == freq[i]))>0:\n",
    "                if flux[i] > flux_opt[np.where(freq_opt == freq[i])]:\n",
    "                    flux_opt[np.where(freq_opt == freq[i])]=flux[i]\n",
    "            else:\n",
    "                freq_opt= np.append(freq_opt,freq[i])\n",
    "                flux_opt= np.append(flux_opt,flux[i])\n",
    "    \n",
    "        # Building arrays of interest\n",
    "        freq_all_agn = np.append(freq_all_agn,freq_opt)                    # array 1-D whit all the frequencies\n",
    "        flux_all_agn = np.append(flux_all_agn,flux_opt)                    # array 1-D whit all the fluxes\n",
    "        freq_points_agn = np.unique(freq_all_agn)                          # array 1-D whit all the unique freq in the dataset\n",
    "        freq_points_agn_ord = freq_points_agn[freq_points_agn.argsort()]   # array 1-D freq_points sorted\n",
    "        seddata_all_agn.append((freq_opt,flux_opt))                        # tupla flux_all[i][j][k], i = source, j=0 or 1 freq or\n",
    "                                                                           # flux measure, [k] = k-riga of the array\n",
    "        point_sed_agn = np.append(point_sed_agn,len(freq_opt))             # array 1-D whit the number of points for sed\n",
    "        \n",
    "    except TypeError:\n",
    "        continue    "
   ]
  },
  {
   "cell_type": "code",
   "execution_count": 27,
   "metadata": {},
   "outputs": [
    {
     "name": "stdout",
     "output_type": "stream",
     "text": [
      "The number of different frequencies in the AGNs dataset is  (397,)\n",
      "The number of input vectors for AGNs is  3488\n"
     ]
    }
   ],
   "source": [
    "print('The number of different frequencies in the AGNs dataset is ',freq_points_agn.shape)\n",
    "print('The number of input vectors for AGNs is ',len(seddata_all_agn))"
   ]
  },
  {
   "cell_type": "markdown",
   "metadata": {},
   "source": [
    "# Generation of the dataset for the Neural Network"
   ]
  },
  {
   "cell_type": "code",
   "execution_count": 28,
   "metadata": {},
   "outputs": [
    {
     "data": {
      "text/plain": [
       "(535,)"
      ]
     },
     "execution_count": 28,
     "metadata": {},
     "output_type": "execute_result"
    }
   ],
   "source": [
    "# I generate 'nn_freq_data' as a sorted vector containing all values of different frequencies that appear in the two\n",
    "# data sets blazars and agns to create arrays of identical length for the neural network\n",
    "\n",
    "tot_freq = np.append(freq_points_bl_ord,freq_points_agn_ord)\n",
    "tot_freq_un = np.unique(tot_freq)\n",
    "nn_freq_data = tot_freq_un[tot_freq_un.argsort()]\n",
    "\n",
    "nn_freq_data.shape"
   ]
  },
  {
   "cell_type": "code",
   "execution_count": 29,
   "metadata": {},
   "outputs": [],
   "source": [
    "def GenerateDataSet(nn_frequencies, sed_values):\n",
    "    \"\"\"\n",
    "    A function that, given an ordered frequency array of lenght N, generates an array with shape (N,2)\n",
    "    where the flux values are arranged in the right position with respect to the associated frequency.\n",
    "    I assign zero to empty frequency position.\n",
    "    In the second column we have a flag at 1 to identify \"real\" measures.\n",
    "    \n",
    "    Parameters\n",
    "    ----------\n",
    "        \n",
    "    nn_frequencies: array 1-D\n",
    "                    Numpy array sorted with all the different frequencies in the blazar + agns data sets.\n",
    "                    \n",
    "    sed_values: tupla \n",
    "                All dataset (blazars or agns) [i]= sources, [j]= 0 (freq), 1(flux), [k]=k-riga dell'array\n",
    "    \"\"\"\n",
    "    data = []\n",
    "    for x in sed_values:\n",
    "        temp = np.zeros((nn_frequencies.shape[0],2))\n",
    "        for i in range(len(x[0])):\n",
    "            idx = np.where(nn_frequencies == x[0][i])\n",
    "            temp[idx,0] = x[1][i]\n",
    "            temp[idx,1]=1                        # flag at 1 for real data in sed file\n",
    "        data.append(temp)\n",
    "    return np.array(data)"
   ]
  },
  {
   "cell_type": "code",
   "execution_count": 30,
   "metadata": {},
   "outputs": [
    {
     "data": {
      "text/plain": [
       "(5699, 535, 2)"
      ]
     },
     "execution_count": 30,
     "metadata": {},
     "output_type": "execute_result"
    }
   ],
   "source": [
    "# n-D numpy array with blazar's data for the neural network\n",
    "bl_data = GenerateDataSet(nn_freq_data, seddata_all_bl)\n",
    "\n",
    "bl_data.shape"
   ]
  },
  {
   "cell_type": "code",
   "execution_count": 31,
   "metadata": {},
   "outputs": [
    {
     "data": {
      "text/plain": [
       "(3488, 535, 2)"
      ]
     },
     "execution_count": 31,
     "metadata": {},
     "output_type": "execute_result"
    }
   ],
   "source": [
    "# n-D numpy array with agn's data for the neural network\n",
    "agn_data = GenerateDataSet(nn_freq_data, seddata_all_agn)\n",
    "\n",
    "agn_data.shape"
   ]
  },
  {
   "cell_type": "code",
   "execution_count": 32,
   "metadata": {},
   "outputs": [],
   "source": [
    "# I save the two numpy ndarrays with blazar and agn data and the array with the ordered frequencies\n",
    "# in the file nn_datavoub.npz which I will use in the neural network\n",
    "\n",
    "np.savez('nn_datavoub.npz',bl_data = bl_data, agn_data = agn_data, nn_freq_data = nn_freq_data)"
   ]
  },
  {
   "cell_type": "markdown",
   "metadata": {},
   "source": [
    "# Some Plot of data"
   ]
  },
  {
   "cell_type": "code",
   "execution_count": 33,
   "metadata": {},
   "outputs": [],
   "source": [
    "# Histogram of the number of sources per amount of data points in the SED\n",
    "\n",
    "def histData(points_bl, points_agn):\n",
    "    ''' Histogram of the amount of data points per SED file\n",
    "    \n",
    "    Parameters\n",
    "    ----------\n",
    "        points_bl = numpy array like points_per_sed of Blazars sources\n",
    "        points_agn = numpy array like points_per_sed of AGN sources\n",
    "    '''\n",
    "    plt.figure()\n",
    "    plt.title('Number of sources per amount of data points in the SED')\n",
    "    plt.xlabel('Points per SED')\n",
    "    plt.ylabel('Numbers of sources')\n",
    "    plt.grid(True)\n",
    "    bins = np.logspace(0, 3, 50)\n",
    "    plt.xscale('log')\n",
    "\n",
    "    n, bins, patches=plt.hist(points_bl, bins=bins, alpha=1.0, histtype='step', label='Blazars')\n",
    "    n_1, bins_1, patches_1=plt.hist(points_agn, bins=bins, alpha=1.0, histtype='step', label=f'AGNs')\n",
    "    plt.legend(loc='upper right')\n",
    "    plt.show()"
   ]
  },
  {
   "cell_type": "code",
   "execution_count": 34,
   "metadata": {
    "scrolled": false
   },
   "outputs": [
    {
     "data": {
      "image/png": "[encoded data removed]",
      "text/plain": [
       "<Figure size 432x288 with 1 Axes>"
      ]
     },
     "metadata": {
      "needs_background": "light"
     },
     "output_type": "display_data"
    }
   ],
   "source": [
    "#plot of VOUB data\n",
    "histData(point_sed_bl,point_sed_agn)"
   ]
  },
  {
   "cell_type": "code",
   "execution_count": 35,
   "metadata": {},
   "outputs": [],
   "source": [
    "# plotting the SEDs of all files to see how the points are distributed\n",
    "\n",
    "def sedDistribution(sed_data_all,mode):\n",
    "    ''' Plot of the SED files.\n",
    "    \n",
    "    Parameters\n",
    "    ----------\n",
    "        \n",
    "    sed_data_all: tupla\n",
    "                Full dataset with freq e flux like seddata_all_***\n",
    "    \n",
    "    mode: boolean\n",
    "        'True' stands for blazar and 'False' for AGNs\n",
    "    '''\n",
    "    plt.figure()\n",
    "    if mode:\n",
    "        plt.title('Superimposed Plot of the SED of the entire Blazars dataset')\n",
    "    else:\n",
    "        plt.title('Superimposed Plot of the SED of the entire AGNs dataset')\n",
    "    plt.xlabel('Frequency (Hz)')\n",
    "    plt.ylabel(r'$\\nu F_{\\nu} (erg/cm^2/s)$')\n",
    "    plt.grid(True)\n",
    "    for sed in sed_data_all:\n",
    "        freq= sed[0]\n",
    "        flux= sed[1]\n",
    "        plt.loglog(freq, flux, 'b.', markersize=1)\n",
    "    plt.show()"
   ]
  },
  {
   "cell_type": "code",
   "execution_count": 36,
   "metadata": {
    "scrolled": true
   },
   "outputs": [
    {
     "data": {
      "image/png": "[encoded data removed]",
      "text/plain": [
       "<Figure size 432x288 with 1 Axes>"
      ]
     },
     "metadata": {
      "needs_background": "light"
     },
     "output_type": "display_data"
    }
   ],
   "source": [
    "sedDistribution(seddata_all_bl,True)"
   ]
  },
  {
   "cell_type": "code",
   "execution_count": 37,
   "metadata": {},
   "outputs": [
    {
     "data": {
      "image/png": "[encoded data removed]",
      "text/plain": [
       "<Figure size 432x288 with 1 Axes>"
      ]
     },
     "metadata": {
      "needs_background": "light"
     },
     "output_type": "display_data"
    }
   ],
   "source": [
    "sedDistribution(seddata_all_agn,False)"
   ]
  },
  {
   "cell_type": "code",
   "execution_count": null,
   "metadata": {},
   "outputs": [],
   "source": []
  },
  {
   "cell_type": "code",
   "execution_count": 38,
   "metadata": {},
   "outputs": [],
   "source": [
    "#Scatter plot of the SED files with color map for the recurrent point\n",
    "\n",
    "def sedColormapPlot(sed_data_all,mode):\n",
    "    ''' Scatter plot of the SED files with color map for the recurrent point\n",
    "    \n",
    "    Parameters\n",
    "    ----------\n",
    "            \n",
    "    sed_data_all: tupla\n",
    "                Full dataset with freq e flux like seddata_all_***\n",
    "    \n",
    "    mode: boolean\n",
    "        'True' stands for blazar and 'False' for AGNs\n",
    "    '''\n",
    "    dens = np.zeros((1,3))\n",
    "    for sed in sed_data_all:\n",
    "        freq= sed[0]\n",
    "        flux= sed[1]\n",
    "        # With the ndarray dens I count how many times in total I have the same freq/flux measurement\n",
    "        # The third column of the array tells us the number of times the measurement is repeated in the whole dataset.\n",
    "        for i in range(len(freq)):\n",
    "            if np.size(np.where(np.logical_and(dens[:,0] == freq[i], dens[:,1] == flux[i]))[0]) > 0:\n",
    "                dens[np.where(np.logical_and(dens[:,0] == freq[i], dens[:,1] == flux[i]))[0],2] += 1\n",
    "            else:\n",
    "                dens = np.vstack([dens,[freq[i],flux[i],1]])\n",
    "    densn = np.delete(dens,(0),axis=0)                              #remove the first line of zeros\n",
    "    \n",
    "    plt.figure()\n",
    "    fig,ax = plt.subplots()\n",
    "    if mode:\n",
    "        fig.suptitle('Density plots of the SEDs of Blazars data set')\n",
    "    else:\n",
    "        fig.suptitle('Density plots of the SEDs of AGNs data set')\n",
    "    ax.set_xlabel('Frequency (Hz)')\n",
    "    ax.set_ylabel(r'$\\nu F_{\\nu} (erg/cm^2/s)$')\n",
    "    ax.grid(False)\n",
    "    ax.set_xscale('log')\n",
    "    ax.set_yscale('log')\n",
    "    im = ax.scatter(densn[:,0],densn[:,1], c = densn[:,2], cmap ='viridis',marker='.', alpha=0.5)\n",
    "    fig.colorbar(im, ax=ax)\n",
    "    plt.show()"
   ]
  },
  {
   "cell_type": "code",
   "execution_count": 39,
   "metadata": {},
   "outputs": [
    {
     "data": {
      "text/plain": [
       "<Figure size 432x288 with 0 Axes>"
      ]
     },
     "metadata": {},
     "output_type": "display_data"
    },
    {
     "data": {
      "image/png": "[encoded data removed]",
      "text/plain": [
       "<Figure size 432x288 with 2 Axes>"
      ]
     },
     "metadata": {
      "needs_background": "light"
     },
     "output_type": "display_data"
    }
   ],
   "source": [
    "#plot of SED Builder data\n",
    "sedColormapPlot(seddata_all_bl,True)"
   ]
  },
  {
   "cell_type": "code",
   "execution_count": 40,
   "metadata": {},
   "outputs": [
    {
     "data": {
      "text/plain": [
       "<Figure size 432x288 with 0 Axes>"
      ]
     },
     "metadata": {},
     "output_type": "display_data"
    },
    {
     "data": {
      "image/png": "[encoded data removed]",
      "text/plain": [
       "<Figure size 432x288 with 2 Axes>"
      ]
     },
     "metadata": {
      "needs_background": "light"
     },
     "output_type": "display_data"
    }
   ],
   "source": [
    "#Plot of SED Builder Data\n",
    "sedColormapPlot(seddata_all_agn, False)"
   ]
  },
  {
   "cell_type": "code",
   "execution_count": 41,
   "metadata": {},
   "outputs": [],
   "source": [
    "# Hist2D of the SEDs in our blazars data set\n",
    "# freq_all e flux_all sono array con tutte le coppie di dati del dataset anche ripetute\n",
    "def hist2dSed(freq_all,flux_all,mode):\n",
    "    '''Hist2D of the SEDs of the entire data set.\n",
    "    \n",
    "    Parameters\n",
    "    ----------\n",
    "    \n",
    "    freq_all,flux_all: 1D-array\n",
    "                        all the couple of data of type Blazar or AGNs\n",
    "    \n",
    "    mode: boolean\n",
    "        'True' for Blazars data and 'False' for AGNs data\n",
    "    '''\n",
    "    plt.figure()\n",
    "    if mode:\n",
    "        plt.title('2D Histogram of the SEDs of Blazars data set')\n",
    "    else:\n",
    "        plt.title('2D Histogram of the SEDs of AGNs data set')\n",
    "    plt.xlabel('Frequency (Hz)')\n",
    "    plt.ylabel(r'$\\nu F_{\\nu} (erg/cm^2/s)$')\n",
    "    plt.grid(False)\n",
    "\n",
    "    plt.xscale('log')\n",
    "    plt.yscale('log')\n",
    "\n",
    "    x_bins = np.logspace(6, 27,200)\n",
    "    y_bins = np.logspace(-20,-7,200)\n",
    "    #plt.hist2d(freq_all,flux_all, bins=[x_bins,y_bins], vmin =10, cmap = 'BuPu')\n",
    "    plt.hist2d(freq_all,flux_all, bins=[x_bins,y_bins], vmin =-10, cmap = 'twilight')\n",
    "    cb = plt.colorbar()\n",
    "    cb.set_label('counts in bin')\n",
    "    plt.show()"
   ]
  },
  {
   "cell_type": "code",
   "execution_count": 42,
   "metadata": {},
   "outputs": [
    {
     "data": {
      "image/png": "[encoded data removed]",
      "text/plain": [
       "<Figure size 432x288 with 2 Axes>"
      ]
     },
     "metadata": {
      "needs_background": "light"
     },
     "output_type": "display_data"
    }
   ],
   "source": [
    "hist2dSed(freq_all_bl,flux_all_bl,True)"
   ]
  },
  {
   "cell_type": "code",
   "execution_count": 43,
   "metadata": {},
   "outputs": [
    {
     "data": {
      "image/png": "[encoded data removed]",
      "text/plain": [
       "<Figure size 432x288 with 2 Axes>"
      ]
     },
     "metadata": {
      "needs_background": "light"
     },
     "output_type": "display_data"
    }
   ],
   "source": [
    "hist2dSed(freq_all_agn,flux_all_agn,False)"
   ]
  }
 ],
 "metadata": {
  "kernelspec": {
   "display_name": "Python 3 (ipykernel)",
   "language": "python",
   "name": "python3"
  },
  "language_info": {
   "codemirror_mode": {
    "name": "ipython",
    "version": 3
   },
   "file_extension": ".py",
   "mimetype": "text/x-python",
   "name": "python",
   "nbconvert_exporter": "python",
   "pygments_lexer": "ipython3",
   "version": "3.8.8"
  }
 },
 "nbformat": 4,
 "nbformat_minor": 2
}
