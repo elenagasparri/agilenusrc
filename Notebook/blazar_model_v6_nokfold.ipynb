{
  "cells": [
    {
      "cell_type": "markdown",
      "metadata": {
        "id": "KHCG2snEDCPL"
      },
      "source": [
        "# Bi- Directional LSTM neural network whitout K-Fold Cross Validation"
      ]
    },
    {
      "cell_type": "markdown",
      "metadata": {
        "id": "nNsBnrH0DRbP"
      },
      "source": [
        "* Impostazione per uso della GPU"
      ]
    },
    {
      "cell_type": "code",
      "execution_count": null,
      "metadata": {
        "id": "siIGjzekZCOJ",
        "colab": {
          "base_uri": "https://localhost:8080/"
        },
        "outputId": "5b7914bd-2341-4c05-bf10-ab15e0d7ecea"
      },
      "outputs": [
        {
          "output_type": "stream",
          "name": "stdout",
          "text": [
            "Found GPU at: /device:GPU:0\n"
          ]
        }
      ],
      "source": [
        "%tensorflow_version 2.x\n",
        "import tensorflow as tf\n",
        "device_name = tf.test.gpu_device_name()\n",
        "if device_name != '/device:GPU:0':\n",
        "  raise SystemError('GPU device not found')\n",
        "print('Found GPU at: {}'.format(device_name))"
      ]
    },
    {
      "cell_type": "code",
      "execution_count": null,
      "metadata": {
        "id": "tTRdaPrixcEc",
        "colab": {
          "base_uri": "https://localhost:8080/"
        },
        "outputId": "ca4bcc1e-e41e-4a13-c0e2-5e40c1fcea6f"
      },
      "outputs": [
        {
          "output_type": "stream",
          "name": "stdout",
          "text": [
            "TensorFlow version: 2.8.0\n",
            "Numpy version: 1.21.6\n"
          ]
        }
      ],
      "source": [
        "from tensorflow import keras\n",
        "from keras import layers\n",
        "print(\"TensorFlow version:\", tf.__version__)\n",
        "\n",
        "import numpy as np\n",
        "print('Numpy version:', np.__version__)\n",
        "\n",
        "from matplotlib import pyplot as plt "
      ]
    },
    {
      "cell_type": "code",
      "execution_count": null,
      "metadata": {
        "id": "O5YFEhPfL_LS",
        "colab": {
          "base_uri": "https://localhost:8080/"
        },
        "outputId": "c56b3902-1623-4c4f-8b77-605c070e1407"
      },
      "outputs": [
        {
          "output_type": "stream",
          "name": "stdout",
          "text": [
            "/content/drive/MyDrive/Colab Notebooks\n"
          ]
        }
      ],
      "source": [
        "cd drive/MyDrive/Colab\\ Notebooks/"
      ]
    },
    {
      "cell_type": "code",
      "execution_count": null,
      "metadata": {
        "id": "tRWE8o9uumYo",
        "colab": {
          "base_uri": "https://localhost:8080/"
        },
        "outputId": "244e7a5c-7215-4e47-e1c9-256acfb10d0c"
      },
      "outputs": [
        {
          "output_type": "stream",
          "name": "stdout",
          "text": [
            " \u001b[0m\u001b[01;34m2LS\u001b[0m/                                  Librerie.ipynb\n",
            " BlazarDNN.ipynb                       media.ipynb\n",
            " BlazarDNN_vecchio.ipynb               model.png\n",
            " blazar_model_colab.ipynb              \u001b[01;34mmodel_v2\u001b[0m/\n",
            " blazar_model_colab_v2.ipynb           \u001b[01;34mmodel_v3\u001b[0m/\n",
            " blazar_model_colab_v3.ipynb           \u001b[01;34mmodel_v4\u001b[0m/\n",
            " blazar_model_colab_v5.ipynb           \u001b[01;34mmodel_v5\u001b[0m/\n",
            " blazar_model_colab_v6.ipynb           \u001b[01;34mmodel_v6\u001b[0m/\n",
            " blazar_model_colab_v6_nokfold.ipynb   \u001b[01;34mmodel_v6_nokfold\u001b[0m/\n",
            " blazar_model_colab_v7_plot.ipynb      \u001b[01;34mmodel_voub\u001b[0m/\n",
            "'Copia di KerasSimple.ipynb'           nn_data.npz\n",
            "'Copy of CNN tutorial.ipynb'           nn_data_v2.npz\n",
            "'Copy of Jet_exploration.ipynb'        nn_data_v3.npz\n",
            " k_model_pot.py                        nn_data_voub.npz\n",
            "'Lezione GPU.ipynb'                    \u001b[01;34m__pycache__\u001b[0m/\n"
          ]
        }
      ],
      "source": [
        "%ls"
      ]
    },
    {
      "cell_type": "markdown",
      "metadata": {
        "id": "3jo389enDkNB"
      },
      "source": [
        "* Final preprocessing dei dati"
      ]
    },
    {
      "cell_type": "code",
      "execution_count": null,
      "metadata": {
        "id": "UiKII6c5zsJd"
      },
      "outputs": [],
      "source": [
        "# nn_data.npz archivio con i 2 np.ndarray 'bl_data' (4627, 529, 2) 'agn_data' (4059, 529, 2) e  np.array 'nn_freq_data' (529,)\n",
        "# nn_data.npz ha i flag nei dati sed a 1 per blazars e a 0 per agn\n",
        "# nn_data_v2.npz ha i flag a 1 per blazar e agn dove abbiamo misura vera del flusso\n",
        "#                i label per distinguere tra blazar e agn da costruire a parte\n",
        "# nn_data_v3.npz è corretto rispetto a *_v2.npz: non ha i nan, non ha flussi negativi e non ha flussi superiori a 10^-6\n",
        "#nn_data = np.load('nn_data_voub.npz')\n",
        "nn_data = np.load('nn_data_v3.npz')\n",
        "\n",
        "bl_data = nn_data['bl_data']\n",
        "agn_data = nn_data['agn_data']\n",
        "set_freq = nn_data['nn_freq_data']"
      ]
    },
    {
      "cell_type": "code",
      "execution_count": null,
      "metadata": {
        "id": "JgIqhMyoMYjk",
        "colab": {
          "base_uri": "https://localhost:8080/"
        },
        "outputId": "9a77d170-6f86-4bbb-dfde-8d5e1d1c0516"
      },
      "outputs": [
        {
          "output_type": "stream",
          "name": "stdout",
          "text": [
            "(4627, 529, 2)\n",
            "(4059, 529, 2)\n"
          ]
        }
      ],
      "source": [
        "print(bl_data.shape)\n",
        "print(agn_data.shape)"
      ]
    },
    {
      "cell_type": "code",
      "execution_count": null,
      "metadata": {
        "id": "R5Jm9ULwhbyR",
        "colab": {
          "base_uri": "https://localhost:8080/"
        },
        "outputId": "bcbf7dd7-5c9f-41ec-ddf8-f09e60dfe4db"
      },
      "outputs": [
        {
          "output_type": "stream",
          "name": "stdout",
          "text": [
            "Indici delle sed blazar con NAN:  []\n",
            "Indici delle sed agn con NAN:  []\n"
          ]
        }
      ],
      "source": [
        "# Verifica che non ci siano valori NAN inaspettati nelle misure di flusso\n",
        "with np.printoptions(threshold=np.inf):\n",
        "  nanbl_idx=np.argwhere(np.isnan(bl_data))\n",
        "  nanagn_idx=np.argwhere(np.isnan(agn_data))\n",
        "  print('Indici delle sed blazar con NAN: ',nanbl_idx)\n",
        "  print('Indici delle sed agn con NAN: ',nanagn_idx)"
      ]
    },
    {
      "cell_type": "code",
      "source": [
        ""
      ],
      "metadata": {
        "id": "rqYLvfYpGcJM"
      },
      "execution_count": null,
      "outputs": []
    },
    {
      "cell_type": "code",
      "execution_count": null,
      "metadata": {
        "id": "xnaxSXHm0glI",
        "colab": {
          "base_uri": "https://localhost:8080/"
        },
        "outputId": "b606322b-03db-4a8a-a90e-d08851878147"
      },
      "outputs": [
        {
          "output_type": "stream",
          "name": "stdout",
          "text": [
            "(8686, 529, 2)\n"
          ]
        }
      ],
      "source": [
        "# Dati pronti per essere concatenati\n",
        "\n",
        "data = np.concatenate((bl_data, agn_data), axis =0)\n",
        "print(data.shape)"
      ]
    },
    {
      "cell_type": "markdown",
      "metadata": {
        "id": "1QQ1zmcC1D0M"
      },
      "source": [
        "Adesso che ho max e min posso riscalare i miei valori di flusso tra 0 e 1"
      ]
    },
    {
      "cell_type": "code",
      "execution_count": null,
      "metadata": {
        "id": "JwSxCrQM1Ms7",
        "colab": {
          "base_uri": "https://localhost:8080/"
        },
        "outputId": "a8dc5de4-19c5-4ed4-9335-a43b4f413862"
      },
      "outputs": [
        {
          "output_type": "stream",
          "name": "stdout",
          "text": [
            "0.0\n",
            "1.0121e-08\n",
            "1.0121e-08\n"
          ]
        }
      ],
      "source": [
        "# funzione per normalizzare dati\n",
        "ptp=np.ptp(data[:,:,0])\n",
        "min = np.min(data[:,:,0])\n",
        "max = np.max(data[:,:,0])\n",
        "print(min)\n",
        "print(max)\n",
        "print(ptp)\n",
        "data[:,:,0]= (data[:,:,0]-min)/ptp\n"
      ]
    },
    {
      "cell_type": "code",
      "execution_count": null,
      "metadata": {
        "id": "jBhiaitlt-ax"
      },
      "outputs": [],
      "source": [
        "# Creo le label\n",
        "label = np.concatenate((np.ones(bl_data.shape[0]),np.zeros(agn_data.shape[0])))"
      ]
    },
    {
      "cell_type": "code",
      "source": [
        "label.shape"
      ],
      "metadata": {
        "id": "pmK9b84bLrqd",
        "colab": {
          "base_uri": "https://localhost:8080/"
        },
        "outputId": "b65cd374-177d-4b4c-9891-98b82b2a0906"
      },
      "execution_count": null,
      "outputs": [
        {
          "output_type": "execute_result",
          "data": {
            "text/plain": [
              "(8686,)"
            ]
          },
          "metadata": {},
          "execution_count": 11
        }
      ]
    },
    {
      "cell_type": "code",
      "source": [
        "bl_data = data[0:4626]\n",
        "agn_data = data[4627:]\n",
        "bl_label = label[0:4626]\n",
        "agn_label = label[4627:]"
      ],
      "metadata": {
        "id": "DqQaCpgvITcY"
      },
      "execution_count": null,
      "outputs": []
    },
    {
      "cell_type": "code",
      "source": [
        "from sklearn.model_selection import train_test_split\n",
        "\n",
        "data_train_bl, data_test_bl, l_train_bl, l_test_bl = train_test_split(bl_data, bl_label, test_size=0.1, random_state=1)\n",
        "data_train_agn, data_test_agn, l_train_agn, l_test_agn = train_test_split(agn_data, agn_label, test_size=0.1, random_state=1)"
      ],
      "metadata": {
        "id": "zx39abghIM_D"
      },
      "execution_count": null,
      "outputs": []
    },
    {
      "cell_type": "code",
      "source": [
        "len(data_train_bl)"
      ],
      "metadata": {
        "colab": {
          "base_uri": "https://localhost:8080/"
        },
        "id": "PGyxvPIZJicr",
        "outputId": "a0dfe687-b98a-445e-8bfa-6a665c74e196"
      },
      "execution_count": null,
      "outputs": [
        {
          "output_type": "execute_result",
          "data": {
            "text/plain": [
              "4163"
            ]
          },
          "metadata": {},
          "execution_count": 14
        }
      ]
    },
    {
      "cell_type": "code",
      "source": [
        "len(data_train_agn)"
      ],
      "metadata": {
        "colab": {
          "base_uri": "https://localhost:8080/"
        },
        "id": "xOIY4f-HJ3dM",
        "outputId": "9ee3a1f4-7c0f-4793-b17b-74de0ac7911c"
      },
      "execution_count": null,
      "outputs": [
        {
          "output_type": "execute_result",
          "data": {
            "text/plain": [
              "3653"
            ]
          },
          "metadata": {},
          "execution_count": 15
        }
      ]
    },
    {
      "cell_type": "code",
      "source": [
        "data_train_bl_tmp = data_train_bl[0:3652]\n",
        "l_train_bl_tmp = l_train_bl[0:3652]"
      ],
      "metadata": {
        "id": "uF4j-egMJ9Jm"
      },
      "execution_count": null,
      "outputs": []
    },
    {
      "cell_type": "code",
      "source": [
        "data = np.concatenate((data_train_bl_tmp,data_train_agn))\n",
        "data_test_bl = np.concatenate((data_test_bl, data_train_bl[3653:]))\n",
        "l_test_bl = np.concatenate((l_test_bl,l_train_bl[3653:]))\n",
        "l_train_bl = l_train_bl_tmp"
      ],
      "metadata": {
        "id": "4mVshqXyKJpV"
      },
      "execution_count": null,
      "outputs": []
    },
    {
      "cell_type": "code",
      "source": [
        "label = np.concatenate((l_train_bl, l_train_agn))"
      ],
      "metadata": {
        "id": "QARd_q0ULckC"
      },
      "execution_count": null,
      "outputs": []
    },
    {
      "cell_type": "code",
      "execution_count": null,
      "metadata": {
        "id": "93vZjamKfabt"
      },
      "outputs": [],
      "source": [
        "# Permuto il train dataset\n",
        "permutation = np.random.permutation(data.shape[0])\n",
        "data_train=data[permutation]\n",
        "l_train=label[permutation]"
      ]
    },
    {
      "cell_type": "code",
      "source": [
        "l_test=np.concatenate((l_test_bl,l_test_agn))\n",
        "data_test=np.concatenate((data_test_bl,data_test_agn))"
      ],
      "metadata": {
        "id": "ooneC3StLbo6"
      },
      "execution_count": null,
      "outputs": []
    },
    {
      "cell_type": "code",
      "source": [
        "# Definisco le dimensione dell'array di Input\n",
        "ishape=data.shape[1:]"
      ],
      "metadata": {
        "id": "JPNrmzQt__Cv"
      },
      "execution_count": null,
      "outputs": []
    },
    {
      "cell_type": "code",
      "source": [
        "init = tf.keras.initializers.LecunNormal(5)\n",
        "\n",
        "model = keras.Sequential()\n",
        "model.add(keras.Input(shape = ishape)) # input\n",
        "model.add(keras.layers.Conv1D(filters = 128,kernel_initializer=init, kernel_size = 3, strides=1, padding='same',\n",
        "    activation=None))\n",
        "model.add(layers.Activation('tanh'))\n",
        "model.add(keras.layers.MaxPool1D(pool_size=2, strides=2, padding='valid'))\n",
        "model.add(keras.layers.Conv1D(filters = 256,kernel_initializer=init, kernel_size = 3, strides=1, padding='same',\n",
        "    activation=None))\n",
        "model.add(layers.Activation('tanh'))\n",
        "model.add(keras.layers.MaxPool1D(pool_size=2, strides=2, padding='valid'))\n",
        "model.add(keras.layers.Conv1D(filters = 512,kernel_initializer=init, kernel_size = 3, strides=1, padding='same',\n",
        "    activation=None))\n",
        "model.add(layers.Activation('tanh'))\n",
        "model.add(keras.layers.MaxPool1D(pool_size=2, strides=2, padding='valid'))\n",
        "model.add(keras.layers.Bidirectional(keras.layers.LSTM(1024)))\n",
        "model.add(keras.layers.Dense(512, activation='relu',kernel_initializer=init, use_bias=True))\n",
        "model.add(keras.layers.Dropout(0.4))\n",
        "model.add(keras.layers.Dense(256, activation='relu', kernel_initializer=init, use_bias=True))\n",
        "model.add(keras.layers.Dropout(0.2))\n",
        "model.add(keras.layers.Dense(1, activation='relu', kernel_initializer=init, use_bias=True))\n",
        "\n",
        "opt = tf.keras.optimizers.Adadelta(learning_rate=0.001)\n",
        "\n",
        "model.compile(loss='binary_crossentropy', optimizer=opt, metrics=['accuracy'])\n",
        "model.summary()"
      ],
      "metadata": {
        "id": "Ifh4ziqIm307",
        "colab": {
          "base_uri": "https://localhost:8080/"
        },
        "outputId": "187765f2-c687-4be3-e2d6-165b319ad8d8"
      },
      "execution_count": null,
      "outputs": [
        {
          "output_type": "stream",
          "name": "stdout",
          "text": [
            "Model: \"sequential\"\n",
            "_________________________________________________________________\n",
            " Layer (type)                Output Shape              Param #   \n",
            "=================================================================\n",
            " conv1d (Conv1D)             (None, 529, 128)          896       \n",
            "                                                                 \n",
            " activation (Activation)     (None, 529, 128)          0         \n",
            "                                                                 \n",
            " max_pooling1d (MaxPooling1D  (None, 264, 128)         0         \n",
            " )                                                               \n",
            "                                                                 \n",
            " conv1d_1 (Conv1D)           (None, 264, 256)          98560     \n",
            "                                                                 \n",
            " activation_1 (Activation)   (None, 264, 256)          0         \n",
            "                                                                 \n",
            " max_pooling1d_1 (MaxPooling  (None, 132, 256)         0         \n",
            " 1D)                                                             \n",
            "                                                                 \n",
            " conv1d_2 (Conv1D)           (None, 132, 512)          393728    \n",
            "                                                                 \n",
            " activation_2 (Activation)   (None, 132, 512)          0         \n",
            "                                                                 \n",
            " max_pooling1d_2 (MaxPooling  (None, 66, 512)          0         \n",
            " 1D)                                                             \n",
            "                                                                 \n",
            " bidirectional (Bidirectiona  (None, 2048)             12591104  \n",
            " l)                                                              \n",
            "                                                                 \n",
            " dense (Dense)               (None, 512)               1049088   \n",
            "                                                                 \n",
            " dropout (Dropout)           (None, 512)               0         \n",
            "                                                                 \n",
            " dense_1 (Dense)             (None, 256)               131328    \n",
            "                                                                 \n",
            " dropout_1 (Dropout)         (None, 256)               0         \n",
            "                                                                 \n",
            " dense_2 (Dense)             (None, 1)                 257       \n",
            "                                                                 \n",
            "=================================================================\n",
            "Total params: 14,264,961\n",
            "Trainable params: 14,264,961\n",
            "Non-trainable params: 0\n",
            "_________________________________________________________________\n"
          ]
        }
      ]
    },
    {
      "cell_type": "code",
      "execution_count": null,
      "metadata": {
        "id": "KcnQGTjJib4k",
        "colab": {
          "base_uri": "https://localhost:8080/",
          "height": 66
        },
        "outputId": "8b3f7263-263b-4006-b7ef-eabe91506e87"
      },
      "outputs": [
        {
          "output_type": "execute_result",
          "data": {
            "text/plain": [
              "<IPython.core.display.Image object>"
            ],
            "image/png": "[encoded data removed]"
          },
          "metadata": {},
          "execution_count": 24
        }
      ],
      "source": [
        "#from keras.utils import plot_model\n",
        "\n",
        "keras.utils.plot_model(model, to_file ='model.png',show_shapes=True,rankdir='LR')"
      ]
    },
    {
      "cell_type": "code",
      "source": [
        ""
      ],
      "metadata": {
        "id": "shscl7JSIfx1"
      },
      "execution_count": null,
      "outputs": []
    },
    {
      "cell_type": "code",
      "execution_count": null,
      "metadata": {
        "id": "w0BalqCG1exx",
        "colab": {
          "base_uri": "https://localhost:8080/"
        },
        "outputId": "d18cf82e-b60d-41d9-d7ab-b284f1a97a69"
      },
      "outputs": [
        {
          "output_type": "stream",
          "name": "stdout",
          "text": [
            "Epoch 1/40\n",
            "411/411 [==============================] - ETA: 0s - loss: 1.6015 - accuracy: 0.5000\n",
            "Epoch 1: val_accuracy improved from -inf to 0.50068, saving model to model_v6_nokfold/model_2.h5\n",
            "411/411 [==============================] - 27s 57ms/step - loss: 1.6015 - accuracy: 0.5000 - val_loss: 1.1228 - val_accuracy: 0.5007\n",
            "Epoch 2/40\n",
            "411/411 [==============================] - ETA: 0s - loss: 0.9126 - accuracy: 0.5254\n",
            "Epoch 2: val_accuracy improved from 0.50068 to 0.56908, saving model to model_v6_nokfold/model_2.h5\n",
            "411/411 [==============================] - 24s 59ms/step - loss: 0.9126 - accuracy: 0.5254 - val_loss: 0.7661 - val_accuracy: 0.5691\n",
            "Epoch 3/40\n",
            "411/411 [==============================] - ETA: 0s - loss: 0.8034 - accuracy: 0.5817\n",
            "Epoch 3: val_accuracy improved from 0.56908 to 0.60602, saving model to model_v6_nokfold/model_2.h5\n",
            "411/411 [==============================] - 26s 64ms/step - loss: 0.8034 - accuracy: 0.5817 - val_loss: 0.8203 - val_accuracy: 0.6060\n",
            "Epoch 4/40\n",
            "411/411 [==============================] - ETA: 0s - loss: 0.7880 - accuracy: 0.5847\n",
            "Epoch 4: val_accuracy did not improve from 0.60602\n",
            "411/411 [==============================] - 23s 56ms/step - loss: 0.7880 - accuracy: 0.5847 - val_loss: 0.7839 - val_accuracy: 0.6060\n",
            "Epoch 5/40\n",
            "411/411 [==============================] - ETA: 0s - loss: 0.7728 - accuracy: 0.5986\n",
            "Epoch 5: val_accuracy did not improve from 0.60602\n",
            "411/411 [==============================] - 23s 56ms/step - loss: 0.7728 - accuracy: 0.5986 - val_loss: 0.7287 - val_accuracy: 0.5992\n",
            "Epoch 6/40\n",
            "411/411 [==============================] - ETA: 0s - loss: 0.7394 - accuracy: 0.5983\n",
            "Epoch 6: val_accuracy improved from 0.60602 to 0.60876, saving model to model_v6_nokfold/model_2.h5\n",
            "411/411 [==============================] - 24s 59ms/step - loss: 0.7394 - accuracy: 0.5983 - val_loss: 0.7003 - val_accuracy: 0.6088\n",
            "Epoch 7/40\n",
            "411/411 [==============================] - ETA: 0s - loss: 0.7131 - accuracy: 0.5926\n",
            "Epoch 7: val_accuracy improved from 0.60876 to 0.61149, saving model to model_v6_nokfold/model_2.h5\n",
            "411/411 [==============================] - 24s 59ms/step - loss: 0.7131 - accuracy: 0.5926 - val_loss: 0.6780 - val_accuracy: 0.6115\n",
            "Epoch 8/40\n",
            "411/411 [==============================] - ETA: 0s - loss: 0.7152 - accuracy: 0.6005\n",
            "Epoch 8: val_accuracy improved from 0.61149 to 0.61696, saving model to model_v6_nokfold/model_2.h5\n",
            "411/411 [==============================] - 24s 59ms/step - loss: 0.7152 - accuracy: 0.6005 - val_loss: 0.6716 - val_accuracy: 0.6170\n",
            "Epoch 9/40\n",
            "411/411 [==============================] - ETA: 0s - loss: 0.7008 - accuracy: 0.6012\n",
            "Epoch 9: val_accuracy did not improve from 0.61696\n",
            "411/411 [==============================] - 23s 56ms/step - loss: 0.7008 - accuracy: 0.6012 - val_loss: 0.6666 - val_accuracy: 0.6129\n",
            "Epoch 10/40\n",
            "411/411 [==============================] - ETA: 0s - loss: 0.6966 - accuracy: 0.5986\n",
            "Epoch 10: val_accuracy improved from 0.61696 to 0.61970, saving model to model_v6_nokfold/model_2.h5\n",
            "411/411 [==============================] - 24s 60ms/step - loss: 0.6966 - accuracy: 0.5986 - val_loss: 0.6632 - val_accuracy: 0.6197\n",
            "Epoch 11/40\n",
            "411/411 [==============================] - ETA: 0s - loss: 0.6876 - accuracy: 0.6069\n",
            "Epoch 11: val_accuracy did not improve from 0.61970\n",
            "411/411 [==============================] - 23s 56ms/step - loss: 0.6876 - accuracy: 0.6069 - val_loss: 0.6604 - val_accuracy: 0.6088\n",
            "Epoch 12/40\n",
            "411/411 [==============================] - ETA: 0s - loss: 0.6799 - accuracy: 0.6059\n",
            "Epoch 12: val_accuracy did not improve from 0.61970\n",
            "411/411 [==============================] - 23s 56ms/step - loss: 0.6799 - accuracy: 0.6059 - val_loss: 0.6585 - val_accuracy: 0.6183\n",
            "Epoch 13/40\n",
            "411/411 [==============================] - ETA: 0s - loss: 0.6763 - accuracy: 0.6085\n",
            "Epoch 13: val_accuracy improved from 0.61970 to 0.62517, saving model to model_v6_nokfold/model_2.h5\n",
            "411/411 [==============================] - 24s 59ms/step - loss: 0.6763 - accuracy: 0.6085 - val_loss: 0.6567 - val_accuracy: 0.6252\n",
            "Epoch 14/40\n",
            "411/411 [==============================] - ETA: 0s - loss: 0.6773 - accuracy: 0.6047\n",
            "Epoch 14: val_accuracy improved from 0.62517 to 0.63748, saving model to model_v6_nokfold/model_2.h5\n",
            "411/411 [==============================] - 24s 59ms/step - loss: 0.6773 - accuracy: 0.6047 - val_loss: 0.6554 - val_accuracy: 0.6375\n",
            "Epoch 15/40\n",
            "411/411 [==============================] - ETA: 0s - loss: 0.6731 - accuracy: 0.6068\n",
            "Epoch 15: val_accuracy improved from 0.63748 to 0.64022, saving model to model_v6_nokfold/model_2.h5\n",
            "411/411 [==============================] - 25s 62ms/step - loss: 0.6731 - accuracy: 0.6068 - val_loss: 0.6543 - val_accuracy: 0.6402\n",
            "Epoch 16/40\n",
            "411/411 [==============================] - ETA: 0s - loss: 0.6771 - accuracy: 0.6113\n",
            "Epoch 16: val_accuracy did not improve from 0.64022\n",
            "411/411 [==============================] - 23s 56ms/step - loss: 0.6771 - accuracy: 0.6113 - val_loss: 0.6538 - val_accuracy: 0.6389\n",
            "Epoch 17/40\n",
            "411/411 [==============================] - ETA: 0s - loss: 0.6741 - accuracy: 0.6138\n",
            "Epoch 17: val_accuracy improved from 0.64022 to 0.64569, saving model to model_v6_nokfold/model_2.h5\n",
            "411/411 [==============================] - 24s 59ms/step - loss: 0.6741 - accuracy: 0.6138 - val_loss: 0.6534 - val_accuracy: 0.6457\n",
            "Epoch 18/40\n",
            "411/411 [==============================] - ETA: 0s - loss: 0.6699 - accuracy: 0.6176\n",
            "Epoch 18: val_accuracy did not improve from 0.64569\n",
            "411/411 [==============================] - 23s 56ms/step - loss: 0.6699 - accuracy: 0.6176 - val_loss: 0.6528 - val_accuracy: 0.6443\n",
            "Epoch 19/40\n",
            "411/411 [==============================] - ETA: 0s - loss: 0.6701 - accuracy: 0.6088\n",
            "Epoch 19: val_accuracy did not improve from 0.64569\n",
            "411/411 [==============================] - 23s 56ms/step - loss: 0.6701 - accuracy: 0.6088 - val_loss: 0.6523 - val_accuracy: 0.6430\n",
            "Epoch 20/40\n",
            "411/411 [==============================] - ETA: 0s - loss: 0.6702 - accuracy: 0.6091\n",
            "Epoch 20: val_accuracy did not improve from 0.64569\n",
            "411/411 [==============================] - 23s 56ms/step - loss: 0.6702 - accuracy: 0.6091 - val_loss: 0.6519 - val_accuracy: 0.6375\n",
            "Epoch 21/40\n",
            "411/411 [==============================] - ETA: 0s - loss: 0.6674 - accuracy: 0.6173\n",
            "Epoch 21: val_accuracy did not improve from 0.64569\n",
            "411/411 [==============================] - 23s 56ms/step - loss: 0.6674 - accuracy: 0.6173 - val_loss: 0.6515 - val_accuracy: 0.6402\n"
          ]
        }
      ],
      "source": [
        "def get_model_name(k):\n",
        "    return 'model_'+str(k)+'.h5'\n",
        "\n",
        "save_dir = 'model_v6_nokfold/'\n",
        "fold_var =2\n",
        "# CREATE CALLBACKS\n",
        "checkpoint = tf.keras.callbacks.ModelCheckpoint(save_dir+get_model_name(fold_var), \n",
        "\t\t\t\t\t\tmonitor='val_accuracy', verbose=1, \n",
        "\t\t\t\t\t\tsave_best_only=True, mode='max')\n",
        "earlystopping = tf.keras.callbacks.EarlyStopping(monitor='val_accuracy',patience=4)\n",
        "callbacks_list = [checkpoint,earlystopping]\n",
        "history=model.fit(x=data_train,y=l_train,validation_split=0.1,epochs=40,batch_size=16, callbacks=callbacks_list)\n",
        "np.save(f'model_v6_nokfold/history_2.npy',history.history)"
      ]
    },
    {
      "cell_type": "code",
      "execution_count": null,
      "metadata": {
        "id": "6BgdxE3gkLFO",
        "colab": {
          "base_uri": "https://localhost:8080/",
          "height": 313
        },
        "outputId": "0efa86c2-a91a-4367-f48b-91a722de8a26"
      },
      "outputs": [
        {
          "output_type": "display_data",
          "data": {
            "text/plain": [
              "<Figure size 432x288 with 2 Axes>"
            ],
            "image/png": "[encoded data removed]"
          },
          "metadata": {
            "needs_background": "light"
          }
        }
      ],
      "source": [
        "#print(history.history.keys())\n",
        "fig, (ax1, ax2) = plt.subplots(1, 2, constrained_layout=True)\n",
        "fig.suptitle(f'Loss and accuracy plot')\n",
        "\n",
        "ax1.plot(history.history[\"val_loss\"], label='validation')\n",
        "ax1.plot(history.history[\"loss\"], label='training')\n",
        "ax1.legend(loc=\"upper right\")\n",
        "ax1.set_xlabel('Epochs')\n",
        "ax1.set_ylabel('Loss')\n",
        "#ax1.set_xlim(-0.5,10)\n",
        "#ax1.set_ylim(0.1,0.7)\n",
        "  \n",
        "ax2.plot(history.history[\"val_accuracy\"], label='validation')\n",
        "ax2.plot(history.history[\"accuracy\"], label='training')\n",
        "ax2.legend(loc=\"lower right\")\n",
        "ax2.set_xlabel('Epochs')\n",
        "ax2.set_ylabel('Accuracy')\n",
        "#ax2.set_xlim(-0.5,10)\n",
        "#ax2.set_ylim(0.5,0.9)\n",
        "fig.savefig(f'model_v6/plot_2')\n",
        "fig.show()"
      ]
    },
    {
      "cell_type": "code",
      "execution_count": null,
      "metadata": {
        "id": "NzjSVI9GRF4d"
      },
      "outputs": [],
      "source": [
        "# loading a history with np\n",
        "# history=np.load('my_history.npy',allow_pickle='TRUE').item()"
      ]
    },
    {
      "cell_type": "code",
      "source": [
        "from keras import models\n",
        "\n",
        "model=models.load_model('model_v6_nokfold/model_2.h5')"
      ],
      "metadata": {
        "id": "mlrclhpsacf-"
      },
      "execution_count": null,
      "outputs": []
    },
    {
      "cell_type": "code",
      "execution_count": null,
      "metadata": {
        "id": "0K-HScVBNtSS",
        "colab": {
          "base_uri": "https://localhost:8080/",
          "height": 295
        },
        "outputId": "54d6e09c-d8e6-46a2-e777-0571fab90fc1"
      },
      "outputs": [
        {
          "output_type": "display_data",
          "data": {
            "text/plain": [
              "<Figure size 432x288 with 1 Axes>"
            ],
            "image/png": "[encoded data removed]"
          },
          "metadata": {
            "needs_background": "light"
          }
        }
      ],
      "source": [
        "# ROC Curve and AUC value with error\n",
        "import sklearn.metrics as metrics\n",
        "# calculate the fpr and tpr for all thresholds of the classification\n",
        "probs = model.predict(data_test)\n",
        "#y_preds_probs = np.argmax(probs,axis=1)\n",
        "fpr, tpr, threshold = metrics.roc_curve(l_test, probs)\n",
        "roc_auc = metrics.auc(fpr, tpr)\n",
        "\n",
        "plt.title('Receiver Operating Characteristic')\n",
        "plt.plot(fpr, tpr, 'b', label = 'AUC = %0.2f' % roc_auc)\n",
        "plt.legend(loc = 'lower right')\n",
        "plt.plot([0, 1], [0, 1],'r--')\n",
        "plt.xlim([0, 1])\n",
        "plt.ylim([0, 1])\n",
        "plt.ylabel('True Positive Rate')\n",
        "plt.xlabel('False Positive Rate')\n",
        "plt.show()"
      ]
    }
  ],
  "metadata": {
    "colab": {
      "collapsed_sections": [],
      "name": "blazar_model_colab_v6_nokfold.ipynb",
      "provenance": []
    },
    "kernelspec": {
      "display_name": "Python 3",
      "name": "python3"
    },
    "language_info": {
      "name": "python"
    },
    "accelerator": "GPU"
  },
  "nbformat": 4,
  "nbformat_minor": 0
}