{
 "cells": [
  {
   "cell_type": "markdown",
   "metadata": {},
   "source": [
    "# Blazars/Non-Blazars (AGNs) Samples Definition\n",
    "\n",
    "### These notebook is to define the samples of sed data of blazars and non-blazar objects for future training of the neural network.\n",
    "\n",
    "A list of name of sources is obtained for the blazar dataset (4627 from the OU4v2 catalog) and a list of ra dec for agns (4093 from the mqv7.2 catalog).\n",
    "\n",
    "These lists will be given as input to the online SED Builder tool (ASI-SSDC) to get the files with the sed data."
   ]
  },
  {
   "cell_type": "code",
   "execution_count": 1,
   "metadata": {},
   "outputs": [
    {
     "name": "stdout",
     "output_type": "stream",
     "text": [
      "1.4.1\n",
      "1.18.5\n"
     ]
    }
   ],
   "source": [
    "import matplotlib\n",
    "from matplotlib import pyplot as plt\n",
    "%matplotlib inline\n",
    "\n",
    "import pandas as pd\n",
    "print(pd.__version__)\n",
    "\n",
    "import numpy as np\n",
    "print(np.__version__)\n",
    "\n",
    "import os"
   ]
  },
  {
   "cell_type": "code",
   "execution_count": 2,
   "metadata": {},
   "outputs": [],
   "source": [
    "blcatalog = 'OU4Bl_v2.csv'\n",
    "agncatalog = 'milliquasv7.2.txt'"
   ]
  },
  {
   "cell_type": "code",
   "execution_count": 3,
   "metadata": {},
   "outputs": [
    {
     "name": "stdout",
     "output_type": "stream",
     "text": [
      "3hsp.csv              OU4Bl_v2.csv\r\n",
      "Check_run_VOUB.ipynb  preparationSED_BUILDERdata.ipynb\r\n",
      "\u001b[0m\u001b[01;34mdata\u001b[0m/                 preparationVOUBdata.ipynb\r\n",
      "milliquasv7.2.txt\r\n"
     ]
    }
   ],
   "source": [
    "%ls"
   ]
  },
  {
   "cell_type": "markdown",
   "metadata": {},
   "source": [
    "# Blazar sample"
   ]
  },
  {
   "cell_type": "code",
   "execution_count": 4,
   "metadata": {},
   "outputs": [
    {
     "data": {
      "text/html": [
       "<div>\n",
       "<style scoped>\n",
       "    .dataframe tbody tr th:only-of-type {\n",
       "        vertical-align: middle;\n",
       "    }\n",
       "\n",
       "    .dataframe tbody tr th {\n",
       "        vertical-align: top;\n",
       "    }\n",
       "\n",
       "    .dataframe thead th {\n",
       "        text-align: right;\n",
       "    }\n",
       "</style>\n",
       "<table border=\"1\" class=\"dataframe\">\n",
       "  <thead>\n",
       "    <tr style=\"text-align: right;\">\n",
       "      <th></th>\n",
       "      <th>id</th>\n",
       "      <th>Source name</th>\n",
       "      <th>R.A.</th>\n",
       "      <th>Dec</th>\n",
       "      <th>Radio flux d.</th>\n",
       "      <th>Fermi flux</th>\n",
       "      <th>Log nu_peak</th>\n",
       "      <th>Redshift</th>\n",
       "      <th>Original catalog</th>\n",
       "    </tr>\n",
       "  </thead>\n",
       "  <tbody>\n",
       "    <tr>\n",
       "      <th>4017</th>\n",
       "      <td>4018</td>\n",
       "      <td>5BZBJ1442+1200</td>\n",
       "      <td>14 42 48.27</td>\n",
       "      <td>+12 00 40.21</td>\n",
       "      <td>69.0</td>\n",
       "      <td>6.140000e-12</td>\n",
       "      <td>17.7</td>\n",
       "      <td>0.163</td>\n",
       "      <td>5BZCAT</td>\n",
       "    </tr>\n",
       "    <tr>\n",
       "      <th>2063</th>\n",
       "      <td>2064</td>\n",
       "      <td>5BZQJ0833+4224</td>\n",
       "      <td>08 33 53.88</td>\n",
       "      <td>+42 24 01.9</td>\n",
       "      <td>249.0</td>\n",
       "      <td>6.590000e-12</td>\n",
       "      <td>0.0</td>\n",
       "      <td>0.249</td>\n",
       "      <td>5BZCAT</td>\n",
       "    </tr>\n",
       "    <tr>\n",
       "      <th>3298</th>\n",
       "      <td>3299</td>\n",
       "      <td>5BZQJ1231+0418</td>\n",
       "      <td>12 31 27.59</td>\n",
       "      <td>+04 18 01.9</td>\n",
       "      <td>339.0</td>\n",
       "      <td>0.000000e+00</td>\n",
       "      <td>0.0</td>\n",
       "      <td>1.030</td>\n",
       "      <td>5BZCAT</td>\n",
       "    </tr>\n",
       "    <tr>\n",
       "      <th>4816</th>\n",
       "      <td>4817</td>\n",
       "      <td>5BZBJ1742+5945</td>\n",
       "      <td>17 42 31.98</td>\n",
       "      <td>+59 45 06.8</td>\n",
       "      <td>106.0</td>\n",
       "      <td>4.850000e-12</td>\n",
       "      <td>0.0</td>\n",
       "      <td>0.000</td>\n",
       "      <td>5BZCAT</td>\n",
       "    </tr>\n",
       "    <tr>\n",
       "      <th>5263</th>\n",
       "      <td>5264</td>\n",
       "      <td>3HSPJ202630.7+764448.3</td>\n",
       "      <td>20 26 30.78</td>\n",
       "      <td>+76 44 48.3</td>\n",
       "      <td>6.4</td>\n",
       "      <td>1.920000e-12</td>\n",
       "      <td>16.6</td>\n",
       "      <td>0.290</td>\n",
       "      <td>3HSP</td>\n",
       "    </tr>\n",
       "    <tr>\n",
       "      <th>1458</th>\n",
       "      <td>1459</td>\n",
       "      <td>5BZQJ0550-5732</td>\n",
       "      <td>05 50 09.54</td>\n",
       "      <td>-57 32 24.21</td>\n",
       "      <td>368.0</td>\n",
       "      <td>1.890000e-12</td>\n",
       "      <td>0.0</td>\n",
       "      <td>2.001</td>\n",
       "      <td>5BZCAT</td>\n",
       "    </tr>\n",
       "    <tr>\n",
       "      <th>2787</th>\n",
       "      <td>2788</td>\n",
       "      <td>5BZBJ1101+4108</td>\n",
       "      <td>11 01 24.72</td>\n",
       "      <td>+41 08 47.4</td>\n",
       "      <td>21.0</td>\n",
       "      <td>2.770000e-12</td>\n",
       "      <td>15.6</td>\n",
       "      <td>0.000</td>\n",
       "      <td>5BZCAT</td>\n",
       "    </tr>\n",
       "    <tr>\n",
       "      <th>5276</th>\n",
       "      <td>5277</td>\n",
       "      <td>5BZQJ2031+5455</td>\n",
       "      <td>20 31 47.94</td>\n",
       "      <td>+54 55 03.1</td>\n",
       "      <td>1154.0</td>\n",
       "      <td>0.000000e+00</td>\n",
       "      <td>0.0</td>\n",
       "      <td>1.262</td>\n",
       "      <td>5BZCAT</td>\n",
       "    </tr>\n",
       "    <tr>\n",
       "      <th>1767</th>\n",
       "      <td>1768</td>\n",
       "      <td>5BZQJ0732+2548</td>\n",
       "      <td>07 32 56.28</td>\n",
       "      <td>+25 48 38.69</td>\n",
       "      <td>482.0</td>\n",
       "      <td>0.000000e+00</td>\n",
       "      <td>0.0</td>\n",
       "      <td>1.443</td>\n",
       "      <td>5BZCAT</td>\n",
       "    </tr>\n",
       "    <tr>\n",
       "      <th>4508</th>\n",
       "      <td>4509</td>\n",
       "      <td>5BZQJ1623+6624</td>\n",
       "      <td>16 23 04.5</td>\n",
       "      <td>+66 24 01.11</td>\n",
       "      <td>155.0</td>\n",
       "      <td>0.000000e+00</td>\n",
       "      <td>0.0</td>\n",
       "      <td>0.201</td>\n",
       "      <td>5BZCAT</td>\n",
       "    </tr>\n",
       "  </tbody>\n",
       "</table>\n",
       "</div>"
      ],
      "text/plain": [
       "        id             Source name         R.A.           Dec  Radio flux d.  \\\n",
       "4017  4018         5BZBJ1442+1200   14 42 48.27  +12 00 40.21           69.0   \n",
       "2063  2064         5BZQJ0833+4224   08 33 53.88   +42 24 01.9          249.0   \n",
       "3298  3299         5BZQJ1231+0418   12 31 27.59   +04 18 01.9          339.0   \n",
       "4816  4817         5BZBJ1742+5945   17 42 31.98   +59 45 06.8          106.0   \n",
       "5263  5264  3HSPJ202630.7+764448.3  20 26 30.78   +76 44 48.3            6.4   \n",
       "1458  1459         5BZQJ0550-5732   05 50 09.54  -57 32 24.21          368.0   \n",
       "2787  2788         5BZBJ1101+4108   11 01 24.72   +41 08 47.4           21.0   \n",
       "5276  5277         5BZQJ2031+5455   20 31 47.94   +54 55 03.1         1154.0   \n",
       "1767  1768         5BZQJ0732+2548   07 32 56.28  +25 48 38.69          482.0   \n",
       "4508  4509         5BZQJ1623+6624    16 23 04.5  +66 24 01.11          155.0   \n",
       "\n",
       "        Fermi flux  Log nu_peak  Redshift Original catalog  \n",
       "4017  6.140000e-12         17.7     0.163           5BZCAT  \n",
       "2063  6.590000e-12          0.0     0.249           5BZCAT  \n",
       "3298  0.000000e+00          0.0     1.030           5BZCAT  \n",
       "4816  4.850000e-12          0.0     0.000           5BZCAT  \n",
       "5263  1.920000e-12         16.6     0.290             3HSP  \n",
       "1458  1.890000e-12          0.0     2.001           5BZCAT  \n",
       "2787  2.770000e-12         15.6     0.000           5BZCAT  \n",
       "5276  0.000000e+00          0.0     1.262           5BZCAT  \n",
       "1767  0.000000e+00          0.0     1.443           5BZCAT  \n",
       "4508  0.000000e+00          0.0     0.201           5BZCAT  "
      ]
     },
     "execution_count": 4,
     "metadata": {},
     "output_type": "execute_result"
    }
   ],
   "source": [
    "ou4bl = pd.read_csv(blcatalog, encoding='utf-8-sig')\n",
    "ou4bl.sample(10)"
   ]
  },
  {
   "cell_type": "code",
   "execution_count": 5,
   "metadata": {},
   "outputs": [],
   "source": [
    "# convert coordinates\n",
    "def sex2deg(ra,dec):\n",
    "    h,m,s = list(map(float,ra.split()))\n",
    "    ra = s / 86400\n",
    "    ra += m / 1440\n",
    "    ra += h / 24\n",
    "    ra *= 360\n",
    "    \n",
    "    d,m,s = dec.split()\n",
    "    dec = float(s) / 3600\n",
    "    dec += float(m) / 60\n",
    "    if d[0] == '-':\n",
    "        dec = float(d) - dec\n",
    "    else:\n",
    "        dec = float(d) + dec\n",
    "    \n",
    "    return ra,dec"
   ]
  },
  {
   "cell_type": "code",
   "execution_count": 6,
   "metadata": {},
   "outputs": [],
   "source": [
    "RA_COL = 'R.A.'\n",
    "DEC_COL = 'Dec'\n",
    "def apply_df(df):\n",
    "    try:\n",
    "        bla = list(sex2deg(df[RA_COL],df[DEC_COL]))\n",
    "    except:\n",
    "        bla = [None,None]\n",
    "    return bla\n",
    "\n",
    "ou4bl[['RA','DEC']] = ou4bl.apply(apply_df, axis=1, result_type = 'expand')"
   ]
  },
  {
   "cell_type": "code",
   "execution_count": 7,
   "metadata": {
    "scrolled": true
   },
   "outputs": [
    {
     "data": {
      "text/html": [
       "<div>\n",
       "<style scoped>\n",
       "    .dataframe tbody tr th:only-of-type {\n",
       "        vertical-align: middle;\n",
       "    }\n",
       "\n",
       "    .dataframe tbody tr th {\n",
       "        vertical-align: top;\n",
       "    }\n",
       "\n",
       "    .dataframe thead th {\n",
       "        text-align: right;\n",
       "    }\n",
       "</style>\n",
       "<table border=\"1\" class=\"dataframe\">\n",
       "  <thead>\n",
       "    <tr style=\"text-align: right;\">\n",
       "      <th></th>\n",
       "      <th>id</th>\n",
       "      <th>Source name</th>\n",
       "      <th>R.A.</th>\n",
       "      <th>Dec</th>\n",
       "      <th>Radio flux d.</th>\n",
       "      <th>Fermi flux</th>\n",
       "      <th>Log nu_peak</th>\n",
       "      <th>Redshift</th>\n",
       "      <th>Original catalog</th>\n",
       "      <th>RA</th>\n",
       "      <th>DEC</th>\n",
       "    </tr>\n",
       "  </thead>\n",
       "  <tbody>\n",
       "    <tr>\n",
       "      <th>0</th>\n",
       "      <td>1</td>\n",
       "      <td>3HSPJ000236.0-081532.4</td>\n",
       "      <td>00 02 36.06</td>\n",
       "      <td>-08 15 32.4</td>\n",
       "      <td>29.0</td>\n",
       "      <td>0.000000e+00</td>\n",
       "      <td>16.0</td>\n",
       "      <td>0.390</td>\n",
       "      <td>3HSP</td>\n",
       "      <td>0.650250</td>\n",
       "      <td>-8.259000</td>\n",
       "    </tr>\n",
       "    <tr>\n",
       "      <th>1</th>\n",
       "      <td>2</td>\n",
       "      <td>5BZBJ0002-0024</td>\n",
       "      <td>00 02 57.16</td>\n",
       "      <td>-00 24 47.01</td>\n",
       "      <td>178.0</td>\n",
       "      <td>0.000000e+00</td>\n",
       "      <td>0.0</td>\n",
       "      <td>0.523</td>\n",
       "      <td>5BZCAT</td>\n",
       "      <td>0.738167</td>\n",
       "      <td>-0.413058</td>\n",
       "    </tr>\n",
       "    <tr>\n",
       "      <th>2</th>\n",
       "      <td>3</td>\n",
       "      <td>4FGLJ0003.3-5905</td>\n",
       "      <td>00 03 13.32</td>\n",
       "      <td>-59 05 47.61</td>\n",
       "      <td>505.9</td>\n",
       "      <td>1.680000e-12</td>\n",
       "      <td>0.0</td>\n",
       "      <td>0.000</td>\n",
       "      <td>Fermi 4LAC</td>\n",
       "      <td>0.805500</td>\n",
       "      <td>-59.096558</td>\n",
       "    </tr>\n",
       "    <tr>\n",
       "      <th>3</th>\n",
       "      <td>4</td>\n",
       "      <td>4FGLJ0003.3-1928</td>\n",
       "      <td>00 03 18.66</td>\n",
       "      <td>-19 27 22.28</td>\n",
       "      <td>171.0</td>\n",
       "      <td>2.590000e-12</td>\n",
       "      <td>0.0</td>\n",
       "      <td>0.000</td>\n",
       "      <td>Fermi 4LAC</td>\n",
       "      <td>0.827750</td>\n",
       "      <td>-19.456189</td>\n",
       "    </tr>\n",
       "    <tr>\n",
       "      <th>4</th>\n",
       "      <td>5</td>\n",
       "      <td>5BZQJ0003+2129</td>\n",
       "      <td>00 03 19.32</td>\n",
       "      <td>+21 29 44.48</td>\n",
       "      <td>83.0</td>\n",
       "      <td>0.000000e+00</td>\n",
       "      <td>0.0</td>\n",
       "      <td>0.450</td>\n",
       "      <td>5BZCAT</td>\n",
       "      <td>0.830500</td>\n",
       "      <td>21.495689</td>\n",
       "    </tr>\n",
       "  </tbody>\n",
       "</table>\n",
       "</div>"
      ],
      "text/plain": [
       "   id             Source name         R.A.           Dec  Radio flux d.  \\\n",
       "0   1  3HSPJ000236.0-081532.4  00 02 36.06   -08 15 32.4           29.0   \n",
       "1   2         5BZBJ0002-0024   00 02 57.16  -00 24 47.01          178.0   \n",
       "2   3       4FGLJ0003.3-5905   00 03 13.32  -59 05 47.61          505.9   \n",
       "3   4       4FGLJ0003.3-1928   00 03 18.66  -19 27 22.28          171.0   \n",
       "4   5         5BZQJ0003+2129   00 03 19.32  +21 29 44.48           83.0   \n",
       "\n",
       "     Fermi flux  Log nu_peak  Redshift Original catalog        RA        DEC  \n",
       "0  0.000000e+00         16.0     0.390             3HSP  0.650250  -8.259000  \n",
       "1  0.000000e+00          0.0     0.523           5BZCAT  0.738167  -0.413058  \n",
       "2  1.680000e-12          0.0     0.000       Fermi 4LAC  0.805500 -59.096558  \n",
       "3  2.590000e-12          0.0     0.000       Fermi 4LAC  0.827750 -19.456189  \n",
       "4  0.000000e+00          0.0     0.450           5BZCAT  0.830500  21.495689  "
      ]
     },
     "execution_count": 7,
     "metadata": {},
     "output_type": "execute_result"
    }
   ],
   "source": [
    "ou4bl.head()"
   ]
  },
  {
   "cell_type": "code",
   "execution_count": 8,
   "metadata": {},
   "outputs": [
    {
     "data": {
      "text/plain": [
       "Index(['id', 'Source name', 'R.A.', 'Dec', 'Radio flux d.', 'Fermi flux',\n",
       "       'Log nu_peak', 'Redshift', 'Original catalog', 'RA', 'DEC'],\n",
       "      dtype='object')"
      ]
     },
     "execution_count": 8,
     "metadata": {},
     "output_type": "execute_result"
    }
   ],
   "source": [
    "ou4bl.columns"
   ]
  },
  {
   "cell_type": "code",
   "execution_count": 9,
   "metadata": {},
   "outputs": [
    {
     "data": {
      "text/plain": [
       "Original catalog\n",
       "5BZCAT        3561\n",
       "3HSP          1353\n",
       "Fermi 4LAC     748\n",
       "Fermi 3LAC     415\n",
       "dtype: int64"
      ]
     },
     "execution_count": 9,
     "metadata": {},
     "output_type": "execute_result"
    }
   ],
   "source": [
    "# Description of the Blazars in the catalog\n",
    "ou4bl.groupby('Original catalog').size().sort_values(ascending=False)"
   ]
  },
  {
   "cell_type": "code",
   "execution_count": 10,
   "metadata": {},
   "outputs": [],
   "source": [
    "# define the colums of interest\n",
    "col = dict(idn='id',\n",
    "           ra='RA',\n",
    "           dec='DEC',\n",
    "           name='Source name',\n",
    "           redshift='Redshift',\n",
    "           flux_radio='Radio flux d.',\n",
    "           fermi_flux='Fermi flux',\n",
    "           nupk='Log nu_peak',\n",
    "           catalog='Original catalog'\n",
    "          )"
   ]
  },
  {
   "cell_type": "markdown",
   "metadata": {},
   "source": [
    "#### 4LAC, 3LAC data absent in SED Builder so I select only 5BZCAT and 3HSP"
   ]
  },
  {
   "cell_type": "code",
   "execution_count": 11,
   "metadata": {},
   "outputs": [],
   "source": [
    "ou4bl_3HSP = ou4bl.loc[ou4bl[col['catalog']] == '3HSP']\n",
    "ou4bl_3HSP = ou4bl_3HSP[list(col.values())]\n",
    "ou4bl_5BZCAT = ou4bl.loc[ou4bl[col['catalog']] == '5BZCAT']\n",
    "ou4bl_5BZCAT = ou4bl_5BZCAT[list(col.values())]\n",
    "# join the two df in order to have my complete list of blazars\n",
    "mybl_list = pd.concat([ou4bl_3HSP, ou4bl_5BZCAT], ignore_index=True)"
   ]
  },
  {
   "cell_type": "code",
   "execution_count": 12,
   "metadata": {},
   "outputs": [
    {
     "data": {
      "text/plain": [
       "Original catalog\n",
       "5BZCAT    3561\n",
       "3HSP      1353\n",
       "dtype: int64"
      ]
     },
     "execution_count": 12,
     "metadata": {},
     "output_type": "execute_result"
    }
   ],
   "source": [
    "# Composition of the Blazars set\n",
    "mybl_list.groupby(col['catalog']).size().sort_values(ascending=False)"
   ]
  },
  {
   "cell_type": "markdown",
   "metadata": {},
   "source": [
    "### SED Builder: problems with recognition of 3HSP source names present in the OU4 catalog\n",
    "\n",
    "#### Downloaded the 3HSP catalogue directly and purged it of the sources already present in 5BZcat\n"
   ]
  },
  {
   "cell_type": "code",
   "execution_count": 13,
   "metadata": {},
   "outputs": [],
   "source": [
    "cat3hsp=pd.read_csv('3hsp.csv',encoding='utf-8-sig')"
   ]
  },
  {
   "cell_type": "code",
   "execution_count": 14,
   "metadata": {
    "scrolled": true
   },
   "outputs": [
    {
     "data": {
      "text/html": [
       "<div>\n",
       "<style scoped>\n",
       "    .dataframe tbody tr th:only-of-type {\n",
       "        vertical-align: middle;\n",
       "    }\n",
       "\n",
       "    .dataframe tbody tr th {\n",
       "        vertical-align: top;\n",
       "    }\n",
       "\n",
       "    .dataframe thead th {\n",
       "        text-align: right;\n",
       "    }\n",
       "</style>\n",
       "<table border=\"1\" class=\"dataframe\">\n",
       "  <thead>\n",
       "    <tr style=\"text-align: right;\">\n",
       "      <th></th>\n",
       "      <th>id</th>\n",
       "      <th>3HSP Source name</th>\n",
       "      <th>BZcat name</th>\n",
       "      <th>R.A.</th>\n",
       "      <th>Dec</th>\n",
       "      <th>NVSS/FIRSTflux density(mJy)</th>\n",
       "      <th>X-ray flux d. @ 1keV (μJy)</th>\n",
       "      <th>Log(peak flux)</th>\n",
       "      <th>γ-ray counterpart</th>\n",
       "      <th>Fermi γ-ray slope</th>\n",
       "      <th>2WHSP name</th>\n",
       "    </tr>\n",
       "  </thead>\n",
       "  <tbody>\n",
       "    <tr>\n",
       "      <th>0</th>\n",
       "      <td>1</td>\n",
       "      <td>3HSPJ000116.4+293534</td>\n",
       "      <td>NaN</td>\n",
       "      <td>0.31821</td>\n",
       "      <td>29.59278</td>\n",
       "      <td>4.0</td>\n",
       "      <td>NaN</td>\n",
       "      <td>-12.9?</td>\n",
       "      <td>NaN</td>\n",
       "      <td>NaN</td>\n",
       "      <td>2WHSPJ000116.3+293534</td>\n",
       "    </tr>\n",
       "    <tr>\n",
       "      <th>1</th>\n",
       "      <td>2</td>\n",
       "      <td>3HSPJ000117.1-315043</td>\n",
       "      <td>NaN</td>\n",
       "      <td>0.32117</td>\n",
       "      <td>-31.84528</td>\n",
       "      <td>7.2</td>\n",
       "      <td>0.23</td>\n",
       "      <td>-12.3?</td>\n",
       "      <td>NaN</td>\n",
       "      <td>NaN</td>\n",
       "      <td>2WHSPJ000116.9-315043</td>\n",
       "    </tr>\n",
       "    <tr>\n",
       "      <th>2</th>\n",
       "      <td>3</td>\n",
       "      <td>3HSPJ000132.7-415525</td>\n",
       "      <td>NaN</td>\n",
       "      <td>0.38642</td>\n",
       "      <td>-41.92361</td>\n",
       "      <td>13.2</td>\n",
       "      <td>0.34</td>\n",
       "      <td>-11.7</td>\n",
       "      <td>4FGL J0001.6-4156</td>\n",
       "      <td>2.09</td>\n",
       "      <td>2WHSPJ000132.6-415524</td>\n",
       "    </tr>\n",
       "    <tr>\n",
       "      <th>3</th>\n",
       "      <td>4</td>\n",
       "      <td>3HSPJ000158.1-115047</td>\n",
       "      <td>NaN</td>\n",
       "      <td>0.49225</td>\n",
       "      <td>-11.84639</td>\n",
       "      <td>3.3</td>\n",
       "      <td>0.11</td>\n",
       "      <td>-12.5</td>\n",
       "      <td>NaN</td>\n",
       "      <td>NaN</td>\n",
       "      <td>2WHSPJ000158.0-115047</td>\n",
       "    </tr>\n",
       "    <tr>\n",
       "      <th>4</th>\n",
       "      <td>5</td>\n",
       "      <td>3HSPJ000215.2-672653</td>\n",
       "      <td>NaN</td>\n",
       "      <td>0.56329</td>\n",
       "      <td>-67.44806</td>\n",
       "      <td>21.4</td>\n",
       "      <td>0.27</td>\n",
       "      <td>-11.8</td>\n",
       "      <td>4FGL J0002.1-6728</td>\n",
       "      <td>1.95</td>\n",
       "      <td>2WHSPJ000215.1-672653</td>\n",
       "    </tr>\n",
       "  </tbody>\n",
       "</table>\n",
       "</div>"
      ],
      "text/plain": [
       "   id      3HSP Source name BZcat name     R.A.       Dec  \\\n",
       "0   1  3HSPJ000116.4+293534        NaN  0.31821  29.59278   \n",
       "1   2  3HSPJ000117.1-315043        NaN  0.32117 -31.84528   \n",
       "2   3  3HSPJ000132.7-415525        NaN  0.38642 -41.92361   \n",
       "3   4  3HSPJ000158.1-115047        NaN  0.49225 -11.84639   \n",
       "4   5  3HSPJ000215.2-672653        NaN  0.56329 -67.44806   \n",
       "\n",
       "   NVSS/FIRSTflux density(mJy)  X-ray flux d. @ 1keV (μJy) Log(peak flux)  \\\n",
       "0                          4.0                         NaN         -12.9?   \n",
       "1                          7.2                        0.23         -12.3?   \n",
       "2                         13.2                        0.34          -11.7   \n",
       "3                          3.3                        0.11          -12.5   \n",
       "4                         21.4                        0.27          -11.8   \n",
       "\n",
       "   γ-ray counterpart  Fermi γ-ray slope             2WHSP name  \n",
       "0                NaN                NaN  2WHSPJ000116.3+293534  \n",
       "1                NaN                NaN  2WHSPJ000116.9-315043  \n",
       "2  4FGL J0001.6-4156               2.09  2WHSPJ000132.6-415524  \n",
       "3                NaN                NaN  2WHSPJ000158.0-115047  \n",
       "4  4FGL J0002.1-6728               1.95  2WHSPJ000215.1-672653  "
      ]
     },
     "execution_count": 14,
     "metadata": {},
     "output_type": "execute_result"
    }
   ],
   "source": [
    "cat3hsp.head()"
   ]
  },
  {
   "cell_type": "code",
   "execution_count": 15,
   "metadata": {},
   "outputs": [
    {
     "data": {
      "text/plain": [
       "(1356, 11)"
      ]
     },
     "execution_count": 15,
     "metadata": {},
     "output_type": "execute_result"
    }
   ],
   "source": [
    "#select dataframe rows not present in the 5BZcat catalog\n",
    "my_3hsp = cat3hsp.loc[cat3hsp['BZcat name'].isnull()]\n",
    "my_3hsp.shape"
   ]
  },
  {
   "cell_type": "code",
   "execution_count": 16,
   "metadata": {},
   "outputs": [],
   "source": [
    "name_my3hsp=my_3hsp['3HSP Source name']"
   ]
  },
  {
   "cell_type": "code",
   "execution_count": 17,
   "metadata": {},
   "outputs": [
    {
     "data": {
      "text/plain": [
       "(1072, 11)"
      ]
     },
     "execution_count": 17,
     "metadata": {},
     "output_type": "execute_result"
    }
   ],
   "source": [
    "# The SED Builder does not recognise many 3HSP names when I give them as input.\n",
    "# switch to the 2WHSP catalogue, removing the \"NaN\" lines\n",
    "\n",
    "my_2whsp = my_3hsp.loc[my_3hsp['2WHSP name'].notnull()]\n",
    "my_2whsp.shape"
   ]
  },
  {
   "cell_type": "code",
   "execution_count": null,
   "metadata": {},
   "outputs": [],
   "source": [
    "# There were 1356 non-BZcat 3HSPs. Selecting sources with the name 2WHSP drops us to 1072 sources:\n",
    "# Lost 284 blazars\n",
    "whsp_name=my_2whsp['2WHSP name']\n",
    "whsp_name.to_csv('my2whsp_name.csv', encoding='utf-8-sig', index=False, header=None)"
   ]
  },
  {
   "cell_type": "code",
   "execution_count": 18,
   "metadata": {},
   "outputs": [],
   "source": [
    "# In total, my Blazar data set for the SED Builder contains 4633 sources (3561 BZCAT + 1072 2WHSP).\n",
    "ou4bl_5BZCAT.to_csv(\"5bzcat_list.csv\", encoding='utf-8-sig', index=False)\n",
    "my_2whsp.to_csv(\"2whsp_list.csv\", encoding='utf-8-sig', index=False)"
   ]
  },
  {
   "cell_type": "markdown",
   "metadata": {},
   "source": [
    "# AGNs Sample"
   ]
  },
  {
   "cell_type": "code",
   "execution_count": 19,
   "metadata": {
    "scrolled": true
   },
   "outputs": [
    {
     "data": {
      "text/html": [
       "<div>\n",
       "<style scoped>\n",
       "    .dataframe tbody tr th:only-of-type {\n",
       "        vertical-align: middle;\n",
       "    }\n",
       "\n",
       "    .dataframe tbody tr th {\n",
       "        vertical-align: top;\n",
       "    }\n",
       "\n",
       "    .dataframe thead th {\n",
       "        text-align: right;\n",
       "    }\n",
       "</style>\n",
       "<table border=\"1\" class=\"dataframe\">\n",
       "  <thead>\n",
       "    <tr style=\"text-align: right;\">\n",
       "      <th></th>\n",
       "      <th>RAJ2000</th>\n",
       "      <th>DEJ2000</th>\n",
       "      <th>Name</th>\n",
       "      <th>Type</th>\n",
       "      <th>Rmag</th>\n",
       "      <th>Bmag</th>\n",
       "      <th>Comment</th>\n",
       "      <th>R</th>\n",
       "      <th>B</th>\n",
       "      <th>z</th>\n",
       "      <th>Qpct</th>\n",
       "      <th>XName</th>\n",
       "      <th>RName</th>\n",
       "      <th>Lobe1</th>\n",
       "      <th>Lobe2</th>\n",
       "    </tr>\n",
       "  </thead>\n",
       "  <tbody>\n",
       "    <tr>\n",
       "      <th>543228</th>\n",
       "      <td>136.155855</td>\n",
       "      <td>32.660010</td>\n",
       "      <td>SDSS J090437.40+323936.0</td>\n",
       "      <td>Q</td>\n",
       "      <td>20.79</td>\n",
       "      <td>21.30</td>\n",
       "      <td>g</td>\n",
       "      <td>1</td>\n",
       "      <td>1</td>\n",
       "      <td>3.320</td>\n",
       "      <td></td>\n",
       "      <td></td>\n",
       "      <td></td>\n",
       "      <td></td>\n",
       "      <td>NaN</td>\n",
       "    </tr>\n",
       "    <tr>\n",
       "      <th>1387028</th>\n",
       "      <td>321.695944</td>\n",
       "      <td>-3.012083</td>\n",
       "      <td>J212647.02-030043.5</td>\n",
       "      <td>R</td>\n",
       "      <td>21.94</td>\n",
       "      <td>22.36</td>\n",
       "      <td>g</td>\n",
       "      <td>-</td>\n",
       "      <td>-</td>\n",
       "      <td></td>\n",
       "      <td>65</td>\n",
       "      <td></td>\n",
       "      <td>FIRST J212646.9-030045</td>\n",
       "      <td></td>\n",
       "      <td>NaN</td>\n",
       "    </tr>\n",
       "    <tr>\n",
       "      <th>1415335</th>\n",
       "      <td>329.518422</td>\n",
       "      <td>30.433277</td>\n",
       "      <td>SDSS J215804.42+302559.7</td>\n",
       "      <td>Q</td>\n",
       "      <td>19.58</td>\n",
       "      <td>20.74</td>\n",
       "      <td>p+</td>\n",
       "      <td>1</td>\n",
       "      <td>-</td>\n",
       "      <td>1.632</td>\n",
       "      <td></td>\n",
       "      <td></td>\n",
       "      <td></td>\n",
       "      <td></td>\n",
       "      <td>NaN</td>\n",
       "    </tr>\n",
       "    <tr>\n",
       "      <th>1516627</th>\n",
       "      <td>350.311579</td>\n",
       "      <td>3.841998</td>\n",
       "      <td>SDSS J232114.77+035031.2</td>\n",
       "      <td>QR</td>\n",
       "      <td>21.38</td>\n",
       "      <td>21.63</td>\n",
       "      <td>gG</td>\n",
       "      <td>-</td>\n",
       "      <td>-</td>\n",
       "      <td>0.891</td>\n",
       "      <td>99</td>\n",
       "      <td></td>\n",
       "      <td>VL0J232114.77+035031.3</td>\n",
       "      <td>FIRST J232114.7+035031</td>\n",
       "      <td>NVSS J232114.5+035030</td>\n",
       "    </tr>\n",
       "    <tr>\n",
       "      <th>18425</th>\n",
       "      <td>2.995188</td>\n",
       "      <td>-55.887946</td>\n",
       "      <td>WISEA J001158.82-555316.5</td>\n",
       "      <td>q</td>\n",
       "      <td>18.77</td>\n",
       "      <td>19.21</td>\n",
       "      <td>jG</td>\n",
       "      <td>-</td>\n",
       "      <td>-</td>\n",
       "      <td>1.300</td>\n",
       "      <td>100</td>\n",
       "      <td></td>\n",
       "      <td></td>\n",
       "      <td></td>\n",
       "      <td>NaN</td>\n",
       "    </tr>\n",
       "    <tr>\n",
       "      <th>654063</th>\n",
       "      <td>154.090784</td>\n",
       "      <td>3.558019</td>\n",
       "      <td>SDSS J101621.78+033328.8</td>\n",
       "      <td>Q</td>\n",
       "      <td>21.18</td>\n",
       "      <td>21.54</td>\n",
       "      <td>g</td>\n",
       "      <td>-</td>\n",
       "      <td>-</td>\n",
       "      <td>2.620</td>\n",
       "      <td></td>\n",
       "      <td></td>\n",
       "      <td></td>\n",
       "      <td></td>\n",
       "      <td>NaN</td>\n",
       "    </tr>\n",
       "    <tr>\n",
       "      <th>644602</th>\n",
       "      <td>152.542461</td>\n",
       "      <td>50.486171</td>\n",
       "      <td>SDSS J101010.19+502910.2</td>\n",
       "      <td>Q</td>\n",
       "      <td>20.99</td>\n",
       "      <td>21.54</td>\n",
       "      <td>gG</td>\n",
       "      <td>-</td>\n",
       "      <td>-</td>\n",
       "      <td>1.114</td>\n",
       "      <td></td>\n",
       "      <td></td>\n",
       "      <td></td>\n",
       "      <td></td>\n",
       "      <td>NaN</td>\n",
       "    </tr>\n",
       "    <tr>\n",
       "      <th>66829</th>\n",
       "      <td>10.699919</td>\n",
       "      <td>-0.490076</td>\n",
       "      <td>SDSS J004247.98-002924.2</td>\n",
       "      <td>Q</td>\n",
       "      <td>22.90</td>\n",
       "      <td>22.64</td>\n",
       "      <td>g</td>\n",
       "      <td>-</td>\n",
       "      <td>-</td>\n",
       "      <td>2.080</td>\n",
       "      <td></td>\n",
       "      <td></td>\n",
       "      <td></td>\n",
       "      <td></td>\n",
       "      <td>NaN</td>\n",
       "    </tr>\n",
       "    <tr>\n",
       "      <th>1277459</th>\n",
       "      <td>257.139947</td>\n",
       "      <td>59.514384</td>\n",
       "      <td>WISEA J170833.47+593051.6</td>\n",
       "      <td>q</td>\n",
       "      <td>20.34</td>\n",
       "      <td>20.50</td>\n",
       "      <td>pG</td>\n",
       "      <td>1</td>\n",
       "      <td>-</td>\n",
       "      <td>1.500</td>\n",
       "      <td>100</td>\n",
       "      <td></td>\n",
       "      <td></td>\n",
       "      <td></td>\n",
       "      <td>NaN</td>\n",
       "    </tr>\n",
       "    <tr>\n",
       "      <th>19175</th>\n",
       "      <td>3.120589</td>\n",
       "      <td>1.392005</td>\n",
       "      <td>PGC 1193502</td>\n",
       "      <td>A</td>\n",
       "      <td>15.69</td>\n",
       "      <td>18.23</td>\n",
       "      <td>p+G</td>\n",
       "      <td>1</td>\n",
       "      <td>1</td>\n",
       "      <td>0.093</td>\n",
       "      <td></td>\n",
       "      <td></td>\n",
       "      <td></td>\n",
       "      <td></td>\n",
       "      <td>NaN</td>\n",
       "    </tr>\n",
       "  </tbody>\n",
       "</table>\n",
       "</div>"
      ],
      "text/plain": [
       "            RAJ2000    DEJ2000                       Name  Type   Rmag   Bmag  \\\n",
       "543228   136.155855  32.660010  SDSS J090437.40+323936.0   Q     20.79  21.30   \n",
       "1387028  321.695944  -3.012083  J212647.02-030043.5        R     21.94  22.36   \n",
       "1415335  329.518422  30.433277  SDSS J215804.42+302559.7   Q     19.58  20.74   \n",
       "1516627  350.311579   3.841998  SDSS J232114.77+035031.2   QR    21.38  21.63   \n",
       "18425      2.995188 -55.887946  WISEA J001158.82-555316.5  q     18.77  19.21   \n",
       "654063   154.090784   3.558019  SDSS J101621.78+033328.8   Q     21.18  21.54   \n",
       "644602   152.542461  50.486171  SDSS J101010.19+502910.2   Q     20.99  21.54   \n",
       "66829     10.699919  -0.490076  SDSS J004247.98-002924.2   Q     22.90  22.64   \n",
       "1277459  257.139947  59.514384  WISEA J170833.47+593051.6  q     20.34  20.50   \n",
       "19175      3.120589   1.392005  PGC 1193502                A     15.69  18.23   \n",
       "\n",
       "        Comment  R  B       z Qpct                   XName  \\\n",
       "543228      g    1  1   3.320                                \n",
       "1387028     g    -  -           65                           \n",
       "1415335     p+   1  -   1.632                                \n",
       "1516627     gG   -  -   0.891   99                           \n",
       "18425       jG   -  -   1.300  100                           \n",
       "654063      g    -  -   2.620                                \n",
       "644602      gG   -  -   1.114                                \n",
       "66829       g    -  -   2.080                                \n",
       "1277459     pG   1  -   1.500  100                           \n",
       "19175       p+G  1  1   0.093                                \n",
       "\n",
       "                          RName                   Lobe1                  Lobe2  \n",
       "543228                                                                     NaN  \n",
       "1387028  FIRST J212646.9-030045                                            NaN  \n",
       "1415335                                                                    NaN  \n",
       "1516627  VL0J232114.77+035031.3  FIRST J232114.7+035031  NVSS J232114.5+035030  \n",
       "18425                                                                      NaN  \n",
       "654063                                                                     NaN  \n",
       "644602                                                                     NaN  \n",
       "66829                                                                      NaN  \n",
       "1277459                                                                    NaN  \n",
       "19175                                                                      NaN  "
      ]
     },
     "execution_count": 19,
     "metadata": {},
     "output_type": "execute_result"
    }
   ],
   "source": [
    "agns_v72 = pd.read_csv(agncatalog, encoding='utf-8-sig', delimiter = '|')\n",
    "agns_v72.sample(10)"
   ]
  },
  {
   "cell_type": "code",
   "execution_count": 20,
   "metadata": {},
   "outputs": [
    {
     "data": {
      "text/plain": [
       "Index(['RAJ2000', 'DEJ2000', 'Name', 'Type', 'Rmag', 'Bmag', 'Comment', 'R',\n",
       "       'B', 'z', 'Qpct', 'XName', 'RName', 'Lobe1', 'Lobe2'],\n",
       "      dtype='object')"
      ]
     },
     "execution_count": 20,
     "metadata": {},
     "output_type": "execute_result"
    }
   ],
   "source": [
    "agns_v72.columns"
   ]
  },
  {
   "cell_type": "code",
   "execution_count": 21,
   "metadata": {
    "scrolled": true
   },
   "outputs": [
    {
     "data": {
      "text/plain": [
       "Type\n",
       "Q       707379\n",
       "q       478297\n",
       "X        83737\n",
       "R        52371\n",
       "QX       50952\n",
       "qX       46025\n",
       "qR       29917\n",
       "N        25773\n",
       "QR       24446\n",
       "A        24114\n",
       "AX        8100\n",
       "K         4522\n",
       "AR        4421\n",
       "NR        4117\n",
       "QRX       4093\n",
       "2         3928\n",
       "QR2       2150\n",
       "qRX       2100\n",
       "RX        1870\n",
       "NX        1843\n",
       "ARX       1831\n",
       "R2        1786\n",
       "qR2       1785\n",
       "BRX       1658\n",
       "q2         972\n",
       "QR2X       877\n",
       "BR         781\n",
       "Q2         715\n",
       "NRX        635\n",
       "KX         524\n",
       "qR2X       248\n",
       "KR         174\n",
       "NR2        165\n",
       "Q2X        164\n",
       "AR2X       150\n",
       "AR2        145\n",
       "R2X        142\n",
       "N2         133\n",
       "BX         106\n",
       "2X          90\n",
       "A2          87\n",
       "q2X         80\n",
       "BR2X        68\n",
       "B           51\n",
       "L           50\n",
       "KRX         49\n",
       "NR2X        43\n",
       "A2X         42\n",
       "BR2         27\n",
       "KR2         18\n",
       "K2          18\n",
       "N2X         17\n",
       "LX          10\n",
       "B2X          8\n",
       "KR2X         6\n",
       "K2X          5\n",
       "B2           5\n",
       "LRX          3\n",
       "LR           1\n",
       "dtype: int64"
      ]
     },
     "execution_count": 21,
     "metadata": {},
     "output_type": "execute_result"
    }
   ],
   "source": [
    "agns_v72.groupby('Type').size().sort_values(ascending=False)"
   ]
  },
  {
   "cell_type": "code",
   "execution_count": 22,
   "metadata": {},
   "outputs": [
    {
     "data": {
      "text/html": [
       "<div>\n",
       "<style scoped>\n",
       "    .dataframe tbody tr th:only-of-type {\n",
       "        vertical-align: middle;\n",
       "    }\n",
       "\n",
       "    .dataframe tbody tr th {\n",
       "        vertical-align: top;\n",
       "    }\n",
       "\n",
       "    .dataframe thead th {\n",
       "        text-align: right;\n",
       "    }\n",
       "</style>\n",
       "<table border=\"1\" class=\"dataframe\">\n",
       "  <thead>\n",
       "    <tr style=\"text-align: right;\">\n",
       "      <th></th>\n",
       "      <th>RAJ2000</th>\n",
       "      <th>DEJ2000</th>\n",
       "      <th>Name</th>\n",
       "      <th>Type</th>\n",
       "      <th>Rmag</th>\n",
       "      <th>Bmag</th>\n",
       "      <th>Comment</th>\n",
       "      <th>R</th>\n",
       "      <th>B</th>\n",
       "      <th>z</th>\n",
       "      <th>Qpct</th>\n",
       "      <th>XName</th>\n",
       "      <th>RName</th>\n",
       "      <th>Lobe1</th>\n",
       "      <th>Lobe2</th>\n",
       "    </tr>\n",
       "  </thead>\n",
       "  <tbody>\n",
       "    <tr>\n",
       "      <th>1343</th>\n",
       "      <td>0.212906</td>\n",
       "      <td>11.236500</td>\n",
       "      <td>SDSS J000051.09+111411.2</td>\n",
       "      <td>QRX</td>\n",
       "      <td>17.16</td>\n",
       "      <td>17.99</td>\n",
       "      <td>pG</td>\n",
       "      <td>-</td>\n",
       "      <td>-</td>\n",
       "      <td>0.865</td>\n",
       "      <td>99</td>\n",
       "      <td>2RXS J000051.2+111422</td>\n",
       "      <td>FIRST J000051.0+111411</td>\n",
       "      <td>VL0J000051.07+111411.6</td>\n",
       "      <td>NaN</td>\n",
       "    </tr>\n",
       "    <tr>\n",
       "      <th>1520</th>\n",
       "      <td>0.240825</td>\n",
       "      <td>29.710146</td>\n",
       "      <td>SDSS J000057.79+294236.4</td>\n",
       "      <td>QRX</td>\n",
       "      <td>20.10</td>\n",
       "      <td>20.11</td>\n",
       "      <td>gG</td>\n",
       "      <td>-</td>\n",
       "      <td>-</td>\n",
       "      <td>0.760</td>\n",
       "      <td>100</td>\n",
       "      <td>2RXS J000058.1+294227</td>\n",
       "      <td>VL0J000057.78+294236.5</td>\n",
       "      <td>NVSS J000058.1+294237</td>\n",
       "      <td>2RXP J000058.5+294234</td>\n",
       "    </tr>\n",
       "    <tr>\n",
       "      <th>1787</th>\n",
       "      <td>0.285889</td>\n",
       "      <td>19.242694</td>\n",
       "      <td>TEX 2358+189</td>\n",
       "      <td>QRX</td>\n",
       "      <td>20.50</td>\n",
       "      <td>21.19</td>\n",
       "      <td>j</td>\n",
       "      <td>1</td>\n",
       "      <td>1</td>\n",
       "      <td>3.100</td>\n",
       "      <td>100</td>\n",
       "      <td>2SXPS J000108.5+191431</td>\n",
       "      <td>VL0J000108.62+191434.1</td>\n",
       "      <td>NVSS J000108.6+191434</td>\n",
       "      <td>NaN</td>\n",
       "    </tr>\n",
       "    <tr>\n",
       "      <th>2071</th>\n",
       "      <td>0.330319</td>\n",
       "      <td>19.429377</td>\n",
       "      <td>SDSS J000119.28+192545.7</td>\n",
       "      <td>QRX</td>\n",
       "      <td>19.97</td>\n",
       "      <td>20.61</td>\n",
       "      <td>gG</td>\n",
       "      <td>-</td>\n",
       "      <td>1</td>\n",
       "      <td>1.253</td>\n",
       "      <td>98</td>\n",
       "      <td>2SXPS J000119.2+192541</td>\n",
       "      <td>NVSS J000119.2+192548</td>\n",
       "      <td></td>\n",
       "      <td>NaN</td>\n",
       "    </tr>\n",
       "    <tr>\n",
       "      <th>2227</th>\n",
       "      <td>0.353409</td>\n",
       "      <td>8.890468</td>\n",
       "      <td>SDSS J000124.81+085325.7</td>\n",
       "      <td>QRX</td>\n",
       "      <td>19.13</td>\n",
       "      <td>18.93</td>\n",
       "      <td>jG</td>\n",
       "      <td>-</td>\n",
       "      <td>-</td>\n",
       "      <td>1.051</td>\n",
       "      <td>99</td>\n",
       "      <td>2RXS J000124.9+085320</td>\n",
       "      <td>FIRST J000124.8+085325</td>\n",
       "      <td>NVSS J000124.8+085325</td>\n",
       "      <td>NaN</td>\n",
       "    </tr>\n",
       "  </tbody>\n",
       "</table>\n",
       "</div>"
      ],
      "text/plain": [
       "       RAJ2000    DEJ2000                       Name  Type   Rmag   Bmag  \\\n",
       "1343  0.212906  11.236500  SDSS J000051.09+111411.2   QRX   17.16  17.99   \n",
       "1520  0.240825  29.710146  SDSS J000057.79+294236.4   QRX   20.10  20.11   \n",
       "1787  0.285889  19.242694  TEX 2358+189               QRX   20.50  21.19   \n",
       "2071  0.330319  19.429377  SDSS J000119.28+192545.7   QRX   19.97  20.61   \n",
       "2227  0.353409   8.890468  SDSS J000124.81+085325.7   QRX   19.13  18.93   \n",
       "\n",
       "     Comment  R  B       z Qpct                   XName  \\\n",
       "1343     pG   -  -   0.865   99  2RXS J000051.2+111422    \n",
       "1520     gG   -  -   0.760  100  2RXS J000058.1+294227    \n",
       "1787     j    1  1   3.100  100  2SXPS J000108.5+191431   \n",
       "2071     gG   -  1   1.253   98  2SXPS J000119.2+192541   \n",
       "2227     jG   -  -   1.051   99  2RXS J000124.9+085320    \n",
       "\n",
       "                       RName                   Lobe1                  Lobe2  \n",
       "1343  FIRST J000051.0+111411  VL0J000051.07+111411.6                    NaN  \n",
       "1520  VL0J000057.78+294236.5  NVSS J000058.1+294237   2RXP J000058.5+294234  \n",
       "1787  VL0J000108.62+191434.1  NVSS J000108.6+191434                     NaN  \n",
       "2071  NVSS J000119.2+192548                                             NaN  \n",
       "2227  FIRST J000124.8+085325  NVSS J000124.8+085325                     NaN  "
      ]
     },
     "execution_count": 22,
     "metadata": {},
     "output_type": "execute_result"
    }
   ],
   "source": [
    "# I select the type \"QRX\": QSO type-I broad-line core-dominated with Radio and X association (4093)\n",
    "agns_qrx = agns_v72.loc[agns_v72['Type'].str.strip() == 'QRX']\n",
    "agns_qrx.head()"
   ]
  },
  {
   "cell_type": "code",
   "execution_count": 23,
   "metadata": {},
   "outputs": [
    {
     "data": {
      "text/plain": [
       "(4093, 2)"
      ]
     },
     "execution_count": 23,
     "metadata": {},
     "output_type": "execute_result"
    }
   ],
   "source": [
    "# I select the coordinates to do the RUN with the SED Builder (names are not well recognised in this case)\n",
    "agns_qrx_radec = agns_qrx[['RAJ2000','DEJ2000']]\n",
    "agns_qrx_radec.shape"
   ]
  },
  {
   "cell_type": "code",
   "execution_count": null,
   "metadata": {},
   "outputs": [],
   "source": [
    "# save in .csv 4093 AGNS\n",
    "#agns_qrx_radec.to_csv('agn_qrx_radec.csv', header=None, index=False)"
   ]
  },
  {
   "cell_type": "code",
   "execution_count": 24,
   "metadata": {},
   "outputs": [],
   "source": [
    "# AGNs data set for the SED Builder contains 4093 sources from mqv7.2 catalog.\n",
    "agns_qrx.to_csv('mqv7.2agn_qrx.csv', encoding='utf-8-sig')"
   ]
  },
  {
   "cell_type": "markdown",
   "metadata": {},
   "source": [
    "# Preprocessing of the SED data file obteined with SED Builder\n",
    "\n",
    "At this point, the SED of each object (providing one) is obtained with the `SEd-Builder Tool`(SSDC-ASI). I buildt a python script `run_sedbuilder_script.py` to automatically access the online tool via the browser, load the lists with the names of the sources and submit the request to obtain the files with the data.\n",
    "For the  `Blazars ` I used the `BZCAT + 2WHSP` list of name (the data retrived are in the folders  `data/sedData_bzcat_name/` and  `data/sedData_2whsp_name/`) and for the  `AGNs` I used the  `mqv7.2 QRX`list of ra-dec (the data retrived are in the folder `data/agns/`)"
   ]
  },
  {
   "cell_type": "code",
   "execution_count": 25,
   "metadata": {},
   "outputs": [],
   "source": [
    "#function to create a list with path to files\n",
    "\n",
    "def list_files_recursive(path):\n",
    "    \"\"\"\n",
    "    Function to create a list with the absolute path to files.\n",
    "    \n",
    "    Parameter\n",
    "    ---------\n",
    "    path: str\n",
    "        directory path\n",
    "    \"\"\"\n",
    "    import os\n",
    "    files = []\n",
    "    # r = root, d = directories, f = files\n",
    "    for r, d, f in os.walk(path):\n",
    "          for file in f:\n",
    "                if '.zip' in file:\n",
    "                    continue\n",
    "                files.append(os.path.join(r, file))\n",
    "                \n",
    "    return files"
   ]
  },
  {
   "cell_type": "code",
   "execution_count": 31,
   "metadata": {},
   "outputs": [
    {
     "name": "stdout",
     "output_type": "stream",
     "text": [
      "/home/elenagasparri/agilenusrc/Notebook\n"
     ]
    }
   ],
   "source": [
    "dir_agn = 'data/agns/'\n",
    "dir_bzcat = 'data/sedData_bzcat_name/'\n",
    "dir_2whsp = 'data/sedData_2whsp_name/'\n",
    "print(os.getcwd())"
   ]
  },
  {
   "cell_type": "code",
   "execution_count": 32,
   "metadata": {},
   "outputs": [
    {
     "name": "stdout",
     "output_type": "stream",
     "text": [
      "2whsp_list.csv        \u001b[0m\u001b[01;34mdata\u001b[0m/              preparationSED_BUILDERdata.ipynb\r\n",
      "3hsp.csv              milliquasv7.2.txt  preparationVOUBdata.ipynb\r\n",
      "5bzcat_list.csv       mqv7.2agn_qrx.csv\r\n",
      "Check_run_VOUB.ipynb  OU4Bl_v2.csv\r\n"
     ]
    }
   ],
   "source": [
    "cur_dir = os.getcwd()\n",
    "%ls"
   ]
  },
  {
   "cell_type": "code",
   "execution_count": 33,
   "metadata": {},
   "outputs": [],
   "source": [
    "# List of sed file of agn and blazar from Sed Builder tool\n",
    "path_bzcat = os.path.join(cur_dir, dir_bzcat)\n",
    "sed_bzcat = list_files_recursive(path_bzcat)\n",
    "path_2whsp = os.path.join(cur_dir, dir_2whsp)\n",
    "sed_2whsp = list_files_recursive(path_2whsp)\n",
    "\n",
    "path_agn = os.path.join(cur_dir, dir_agn)\n",
    "sed_agns = list_files_recursive(path_agn)"
   ]
  },
  {
   "cell_type": "code",
   "execution_count": 34,
   "metadata": {},
   "outputs": [
    {
     "data": {
      "text/plain": [
       "3560"
      ]
     },
     "execution_count": 34,
     "metadata": {},
     "output_type": "execute_result"
    }
   ],
   "source": [
    "# the blazar bzcat in the list are 3560 and not 3561 because in the catalog the source 5BZBJ1701+3954 appears twice (folder_56)\n",
    "# The reported coordinates are slightly different but the sky_explorer also identifies them as the same source.\n",
    "len(sed_bzcat)"
   ]
  },
  {
   "cell_type": "code",
   "execution_count": 35,
   "metadata": {},
   "outputs": [
    {
     "data": {
      "text/plain": [
       "1067"
      ]
     },
     "execution_count": 35,
     "metadata": {},
     "output_type": "execute_result"
    }
   ],
   "source": [
    "# are 1067 because 5 2whsp sources were not resolved by sed builder:\n",
    "# Name not found in file_1: ?2WHSPJ000116.3+293534\n",
    "# Name not found in file_2: 2WHSPJ013309.4-453524\n",
    "# Name not found in file_10: 2WHSPJ111603.5+371036\n",
    "# Name not found in file_13: 2WHSPJ135340.2-663958\n",
    "# Name not found in file_19: 2WHSPJ200054.0-364226\n",
    "len(sed_2whsp)"
   ]
  },
  {
   "cell_type": "code",
   "execution_count": 36,
   "metadata": {},
   "outputs": [
    {
     "data": {
      "text/plain": [
       "4627"
      ]
     },
     "execution_count": 36,
     "metadata": {},
     "output_type": "execute_result"
    }
   ],
   "source": [
    "# Concatenate lists 'sed_bzcat' and 'sed_2whsp' to create a single file list blazars\n",
    "sed_blazars = sed_bzcat + sed_2whsp\n",
    "len(sed_blazars)"
   ]
  },
  {
   "cell_type": "code",
   "execution_count": 37,
   "metadata": {},
   "outputs": [
    {
     "data": {
      "text/plain": [
       "4059"
      ]
     },
     "execution_count": 37,
     "metadata": {},
     "output_type": "execute_result"
    }
   ],
   "source": [
    "# It was supposed to be 4093 (34 sources were not resolved by sed builder)\n",
    "len(sed_agns)"
   ]
  },
  {
   "cell_type": "markdown",
   "metadata": {},
   "source": [
    "### Preprocessing on sed files"
   ]
  },
  {
   "cell_type": "code",
   "execution_count": 38,
   "metadata": {},
   "outputs": [],
   "source": [
    "# Preprocessing on blazar sed files\n",
    "\n",
    "ul_blazars = 0\n",
    "bad_words = ['; UPPER LIMIT','NAN', 'nan','NaN']\n",
    "\n",
    "freq_all_bl=[]\n",
    "flux_all_bl=[]\n",
    "seddata_all_bl= []\n",
    "point_sed_bl =[]\n",
    "\n",
    "for file in sed_blazars:\n",
    "    # deleting row whit upper limit ora NAN\n",
    "    with open(file) as oldfile, open('newfile.txt', 'w') as newfile:\n",
    "        for line in oldfile:\n",
    "            if not any(bad_word in line for bad_word in bad_words):\n",
    "                newfile.write(line)\n",
    "            else:\n",
    "                ul_blazars += 1\n",
    "    freq_opt = []                                                   # refined freq-flux array initialization\n",
    "    flux_opt = []\n",
    "    freq, flux = np.loadtxt('newfile.txt', usecols=(0, 2), unpack=True)\n",
    "    try:\n",
    "        #deleting strange measures\n",
    "        strange_flux_index = [i for i in range(len(freq)) if flux[i]>= 1e-5 or flux[i]<0]\n",
    "        freq = np.delete(freq,strange_flux_index)\n",
    "        flux = np.delete(flux,strange_flux_index)\n",
    "        # if the frequencies are repeated, I keep the higher flux measurement\n",
    "        for i in range(len(freq)):\n",
    "            if np.size(np.where(freq_opt == freq[i]))>0:\n",
    "                if flux[i] > flux_opt[np.where(freq_opt == freq[i])]:\n",
    "                    flux_opt[np.where(freq_opt == freq[i])]=flux[i]\n",
    "            else:\n",
    "                freq_opt= np.append(freq_opt,freq[i])\n",
    "                flux_opt= np.append(flux_opt,flux[i])\n",
    "    except TypeError:\n",
    "        freq_opt= np.append(freq_opt,freq[i])                       # In case there is only one freq-flux measurement\n",
    "        flux_opt= np.append(flux_opt,flux[i])                       # does not give an error but simply appends value\n",
    "    \n",
    "    # Building arrays of interest\n",
    "    freq_all_bl = np.append(freq_all_bl,freq_opt)                   # array 1-D whit all the frequencies\n",
    "    flux_all_bl = np.append(flux_all_bl,flux_opt)                   # array 1-D whit all the fluxes\n",
    "    freq_points_bl = np.unique(freq_all_bl)                         # array 1-D whit all the unique freq in the dataset\n",
    "    freq_points_bl_ord = freq_points_bl[freq_points_bl.argsort()]   # array 1-D freq_points sorted\n",
    "    seddata_all_bl.append((freq_opt,flux_opt))                      # tupla flux_all[i][j][k], i = source, j=0 or 1 freq or\n",
    "                                                                    # flux measure, [k] = k-riga of the array\n",
    "    point_sed_bl = np.append(point_sed_bl,len(freq_opt))            # array 1-D whit the number of points for sed"
   ]
  },
  {
   "cell_type": "code",
   "execution_count": 39,
   "metadata": {
    "scrolled": false
   },
   "outputs": [
    {
     "name": "stdout",
     "output_type": "stream",
     "text": [
      "The number of different frequencies in the blazar dataset is  (527,)\n",
      "The number of input vectors for blazars is  4627\n",
      "Total Upper limits in SEDs for Blazars are:  14247\n"
     ]
    }
   ],
   "source": [
    "print('The number of different frequencies in the blazar dataset is ',freq_points_bl.shape)\n",
    "print('The number of input vectors for blazars is ',len(seddata_all_bl))\n",
    "print('Total Upper limits in SEDs for Blazars are: ',ul_blazars)"
   ]
  },
  {
   "cell_type": "code",
   "execution_count": 40,
   "metadata": {},
   "outputs": [],
   "source": [
    "# Preprocessing on AGNs sed files\n",
    "ul_agns = 0\n",
    "bad_words = ['; UPPER LIMIT','NAN', 'nan','NaN']\n",
    "\n",
    "freq_all_agn=[]\n",
    "flux_all_agn=[]\n",
    "seddata_all_agn= []\n",
    "point_sed_agn =[]\n",
    "\n",
    "for file in sed_agns:\n",
    "    # deleting row whit upper limit ora NAN\n",
    "    with open(file) as oldfile, open('newfile.txt', 'w') as newfile:\n",
    "        for line in oldfile:\n",
    "            if not any(bad_word in line for bad_word in bad_words):\n",
    "                newfile.write(line)\n",
    "            else:\n",
    "                ul_agns += 1\n",
    "    freq_opt = []                                                     # refined freq-flux array initialization\n",
    "    flux_opt = []\n",
    "    freq = []\n",
    "    freq, flux = np.loadtxt('newfile.txt', usecols=(0, 2), unpack=True)\n",
    "    try:\n",
    "        #deleting strange measures\n",
    "        strange_flux_index = [i for i in range(len(freq)) if flux[i]>= 1e-6 or flux[i]<0]\n",
    "        freq = np.delete(freq,strange_flux_index)\n",
    "        flux = np.delete(flux,strange_flux_index)\n",
    "        # if the frequencies are repeated, I keep the higher flux measurement\n",
    "        for i in range(len(freq)):\n",
    "            if np.size(np.where(freq_opt == freq[i]))>0:\n",
    "                if flux[i] > flux_opt[np.where(freq_opt == freq[i])]:\n",
    "                    flux_opt[np.where(freq_opt == freq[i])]=flux[i]\n",
    "            else:\n",
    "                freq_opt= np.append(freq_opt,freq[i])\n",
    "                flux_opt= np.append(flux_opt,flux[i])\n",
    "    except TypeError:\n",
    "        freq_opt= np.append(freq_opt,freq)                         # In case there is only one freq-flux measurement\n",
    "        flux_opt= np.append(flux_opt,flux)                         # does not give an error but simply appends value\n",
    "    \n",
    "    # Building arrays of interest\n",
    "    freq_all_agn = np.append(freq_all_agn,freq_opt)                    # array 1-D whit all the frequencies\n",
    "    flux_all_agn = np.append(flux_all_agn,flux_opt)                    # array 1-D whit all the fluxes\n",
    "    freq_points_agn = np.unique(freq_all_agn)                          # array 1-D whit all the unique freq in the dataset\n",
    "    freq_points_agn_ord = freq_points_agn[freq_points_agn.argsort()]   # array 1-D freq_points sorted\n",
    "    seddata_all_agn.append((freq_opt,flux_opt))                        # tupla flux_all[i][j][k], i = source, j=0 or 1 freq or\n",
    "                                                                       # flux measure, [k] = k-riga of the array\n",
    "    point_sed_agn = np.append(point_sed_agn,len(freq_opt))             # array 1-D whit the number of points for sed"
   ]
  },
  {
   "cell_type": "code",
   "execution_count": 42,
   "metadata": {
    "scrolled": true
   },
   "outputs": [
    {
     "name": "stdout",
     "output_type": "stream",
     "text": [
      "The number of different frequencies in the AGNs dataset is  (216,)\n",
      "The number of input vectors for AGNs is  4059\n",
      "Total Upper limits in SEDs for AGNs are:  6473\n"
     ]
    }
   ],
   "source": [
    "print('The number of different frequencies in the AGNs dataset is ',freq_points_agn.shape)\n",
    "print('The number of input vectors for AGNs is ',len(seddata_all_agn))\n",
    "print('Total Upper limits in SEDs for AGNs are: ',ul_agns)"
   ]
  },
  {
   "cell_type": "markdown",
   "metadata": {},
   "source": [
    "# Generation of the dataset for the Neural Network"
   ]
  },
  {
   "cell_type": "code",
   "execution_count": 43,
   "metadata": {},
   "outputs": [
    {
     "data": {
      "text/plain": [
       "(529,)"
      ]
     },
     "execution_count": 43,
     "metadata": {},
     "output_type": "execute_result"
    }
   ],
   "source": [
    "# I generate 'nn_freq_data' as a sorted vector containing all values of different frequencies that appear in the two\n",
    "# data sets blazars and agns to create arrays of identical length for the neural network\n",
    "tot_freq = np.append(freq_points_bl_ord,freq_points_agn_ord)\n",
    "tot_freq_un = np.unique(tot_freq)\n",
    "nn_freq_data = tot_freq_un[tot_freq_un.argsort()]\n",
    "\n",
    "nn_freq_data.shape"
   ]
  },
  {
   "cell_type": "code",
   "execution_count": 44,
   "metadata": {},
   "outputs": [],
   "source": [
    "def GenerateDataSet(nn_frequencies, sed_values):\n",
    "    \"\"\"\n",
    "    A function that, given an ordered frequency array of lenght N, generates an array with shape (N,2)\n",
    "    where the flux values are arranged in the right position with respect to the associated frequency.\n",
    "    I assign zero to empty frequency position.\n",
    "    In the second column we have a flag at 1 to identify \"real\" measures.\n",
    "    \n",
    "    Parameters\n",
    "    ----------\n",
    "        \n",
    "    nn_frequencies: array 1-D\n",
    "                    Numpy array sorted with all the different frequencies in the blazar + agns data sets.\n",
    "                    \n",
    "    sed_values: tupla \n",
    "                All dataset (blazars or agns) [i]= sources, [j]= 0 (freq), 1(flux), [k]=k-riga dell'array\n",
    "    \"\"\"\n",
    "    data = []\n",
    "    for x in sed_values:\n",
    "        temp = np.zeros((nn_frequencies.shape[0],2))\n",
    "        for i in range(len(x[0])):\n",
    "            idx = np.where(nn_frequencies == x[0][i])\n",
    "            temp[idx,0] = x[1][i]\n",
    "            temp[idx,1]=1                        # flag at 1 for real data in sed file\n",
    "        data.append(temp)\n",
    "    return np.array(data)"
   ]
  },
  {
   "cell_type": "code",
   "execution_count": 45,
   "metadata": {},
   "outputs": [
    {
     "data": {
      "text/plain": [
       "(4627, 529, 2)"
      ]
     },
     "execution_count": 45,
     "metadata": {},
     "output_type": "execute_result"
    }
   ],
   "source": [
    "# n-D numpy array with blazar's data for the neural network\n",
    "bl_data = GenerateDataSet(nn_freq_data, seddata_all_bl)\n",
    "\n",
    "bl_data.shape"
   ]
  },
  {
   "cell_type": "code",
   "execution_count": 46,
   "metadata": {},
   "outputs": [
    {
     "data": {
      "text/plain": [
       "(4059, 529, 2)"
      ]
     },
     "execution_count": 46,
     "metadata": {},
     "output_type": "execute_result"
    }
   ],
   "source": [
    "# n-D numpy array with agn's data for the neural network\n",
    "agn_data = GenerateDataSet(nn_freq_data, seddata_all_agn)\n",
    "\n",
    "agn_data.shape"
   ]
  },
  {
   "cell_type": "code",
   "execution_count": null,
   "metadata": {},
   "outputs": [],
   "source": [
    "# I save the two numpy ndarrays with blazar and agn data and the array with the ordered frequencies\n",
    "# in the file nn_data.npz which I will use in the neural network\n",
    "\n",
    "np.savez('nn_data.npz',bl_data = bl_data, agn_data = agn_data, nn_freq_data = nn_freq_data)"
   ]
  },
  {
   "cell_type": "markdown",
   "metadata": {},
   "source": [
    "# Some Plot of data"
   ]
  },
  {
   "cell_type": "code",
   "execution_count": 48,
   "metadata": {},
   "outputs": [],
   "source": [
    "# Histogram of the number of sources per amount of data points in the SED\n",
    "\n",
    "def histData(points_bl, points_agn):\n",
    "    ''' Histogram of the amount of data points per SED file\n",
    "    \n",
    "    Parameters\n",
    "    ----------\n",
    "        points_bl = numpy array like points_per_sed of Blazars sources\n",
    "        points_agn = numpy array like points_per_sed of AGN sources\n",
    "    '''\n",
    "    plt.figure()\n",
    "    plt.title('Number of sources per amount of data points in the SED')\n",
    "    plt.xlabel('Points per SED')\n",
    "    plt.ylabel('Numbers of sources')\n",
    "    plt.grid(True)\n",
    "    bins = np.logspace(0, 3, 50)\n",
    "    plt.xscale('log')\n",
    "\n",
    "    n, bins, patches=plt.hist(points_bl, bins=bins, alpha=1.0, histtype='step', label='Blazars')\n",
    "    n_1, bins_1, patches_1=plt.hist(points_agn, bins=bins, alpha=1.0, histtype='step', label=f'AGNs')\n",
    "    plt.legend(loc='upper right')\n",
    "    plt.show()"
   ]
  },
  {
   "cell_type": "code",
   "execution_count": 49,
   "metadata": {
    "scrolled": false
   },
   "outputs": [
    {
     "data": {
      "image/png": "[encoded data removed]",
      "text/plain": [
       "<Figure size 432x288 with 1 Axes>"
      ]
     },
     "metadata": {
      "needs_background": "light"
     },
     "output_type": "display_data"
    }
   ],
   "source": [
    "#plot of SED Builder data\n",
    "histData(point_sed_bl,point_sed_agn)"
   ]
  },
  {
   "cell_type": "code",
   "execution_count": 50,
   "metadata": {},
   "outputs": [],
   "source": [
    "# plotting the SEDs of all files to see how the points are distributed\n",
    "\n",
    "def sedDistribution(sed_data_all,mode):\n",
    "    ''' Plot of the SED files.\n",
    "    \n",
    "    Parameters\n",
    "    ----------\n",
    "        \n",
    "    sed_data_all: tupla\n",
    "                Full dataset with freq e flux like seddata_all_***\n",
    "    \n",
    "    mode: boolean\n",
    "        'True' stands for blazar and 'False' for AGNs\n",
    "    '''\n",
    "    plt.figure()\n",
    "    if mode:\n",
    "        plt.title('Superimposed Plot of the SED of the entire Blazars dataset')\n",
    "    else:\n",
    "        plt.title('Superimposed Plot of the SED of the entire AGNs dataset')\n",
    "    plt.xlabel('Frequency (Hz)')\n",
    "    plt.ylabel(r'$\\nu F_{\\nu} (erg/cm^2/s)$')\n",
    "    plt.grid(True)\n",
    "    for sed in sed_data_all:\n",
    "        freq= sed[0]\n",
    "        flux= sed[1]\n",
    "        plt.loglog(freq, flux, 'b.', markersize=1)\n",
    "    plt.show()"
   ]
  },
  {
   "cell_type": "code",
   "execution_count": 51,
   "metadata": {
    "scrolled": true
   },
   "outputs": [
    {
     "data": {
      "image/png": "[encoded data removed]",
      "text/plain": [
       "<Figure size 432x288 with 1 Axes>"
      ]
     },
     "metadata": {
      "needs_background": "light"
     },
     "output_type": "display_data"
    }
   ],
   "source": [
    "sedDistribution(seddata_all_bl,True)"
   ]
  },
  {
   "cell_type": "code",
   "execution_count": 52,
   "metadata": {},
   "outputs": [
    {
     "data": {
      "image/png": "[encoded data removed]",
      "text/plain": [
       "<Figure size 432x288 with 1 Axes>"
      ]
     },
     "metadata": {
      "needs_background": "light"
     },
     "output_type": "display_data"
    }
   ],
   "source": [
    "sedDistribution(seddata_all_agn, False)"
   ]
  },
  {
   "cell_type": "code",
   "execution_count": 53,
   "metadata": {},
   "outputs": [],
   "source": [
    "#Scatter plot of the SED files with color map for the recurrent point\n",
    "\n",
    "def sedColormapPlot(sed_data_all,mode):\n",
    "    ''' Scatter plot of the SED files with color map for the recurrent point\n",
    "    \n",
    "    Parameters\n",
    "    ----------\n",
    "            \n",
    "    sed_data_all: tupla\n",
    "                Full dataset with freq e flux like seddata_all_***\n",
    "    \n",
    "    mode: boolean\n",
    "        'True' stands for blazar and 'False' for AGNs\n",
    "    '''\n",
    "    dens = np.zeros((1,3))\n",
    "    for sed in sed_data_all:\n",
    "        freq= sed[0]\n",
    "        flux= sed[1]\n",
    "        # With the ndarray dens I count how many times in total I have the same freq/flux measurement\n",
    "        # The third column of the array tells us the number of times the measurement is repeated in the whole dataset.\n",
    "        for i in range(len(freq)):\n",
    "            if np.size(np.where(np.logical_and(dens[:,0] == freq[i], dens[:,1] == flux[i]))[0]) > 0:\n",
    "                dens[np.where(np.logical_and(dens[:,0] == freq[i], dens[:,1] == flux[i]))[0],2] += 1\n",
    "            else:\n",
    "                dens = np.vstack([dens,[freq[i],flux[i],1]])\n",
    "    densn = np.delete(dens,(0),axis=0)                              #remove the first line of zeros\n",
    "    \n",
    "    plt.figure()\n",
    "    fig,ax = plt.subplots()\n",
    "    if mode:\n",
    "        fig.suptitle('Density plots of the SEDs of Blazars data set')\n",
    "    else:\n",
    "        fig.suptitle('Density plots of the SEDs of AGNs data set')\n",
    "    ax.set_xlabel('Frequency (Hz)')\n",
    "    ax.set_ylabel(r'$\\nu F_{\\nu} (erg/cm^2/s)$')\n",
    "    ax.grid(False)\n",
    "    ax.set_xscale('log')\n",
    "    ax.set_yscale('log')\n",
    "    im = ax.scatter(densn[:,0],densn[:,1], c = densn[:,2], cmap ='viridis',marker='.', alpha=0.5)\n",
    "    fig.colorbar(im, ax=ax)\n",
    "    plt.show()"
   ]
  },
  {
   "cell_type": "code",
   "execution_count": 54,
   "metadata": {},
   "outputs": [
    {
     "data": {
      "text/plain": [
       "<Figure size 432x288 with 0 Axes>"
      ]
     },
     "metadata": {},
     "output_type": "display_data"
    },
    {
     "data": {
      "image/png": "[encoded data removed]",
      "text/plain": [
       "<Figure size 432x288 with 2 Axes>"
      ]
     },
     "metadata": {
      "needs_background": "light"
     },
     "output_type": "display_data"
    }
   ],
   "source": [
    "#plot of SED Builder data\n",
    "sedColormapPlot(seddata_all_bl,True)"
   ]
  },
  {
   "cell_type": "code",
   "execution_count": 55,
   "metadata": {},
   "outputs": [
    {
     "data": {
      "text/plain": [
       "<Figure size 432x288 with 0 Axes>"
      ]
     },
     "metadata": {},
     "output_type": "display_data"
    },
    {
     "data": {
      "image/png": "[encoded data removed]",
      "text/plain": [
       "<Figure size 432x288 with 2 Axes>"
      ]
     },
     "metadata": {
      "needs_background": "light"
     },
     "output_type": "display_data"
    }
   ],
   "source": [
    "#Plot of SED Builder Data\n",
    "sedColormapPlot(seddata_all_agn, False)"
   ]
  },
  {
   "cell_type": "code",
   "execution_count": 56,
   "metadata": {},
   "outputs": [],
   "source": [
    "# Hist2D of the SEDs in our blazars data set\n",
    "# freq_all e flux_all sono array con tutte le coppie di dati del dataset anche ripetute\n",
    "def hist2dSed(freq_all,flux_all,mode):\n",
    "    '''Hist2D of the SEDs of the entire data set.\n",
    "    \n",
    "    Parameters\n",
    "    ----------\n",
    "    \n",
    "    freq_all,flux_all: 1D-array\n",
    "                        all the couple of data of type Blazar or AGNs\n",
    "    \n",
    "    mode: boolean\n",
    "        'True' for Blazars data and 'False' for AGNs data\n",
    "    '''\n",
    "    plt.figure()\n",
    "    if mode:\n",
    "        plt.title('2D Histogram of the SEDs of Blazars data set')\n",
    "    else:\n",
    "        plt.title('2D Histogram of the SEDs of AGNs data set')\n",
    "    plt.xlabel('Frequency (Hz)')\n",
    "    plt.ylabel(r'$\\nu F_{\\nu} (erg/cm^2/s)$')\n",
    "    plt.grid(False)\n",
    "\n",
    "    plt.xscale('log')\n",
    "    plt.yscale('log')\n",
    "\n",
    "    x_bins = np.logspace(6, 27,200)\n",
    "    y_bins = np.logspace(-20,-7,200)\n",
    "    #plt.hist2d(freq_all,flux_all, bins=[x_bins,y_bins], vmin =10, cmap = 'BuPu')\n",
    "    plt.hist2d(freq_all,flux_all, bins=[x_bins,y_bins], vmin =-10, cmap = 'twilight')\n",
    "    cb = plt.colorbar()\n",
    "    cb.set_label('counts in bin')\n",
    "    plt.show()"
   ]
  },
  {
   "cell_type": "code",
   "execution_count": 57,
   "metadata": {},
   "outputs": [
    {
     "data": {
      "image/png": "[encoded data removed]",
      "text/plain": [
       "<Figure size 432x288 with 2 Axes>"
      ]
     },
     "metadata": {
      "needs_background": "light"
     },
     "output_type": "display_data"
    }
   ],
   "source": [
    "hist2dSed(freq_all_bl,flux_all_bl,True)"
   ]
  },
  {
   "cell_type": "code",
   "execution_count": 58,
   "metadata": {},
   "outputs": [
    {
     "data": {
      "image/png": "[encoded data removed]",
      "text/plain": [
       "<Figure size 432x288 with 2 Axes>"
      ]
     },
     "metadata": {
      "needs_background": "light"
     },
     "output_type": "display_data"
    }
   ],
   "source": [
    "hist2dSed(freq_all_agn,flux_all_agn,False)"
   ]
  }
 ],
 "metadata": {
  "kernelspec": {
   "display_name": "Python 3 (ipykernel)",
   "language": "python",
   "name": "python3"
  },
  "language_info": {
   "codemirror_mode": {
    "name": "ipython",
    "version": 3
   },
   "file_extension": ".py",
   "mimetype": "text/x-python",
   "name": "python",
   "nbconvert_exporter": "python",
   "pygments_lexer": "ipython3",
   "version": "3.8.8"
  }
 },
 "nbformat": 4,
 "nbformat_minor": 2
}
