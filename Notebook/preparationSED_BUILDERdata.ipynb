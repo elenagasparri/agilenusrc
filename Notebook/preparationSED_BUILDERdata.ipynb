{
 "cells": [
  {
   "cell_type": "markdown",
   "metadata": {},
   "source": [
    "# Blazars/Non-Blazars (AGNs) Samples Definition\n",
    "\n",
    "### These notebook is to define the samples of sed data of blazars and non-blazar objects for future training of the neural network.\n",
    "\n",
    "A list of name of sources is obtained for the blazar dataset (4627 from the OU4v2 catalog) and a list of ra dec for agns (4093 from the mqv7.2 catalog).\n",
    "\n",
    "These lists will be given as input to the online SED Builder tool (ASI-SSDC) to get the files with the sed data."
   ]
  },
  {
   "cell_type": "code",
   "execution_count": 1,
   "metadata": {},
   "outputs": [
    {
     "name": "stdout",
     "output_type": "stream",
     "text": [
      "0.11.2\n",
      "1.4.1\n",
      "1.18.5\n"
     ]
    }
   ],
   "source": [
    "import matplotlib\n",
    "from matplotlib import pyplot as plt\n",
    "%matplotlib inline\n",
    "\n",
    "import seaborn as sns\n",
    "print(sns.__version__)\n",
    "\n",
    "import pandas as pd\n",
    "print(pd.__version__)\n",
    "\n",
    "import numpy as np\n",
    "print(np.__version__)\n",
    "\n",
    "import os"
   ]
  },
  {
   "cell_type": "code",
   "execution_count": 2,
   "metadata": {},
   "outputs": [],
   "source": [
    "blcatalog = 'OU4Bl_v2.csv'\n",
    "agncatalog = 'milliquasv7.2.txt'\n",
    "dir_path = '/home/elenagasparri/Documenti/Fisica/esame_cmepda/SED_Builder/Data/'"
   ]
  },
  {
   "cell_type": "code",
   "execution_count": 3,
   "metadata": {},
   "outputs": [
    {
     "name": "stdout",
     "output_type": "stream",
     "text": [
      "2whsp_nameNOTfound.txt          my2whsp_name.csv\r\n",
      "3hsp.csv                        my3hsp_name.csv\r\n",
      "agn_qrx_radec.csv               my3hsp_name_not_recognized.csv\r\n",
      "agns_qrx_labelradec.csv         my3hsp_name_prova.csv\r\n",
      "agns_quasR.csv                  mybl_list.csv\r\n",
      "agns_quasR_prova.csv            new_milliquas.csv\r\n",
      "agns_v72_qrx.csv                new_veron.csv\r\n",
      "milliquasv6.4.csv               ou4bl3hsp_name.csv\r\n",
      "milliquasv6.4_readme.txt        ou4bl3hsp_radec.csv\r\n",
      "milliquasv7.2_readme.txt        ou4bl_labelradec.csv\r\n",
      "milliquasv7.2.txt               OU4Bl_v1.csv\r\n",
      "milliquasv7.4_agn_K.txt         OU4Bl_v2.csv\r\n",
      "milliquasv7.4_agn_S1.txt        setAGnsNonBlazar.ipynb\r\n",
      "milliquasv7.4_QSO_TYPE_1.txt    setBlazar.html\r\n",
      "milliquasv7.4_Radio_galaxy.txt  setBlazar.ipynb\r\n",
      "milliquasv7.4_readme.txt        veron_catalogue.txt\r\n",
      "milliquasv7.4.txt\r\n"
     ]
    }
   ],
   "source": [
    "os.chdir(dir_path)\n",
    "%ls"
   ]
  },
  {
   "cell_type": "markdown",
   "metadata": {},
   "source": [
    "# Blazar sample"
   ]
  },
  {
   "cell_type": "code",
   "execution_count": 4,
   "metadata": {},
   "outputs": [
    {
     "data": {
      "text/html": [
       "<div>\n",
       "<style scoped>\n",
       "    .dataframe tbody tr th:only-of-type {\n",
       "        vertical-align: middle;\n",
       "    }\n",
       "\n",
       "    .dataframe tbody tr th {\n",
       "        vertical-align: top;\n",
       "    }\n",
       "\n",
       "    .dataframe thead th {\n",
       "        text-align: right;\n",
       "    }\n",
       "</style>\n",
       "<table border=\"1\" class=\"dataframe\">\n",
       "  <thead>\n",
       "    <tr style=\"text-align: right;\">\n",
       "      <th></th>\n",
       "      <th>id</th>\n",
       "      <th>Source name</th>\n",
       "      <th>R.A.</th>\n",
       "      <th>Dec</th>\n",
       "      <th>Radio flux d.</th>\n",
       "      <th>Fermi flux</th>\n",
       "      <th>Log nu_peak</th>\n",
       "      <th>Redshift</th>\n",
       "      <th>Original catalog</th>\n",
       "    </tr>\n",
       "  </thead>\n",
       "  <tbody>\n",
       "    <tr>\n",
       "      <th>3901</th>\n",
       "      <td>3902</td>\n",
       "      <td>5BZBJ1423+3737</td>\n",
       "      <td>14 23 04.61</td>\n",
       "      <td>+37 37 30.5</td>\n",
       "      <td>46.0</td>\n",
       "      <td>7.040000e-12</td>\n",
       "      <td>0.0</td>\n",
       "      <td>0.000</td>\n",
       "      <td>5BZCAT</td>\n",
       "    </tr>\n",
       "    <tr>\n",
       "      <th>768</th>\n",
       "      <td>769</td>\n",
       "      <td>3HSPJ024751.6-225002.1</td>\n",
       "      <td>02 47 51.65</td>\n",
       "      <td>-22 50 02.11</td>\n",
       "      <td>3.3</td>\n",
       "      <td>0.000000e+00</td>\n",
       "      <td>17.1</td>\n",
       "      <td>0.550</td>\n",
       "      <td>3HSP</td>\n",
       "    </tr>\n",
       "    <tr>\n",
       "      <th>5655</th>\n",
       "      <td>5656</td>\n",
       "      <td>5BZBJ2225-1113</td>\n",
       "      <td>22 25 43.7</td>\n",
       "      <td>-11 13 40.58</td>\n",
       "      <td>314.0</td>\n",
       "      <td>2.580000e-12</td>\n",
       "      <td>0.0</td>\n",
       "      <td>0.997</td>\n",
       "      <td>5BZCAT</td>\n",
       "    </tr>\n",
       "    <tr>\n",
       "      <th>804</th>\n",
       "      <td>805</td>\n",
       "      <td>5BZQJ0257-1212</td>\n",
       "      <td>02 57 40.98</td>\n",
       "      <td>-12 12 01.4</td>\n",
       "      <td>218.0</td>\n",
       "      <td>3.610000e-12</td>\n",
       "      <td>0.0</td>\n",
       "      <td>1.391</td>\n",
       "      <td>5BZCAT</td>\n",
       "    </tr>\n",
       "    <tr>\n",
       "      <th>3640</th>\n",
       "      <td>3641</td>\n",
       "      <td>5BZQJ1335+4542</td>\n",
       "      <td>13 35 21.95</td>\n",
       "      <td>+45 42 38.19</td>\n",
       "      <td>251.0</td>\n",
       "      <td>0.000000e+00</td>\n",
       "      <td>0.0</td>\n",
       "      <td>2.452</td>\n",
       "      <td>5BZCAT</td>\n",
       "    </tr>\n",
       "    <tr>\n",
       "      <th>657</th>\n",
       "      <td>658</td>\n",
       "      <td>5BZQJ0222-3441</td>\n",
       "      <td>02 22 56.4</td>\n",
       "      <td>-34 41 28.71</td>\n",
       "      <td>683.0</td>\n",
       "      <td>2.110000e-12</td>\n",
       "      <td>0.0</td>\n",
       "      <td>1.490</td>\n",
       "      <td>5BZCAT</td>\n",
       "    </tr>\n",
       "    <tr>\n",
       "      <th>5759</th>\n",
       "      <td>5760</td>\n",
       "      <td>5BZBJ2251+4030</td>\n",
       "      <td>22 51 59.76</td>\n",
       "      <td>+40 30 58.21</td>\n",
       "      <td>92.0</td>\n",
       "      <td>1.080000e-11</td>\n",
       "      <td>0.0</td>\n",
       "      <td>0.229</td>\n",
       "      <td>5BZCAT</td>\n",
       "    </tr>\n",
       "    <tr>\n",
       "      <th>2832</th>\n",
       "      <td>2833</td>\n",
       "      <td>5BZQJ1108+4330</td>\n",
       "      <td>11 08 23.46</td>\n",
       "      <td>+43 30 53.71</td>\n",
       "      <td>300.0</td>\n",
       "      <td>0.000000e+00</td>\n",
       "      <td>0.0</td>\n",
       "      <td>1.226</td>\n",
       "      <td>5BZCAT</td>\n",
       "    </tr>\n",
       "    <tr>\n",
       "      <th>3152</th>\n",
       "      <td>3153</td>\n",
       "      <td>3FGLJ1207.6-2232</td>\n",
       "      <td>12 07 38.1</td>\n",
       "      <td>-22 32 50.99</td>\n",
       "      <td>59.3</td>\n",
       "      <td>3.490000e-12</td>\n",
       "      <td>0.0</td>\n",
       "      <td>0.000</td>\n",
       "      <td>Fermi 3LAC</td>\n",
       "    </tr>\n",
       "    <tr>\n",
       "      <th>268</th>\n",
       "      <td>269</td>\n",
       "      <td>3HSPJ005931.4-351049.1</td>\n",
       "      <td>00 59 31.45</td>\n",
       "      <td>-35 10 49.11</td>\n",
       "      <td>102.9</td>\n",
       "      <td>1.850000e-12</td>\n",
       "      <td>16.3</td>\n",
       "      <td>0.310</td>\n",
       "      <td>3HSP</td>\n",
       "    </tr>\n",
       "  </tbody>\n",
       "</table>\n",
       "</div>"
      ],
      "text/plain": [
       "        id             Source name         R.A.           Dec  Radio flux d.  \\\n",
       "3901  3902         5BZBJ1423+3737   14 23 04.61   +37 37 30.5           46.0   \n",
       "768    769  3HSPJ024751.6-225002.1  02 47 51.65  -22 50 02.11            3.3   \n",
       "5655  5656         5BZBJ2225-1113    22 25 43.7  -11 13 40.58          314.0   \n",
       "804    805         5BZQJ0257-1212   02 57 40.98   -12 12 01.4          218.0   \n",
       "3640  3641         5BZQJ1335+4542   13 35 21.95  +45 42 38.19          251.0   \n",
       "657    658         5BZQJ0222-3441    02 22 56.4  -34 41 28.71          683.0   \n",
       "5759  5760         5BZBJ2251+4030   22 51 59.76  +40 30 58.21           92.0   \n",
       "2832  2833         5BZQJ1108+4330   11 08 23.46  +43 30 53.71          300.0   \n",
       "3152  3153       3FGLJ1207.6-2232    12 07 38.1  -22 32 50.99           59.3   \n",
       "268    269  3HSPJ005931.4-351049.1  00 59 31.45  -35 10 49.11          102.9   \n",
       "\n",
       "        Fermi flux  Log nu_peak  Redshift Original catalog  \n",
       "3901  7.040000e-12          0.0     0.000           5BZCAT  \n",
       "768   0.000000e+00         17.1     0.550             3HSP  \n",
       "5655  2.580000e-12          0.0     0.997           5BZCAT  \n",
       "804   3.610000e-12          0.0     1.391           5BZCAT  \n",
       "3640  0.000000e+00          0.0     2.452           5BZCAT  \n",
       "657   2.110000e-12          0.0     1.490           5BZCAT  \n",
       "5759  1.080000e-11          0.0     0.229           5BZCAT  \n",
       "2832  0.000000e+00          0.0     1.226           5BZCAT  \n",
       "3152  3.490000e-12          0.0     0.000       Fermi 3LAC  \n",
       "268   1.850000e-12         16.3     0.310             3HSP  "
      ]
     },
     "execution_count": 4,
     "metadata": {},
     "output_type": "execute_result"
    }
   ],
   "source": [
    "ou4bl = pd.read_csv(blcatalog, encoding='utf-8-sig')\n",
    "ou4bl.sample(10)"
   ]
  },
  {
   "cell_type": "code",
   "execution_count": 5,
   "metadata": {},
   "outputs": [],
   "source": [
    "# convert coordinates\n",
    "def sex2deg(ra,dec):\n",
    "    h,m,s = list(map(float,ra.split()))\n",
    "    ra = s / 86400\n",
    "    ra += m / 1440\n",
    "    ra += h / 24\n",
    "    ra *= 360\n",
    "    \n",
    "    d,m,s = dec.split()\n",
    "    dec = float(s) / 3600\n",
    "    dec += float(m) / 60\n",
    "    if d[0] == '-':\n",
    "        dec = float(d) - dec\n",
    "    else:\n",
    "        dec = float(d) + dec\n",
    "    \n",
    "    return ra,dec"
   ]
  },
  {
   "cell_type": "code",
   "execution_count": 6,
   "metadata": {},
   "outputs": [],
   "source": [
    "RA_COL = 'R.A.'\n",
    "DEC_COL = 'Dec'\n",
    "def apply_df(df):\n",
    "    try:\n",
    "        bla = list(sex2deg(df[RA_COL],df[DEC_COL]))\n",
    "    except:\n",
    "        bla = [None,None]\n",
    "    return bla\n",
    "\n",
    "ou4bl[['RA','DEC']] = ou4bl.apply(apply_df, axis=1, result_type = 'expand')"
   ]
  },
  {
   "cell_type": "code",
   "execution_count": 7,
   "metadata": {
    "scrolled": true
   },
   "outputs": [
    {
     "data": {
      "text/html": [
       "<div>\n",
       "<style scoped>\n",
       "    .dataframe tbody tr th:only-of-type {\n",
       "        vertical-align: middle;\n",
       "    }\n",
       "\n",
       "    .dataframe tbody tr th {\n",
       "        vertical-align: top;\n",
       "    }\n",
       "\n",
       "    .dataframe thead th {\n",
       "        text-align: right;\n",
       "    }\n",
       "</style>\n",
       "<table border=\"1\" class=\"dataframe\">\n",
       "  <thead>\n",
       "    <tr style=\"text-align: right;\">\n",
       "      <th></th>\n",
       "      <th>id</th>\n",
       "      <th>Source name</th>\n",
       "      <th>R.A.</th>\n",
       "      <th>Dec</th>\n",
       "      <th>Radio flux d.</th>\n",
       "      <th>Fermi flux</th>\n",
       "      <th>Log nu_peak</th>\n",
       "      <th>Redshift</th>\n",
       "      <th>Original catalog</th>\n",
       "      <th>RA</th>\n",
       "      <th>DEC</th>\n",
       "    </tr>\n",
       "  </thead>\n",
       "  <tbody>\n",
       "    <tr>\n",
       "      <th>0</th>\n",
       "      <td>1</td>\n",
       "      <td>3HSPJ000236.0-081532.4</td>\n",
       "      <td>00 02 36.06</td>\n",
       "      <td>-08 15 32.4</td>\n",
       "      <td>29.0</td>\n",
       "      <td>0.000000e+00</td>\n",
       "      <td>16.0</td>\n",
       "      <td>0.390</td>\n",
       "      <td>3HSP</td>\n",
       "      <td>0.650250</td>\n",
       "      <td>-8.259000</td>\n",
       "    </tr>\n",
       "    <tr>\n",
       "      <th>1</th>\n",
       "      <td>2</td>\n",
       "      <td>5BZBJ0002-0024</td>\n",
       "      <td>00 02 57.16</td>\n",
       "      <td>-00 24 47.01</td>\n",
       "      <td>178.0</td>\n",
       "      <td>0.000000e+00</td>\n",
       "      <td>0.0</td>\n",
       "      <td>0.523</td>\n",
       "      <td>5BZCAT</td>\n",
       "      <td>0.738167</td>\n",
       "      <td>-0.413058</td>\n",
       "    </tr>\n",
       "    <tr>\n",
       "      <th>2</th>\n",
       "      <td>3</td>\n",
       "      <td>4FGLJ0003.3-5905</td>\n",
       "      <td>00 03 13.32</td>\n",
       "      <td>-59 05 47.61</td>\n",
       "      <td>505.9</td>\n",
       "      <td>1.680000e-12</td>\n",
       "      <td>0.0</td>\n",
       "      <td>0.000</td>\n",
       "      <td>Fermi 4LAC</td>\n",
       "      <td>0.805500</td>\n",
       "      <td>-59.096558</td>\n",
       "    </tr>\n",
       "    <tr>\n",
       "      <th>3</th>\n",
       "      <td>4</td>\n",
       "      <td>4FGLJ0003.3-1928</td>\n",
       "      <td>00 03 18.66</td>\n",
       "      <td>-19 27 22.28</td>\n",
       "      <td>171.0</td>\n",
       "      <td>2.590000e-12</td>\n",
       "      <td>0.0</td>\n",
       "      <td>0.000</td>\n",
       "      <td>Fermi 4LAC</td>\n",
       "      <td>0.827750</td>\n",
       "      <td>-19.456189</td>\n",
       "    </tr>\n",
       "    <tr>\n",
       "      <th>4</th>\n",
       "      <td>5</td>\n",
       "      <td>5BZQJ0003+2129</td>\n",
       "      <td>00 03 19.32</td>\n",
       "      <td>+21 29 44.48</td>\n",
       "      <td>83.0</td>\n",
       "      <td>0.000000e+00</td>\n",
       "      <td>0.0</td>\n",
       "      <td>0.450</td>\n",
       "      <td>5BZCAT</td>\n",
       "      <td>0.830500</td>\n",
       "      <td>21.495689</td>\n",
       "    </tr>\n",
       "  </tbody>\n",
       "</table>\n",
       "</div>"
      ],
      "text/plain": [
       "   id             Source name         R.A.           Dec  Radio flux d.  \\\n",
       "0   1  3HSPJ000236.0-081532.4  00 02 36.06   -08 15 32.4           29.0   \n",
       "1   2         5BZBJ0002-0024   00 02 57.16  -00 24 47.01          178.0   \n",
       "2   3       4FGLJ0003.3-5905   00 03 13.32  -59 05 47.61          505.9   \n",
       "3   4       4FGLJ0003.3-1928   00 03 18.66  -19 27 22.28          171.0   \n",
       "4   5         5BZQJ0003+2129   00 03 19.32  +21 29 44.48           83.0   \n",
       "\n",
       "     Fermi flux  Log nu_peak  Redshift Original catalog        RA        DEC  \n",
       "0  0.000000e+00         16.0     0.390             3HSP  0.650250  -8.259000  \n",
       "1  0.000000e+00          0.0     0.523           5BZCAT  0.738167  -0.413058  \n",
       "2  1.680000e-12          0.0     0.000       Fermi 4LAC  0.805500 -59.096558  \n",
       "3  2.590000e-12          0.0     0.000       Fermi 4LAC  0.827750 -19.456189  \n",
       "4  0.000000e+00          0.0     0.450           5BZCAT  0.830500  21.495689  "
      ]
     },
     "execution_count": 7,
     "metadata": {},
     "output_type": "execute_result"
    }
   ],
   "source": [
    "ou4bl.head()"
   ]
  },
  {
   "cell_type": "code",
   "execution_count": 8,
   "metadata": {},
   "outputs": [
    {
     "data": {
      "text/plain": [
       "Index(['id', 'Source name', 'R.A.', 'Dec', 'Radio flux d.', 'Fermi flux',\n",
       "       'Log nu_peak', 'Redshift', 'Original catalog', 'RA', 'DEC'],\n",
       "      dtype='object')"
      ]
     },
     "execution_count": 8,
     "metadata": {},
     "output_type": "execute_result"
    }
   ],
   "source": [
    "ou4bl.columns"
   ]
  },
  {
   "cell_type": "code",
   "execution_count": 9,
   "metadata": {},
   "outputs": [
    {
     "data": {
      "text/plain": [
       "Original catalog\n",
       "5BZCAT        3561\n",
       "3HSP          1353\n",
       "Fermi 4LAC     748\n",
       "Fermi 3LAC     415\n",
       "dtype: int64"
      ]
     },
     "execution_count": 9,
     "metadata": {},
     "output_type": "execute_result"
    }
   ],
   "source": [
    "# Description of the Blazars in the catalog\n",
    "ou4bl.groupby('Original catalog').size().sort_values(ascending=False)"
   ]
  },
  {
   "cell_type": "code",
   "execution_count": 10,
   "metadata": {},
   "outputs": [],
   "source": [
    "# define the colums of interest\n",
    "col = dict(idn='id',\n",
    "           ra='RA',\n",
    "           dec='DEC',\n",
    "           name='Source name',\n",
    "           redshift='Redshift',\n",
    "           flux_radio='Radio flux d.',\n",
    "           fermi_flux='Fermi flux',\n",
    "           nupk='Log nu_peak',\n",
    "           catalog='Original catalog'\n",
    "          )"
   ]
  },
  {
   "cell_type": "markdown",
   "metadata": {},
   "source": [
    "#### 4LAC, 3LAC data absent in SED Builder so I select only 5BZCAT and 3HSP"
   ]
  },
  {
   "cell_type": "code",
   "execution_count": 11,
   "metadata": {},
   "outputs": [],
   "source": [
    "ou4bl_3HSP = ou4bl.loc[ou4bl[col['catalog']] == '3HSP']\n",
    "ou4bl_3HSP = ou4bl_3HSP[list(col.values())]\n",
    "ou4bl_5BZCAT = ou4bl.loc[ou4bl[col['catalog']] == '5BZCAT']\n",
    "ou4bl_5BZCAT = ou4bl_5BZCAT[list(col.values())]\n",
    "# join the two df in order to have my complete list of blazars\n",
    "mybl_list = pd.concat([ou4bl_3HSP, ou4bl_5BZCAT], ignore_index=True)"
   ]
  },
  {
   "cell_type": "code",
   "execution_count": null,
   "metadata": {},
   "outputs": [],
   "source": [
    "#mybl_list.to_csv(\"mybl_list.csv\", encoding='utf-8-sig', index=False)"
   ]
  },
  {
   "cell_type": "code",
   "execution_count": 12,
   "metadata": {},
   "outputs": [
    {
     "data": {
      "text/plain": [
       "Original catalog\n",
       "5BZCAT    3561\n",
       "3HSP      1353\n",
       "dtype: int64"
      ]
     },
     "execution_count": 12,
     "metadata": {},
     "output_type": "execute_result"
    }
   ],
   "source": [
    "# Composition of the Blazars set\n",
    "mybl_list.groupby(col['catalog']).size().sort_values(ascending=False)"
   ]
  },
  {
   "cell_type": "markdown",
   "metadata": {},
   "source": [
    "### Problemi con riconoscimento nomi 3HSP presenti nel catalogo OU4 sul SED Builder\n",
    "\n",
    "#### Scarico direttamente il catalogo 3HSP e lo epuro dalle sorgenti già presenti nel 5BZcat\n"
   ]
  },
  {
   "cell_type": "code",
   "execution_count": 13,
   "metadata": {},
   "outputs": [],
   "source": [
    "cat3hsp=pd.read_csv('3hsp.csv',encoding='utf-8-sig')"
   ]
  },
  {
   "cell_type": "code",
   "execution_count": 14,
   "metadata": {
    "scrolled": true
   },
   "outputs": [
    {
     "data": {
      "text/html": [
       "<div>\n",
       "<style scoped>\n",
       "    .dataframe tbody tr th:only-of-type {\n",
       "        vertical-align: middle;\n",
       "    }\n",
       "\n",
       "    .dataframe tbody tr th {\n",
       "        vertical-align: top;\n",
       "    }\n",
       "\n",
       "    .dataframe thead th {\n",
       "        text-align: right;\n",
       "    }\n",
       "</style>\n",
       "<table border=\"1\" class=\"dataframe\">\n",
       "  <thead>\n",
       "    <tr style=\"text-align: right;\">\n",
       "      <th></th>\n",
       "      <th>id</th>\n",
       "      <th>3HSP Source name</th>\n",
       "      <th>BZcat name</th>\n",
       "      <th>R.A.</th>\n",
       "      <th>Dec</th>\n",
       "      <th>NVSS/FIRSTflux density(mJy)</th>\n",
       "      <th>X-ray flux d. @ 1keV (μJy)</th>\n",
       "      <th>Log(peak flux)</th>\n",
       "      <th>γ-ray counterpart</th>\n",
       "      <th>Fermi γ-ray slope</th>\n",
       "      <th>2WHSP name</th>\n",
       "    </tr>\n",
       "  </thead>\n",
       "  <tbody>\n",
       "    <tr>\n",
       "      <th>0</th>\n",
       "      <td>1</td>\n",
       "      <td>3HSPJ000116.4+293534</td>\n",
       "      <td>NaN</td>\n",
       "      <td>0.31821</td>\n",
       "      <td>29.59278</td>\n",
       "      <td>4.0</td>\n",
       "      <td>NaN</td>\n",
       "      <td>-12.9?</td>\n",
       "      <td>NaN</td>\n",
       "      <td>NaN</td>\n",
       "      <td>2WHSPJ000116.3+293534</td>\n",
       "    </tr>\n",
       "    <tr>\n",
       "      <th>1</th>\n",
       "      <td>2</td>\n",
       "      <td>3HSPJ000117.1-315043</td>\n",
       "      <td>NaN</td>\n",
       "      <td>0.32117</td>\n",
       "      <td>-31.84528</td>\n",
       "      <td>7.2</td>\n",
       "      <td>0.23</td>\n",
       "      <td>-12.3?</td>\n",
       "      <td>NaN</td>\n",
       "      <td>NaN</td>\n",
       "      <td>2WHSPJ000116.9-315043</td>\n",
       "    </tr>\n",
       "    <tr>\n",
       "      <th>2</th>\n",
       "      <td>3</td>\n",
       "      <td>3HSPJ000132.7-415525</td>\n",
       "      <td>NaN</td>\n",
       "      <td>0.38642</td>\n",
       "      <td>-41.92361</td>\n",
       "      <td>13.2</td>\n",
       "      <td>0.34</td>\n",
       "      <td>-11.7</td>\n",
       "      <td>4FGL J0001.6-4156</td>\n",
       "      <td>2.09</td>\n",
       "      <td>2WHSPJ000132.6-415524</td>\n",
       "    </tr>\n",
       "    <tr>\n",
       "      <th>3</th>\n",
       "      <td>4</td>\n",
       "      <td>3HSPJ000158.1-115047</td>\n",
       "      <td>NaN</td>\n",
       "      <td>0.49225</td>\n",
       "      <td>-11.84639</td>\n",
       "      <td>3.3</td>\n",
       "      <td>0.11</td>\n",
       "      <td>-12.5</td>\n",
       "      <td>NaN</td>\n",
       "      <td>NaN</td>\n",
       "      <td>2WHSPJ000158.0-115047</td>\n",
       "    </tr>\n",
       "    <tr>\n",
       "      <th>4</th>\n",
       "      <td>5</td>\n",
       "      <td>3HSPJ000215.2-672653</td>\n",
       "      <td>NaN</td>\n",
       "      <td>0.56329</td>\n",
       "      <td>-67.44806</td>\n",
       "      <td>21.4</td>\n",
       "      <td>0.27</td>\n",
       "      <td>-11.8</td>\n",
       "      <td>4FGL J0002.1-6728</td>\n",
       "      <td>1.95</td>\n",
       "      <td>2WHSPJ000215.1-672653</td>\n",
       "    </tr>\n",
       "  </tbody>\n",
       "</table>\n",
       "</div>"
      ],
      "text/plain": [
       "   id      3HSP Source name BZcat name     R.A.       Dec  \\\n",
       "0   1  3HSPJ000116.4+293534        NaN  0.31821  29.59278   \n",
       "1   2  3HSPJ000117.1-315043        NaN  0.32117 -31.84528   \n",
       "2   3  3HSPJ000132.7-415525        NaN  0.38642 -41.92361   \n",
       "3   4  3HSPJ000158.1-115047        NaN  0.49225 -11.84639   \n",
       "4   5  3HSPJ000215.2-672653        NaN  0.56329 -67.44806   \n",
       "\n",
       "   NVSS/FIRSTflux density(mJy)  X-ray flux d. @ 1keV (μJy) Log(peak flux)  \\\n",
       "0                          4.0                         NaN         -12.9?   \n",
       "1                          7.2                        0.23         -12.3?   \n",
       "2                         13.2                        0.34          -11.7   \n",
       "3                          3.3                        0.11          -12.5   \n",
       "4                         21.4                        0.27          -11.8   \n",
       "\n",
       "   γ-ray counterpart  Fermi γ-ray slope             2WHSP name  \n",
       "0                NaN                NaN  2WHSPJ000116.3+293534  \n",
       "1                NaN                NaN  2WHSPJ000116.9-315043  \n",
       "2  4FGL J0001.6-4156               2.09  2WHSPJ000132.6-415524  \n",
       "3                NaN                NaN  2WHSPJ000158.0-115047  \n",
       "4  4FGL J0002.1-6728               1.95  2WHSPJ000215.1-672653  "
      ]
     },
     "execution_count": 14,
     "metadata": {},
     "output_type": "execute_result"
    }
   ],
   "source": [
    "cat3hsp.head()"
   ]
  },
  {
   "cell_type": "code",
   "execution_count": 15,
   "metadata": {},
   "outputs": [
    {
     "data": {
      "text/plain": [
       "(1356, 11)"
      ]
     },
     "execution_count": 15,
     "metadata": {},
     "output_type": "execute_result"
    }
   ],
   "source": [
    "# seleziona righe del dataframe non presenti nel catalogo 5BZcat\n",
    "my_3hsp = cat3hsp.loc[cat3hsp['BZcat name'].isnull()]\n",
    "my_3hsp.shape"
   ]
  },
  {
   "cell_type": "code",
   "execution_count": null,
   "metadata": {},
   "outputs": [],
   "source": [
    "name_my3hsp=my_3hsp['3HSP Source name']\n",
    "name_my3hsp.to_csv('my3hsp_name.csv', encoding='utf-8-sig', index=False, header=None)"
   ]
  },
  {
   "cell_type": "code",
   "execution_count": 16,
   "metadata": {},
   "outputs": [
    {
     "data": {
      "text/plain": [
       "(1072, 11)"
      ]
     },
     "execution_count": 16,
     "metadata": {},
     "output_type": "execute_result"
    }
   ],
   "source": [
    "# il SED Builder non riconosce molti nomi 3HSP quando glieli passo come input\n",
    "# passo al catalogo 2WHSP, togliendo le righe \"NaN\"\n",
    "\n",
    "my_2whsp = my_3hsp.loc[my_3hsp['2WHSP name'].notnull()]\n",
    "my_2whsp.shape"
   ]
  },
  {
   "cell_type": "code",
   "execution_count": null,
   "metadata": {},
   "outputs": [],
   "source": [
    "# I 3HSP non BZcat erano 1356. Selezionando le sorgenti con nome 2WHSP scendiamo a 1072 sorgenti:\n",
    "# perdiamo 284 blazars\n",
    "whsp_name=my_2whsp['2WHSP name']\n",
    "whsp_name.to_csv('my2whsp_name.csv', encoding='utf-8-sig', index=False, header=None)"
   ]
  },
  {
   "cell_type": "markdown",
   "metadata": {},
   "source": [
    "#### In totale il mio data set per le Blazar da passare al SED Builder contiene 4633 sorgenti (3561 BZCAT + 1072 2WHSP)"
   ]
  },
  {
   "cell_type": "markdown",
   "metadata": {},
   "source": [
    "# AGNs Sample"
   ]
  },
  {
   "cell_type": "code",
   "execution_count": 17,
   "metadata": {
    "scrolled": true
   },
   "outputs": [
    {
     "data": {
      "text/html": [
       "<div>\n",
       "<style scoped>\n",
       "    .dataframe tbody tr th:only-of-type {\n",
       "        vertical-align: middle;\n",
       "    }\n",
       "\n",
       "    .dataframe tbody tr th {\n",
       "        vertical-align: top;\n",
       "    }\n",
       "\n",
       "    .dataframe thead th {\n",
       "        text-align: right;\n",
       "    }\n",
       "</style>\n",
       "<table border=\"1\" class=\"dataframe\">\n",
       "  <thead>\n",
       "    <tr style=\"text-align: right;\">\n",
       "      <th></th>\n",
       "      <th>RAJ2000</th>\n",
       "      <th>DEJ2000</th>\n",
       "      <th>Name</th>\n",
       "      <th>Type</th>\n",
       "      <th>Rmag</th>\n",
       "      <th>Bmag</th>\n",
       "      <th>Comment</th>\n",
       "      <th>R</th>\n",
       "      <th>B</th>\n",
       "      <th>z</th>\n",
       "      <th>Qpct</th>\n",
       "      <th>XName</th>\n",
       "      <th>RName</th>\n",
       "      <th>Lobe1</th>\n",
       "      <th>Lobe2</th>\n",
       "    </tr>\n",
       "  </thead>\n",
       "  <tbody>\n",
       "    <tr>\n",
       "      <th>1245639</th>\n",
       "      <td>249.361097</td>\n",
       "      <td>45.796952</td>\n",
       "      <td>SDSS J163726.66+454748.9</td>\n",
       "      <td>BRX</td>\n",
       "      <td>16.78</td>\n",
       "      <td>18.96</td>\n",
       "      <td>pG</td>\n",
       "      <td>1</td>\n",
       "      <td>1</td>\n",
       "      <td>0.192</td>\n",
       "      <td>99</td>\n",
       "      <td>2RXS J163725.9+454746</td>\n",
       "      <td>VL0J163726.66+454748.9</td>\n",
       "      <td>FIRST J163726.6+454748</td>\n",
       "      <td>NaN</td>\n",
       "    </tr>\n",
       "    <tr>\n",
       "      <th>727898</th>\n",
       "      <td>165.653117</td>\n",
       "      <td>30.925764</td>\n",
       "      <td>SDSS J110236.74+305532.7</td>\n",
       "      <td>Q</td>\n",
       "      <td>20.55</td>\n",
       "      <td>20.97</td>\n",
       "      <td>gG</td>\n",
       "      <td>-</td>\n",
       "      <td>-</td>\n",
       "      <td>3.308</td>\n",
       "      <td></td>\n",
       "      <td></td>\n",
       "      <td></td>\n",
       "      <td></td>\n",
       "      <td>NaN</td>\n",
       "    </tr>\n",
       "    <tr>\n",
       "      <th>925054</th>\n",
       "      <td>196.159334</td>\n",
       "      <td>-28.771601</td>\n",
       "      <td>WISEA J130438.28-284617.3</td>\n",
       "      <td>q</td>\n",
       "      <td>18.33</td>\n",
       "      <td>19.06</td>\n",
       "      <td>p+G</td>\n",
       "      <td>1</td>\n",
       "      <td>-</td>\n",
       "      <td>1.500</td>\n",
       "      <td>100</td>\n",
       "      <td></td>\n",
       "      <td></td>\n",
       "      <td></td>\n",
       "      <td>NaN</td>\n",
       "    </tr>\n",
       "    <tr>\n",
       "      <th>1400164</th>\n",
       "      <td>325.743611</td>\n",
       "      <td>-36.152644</td>\n",
       "      <td>WISEA J214258.45-360909.3</td>\n",
       "      <td>q</td>\n",
       "      <td>20.15</td>\n",
       "      <td>20.99</td>\n",
       "      <td>jG</td>\n",
       "      <td>1</td>\n",
       "      <td>1</td>\n",
       "      <td>2.200</td>\n",
       "      <td>98</td>\n",
       "      <td></td>\n",
       "      <td></td>\n",
       "      <td></td>\n",
       "      <td>NaN</td>\n",
       "    </tr>\n",
       "    <tr>\n",
       "      <th>449390</th>\n",
       "      <td>119.671123</td>\n",
       "      <td>44.401865</td>\n",
       "      <td>SDSS J075841.07+442406.6</td>\n",
       "      <td>Q</td>\n",
       "      <td>19.06</td>\n",
       "      <td>19.05</td>\n",
       "      <td>gG</td>\n",
       "      <td>1</td>\n",
       "      <td>-</td>\n",
       "      <td>1.802</td>\n",
       "      <td></td>\n",
       "      <td></td>\n",
       "      <td></td>\n",
       "      <td></td>\n",
       "      <td>NaN</td>\n",
       "    </tr>\n",
       "    <tr>\n",
       "      <th>815196</th>\n",
       "      <td>179.502316</td>\n",
       "      <td>57.989127</td>\n",
       "      <td>SDSS J115800.55+575920.8</td>\n",
       "      <td>Q</td>\n",
       "      <td>20.98</td>\n",
       "      <td>21.03</td>\n",
       "      <td>g</td>\n",
       "      <td>-</td>\n",
       "      <td>-</td>\n",
       "      <td>2.392</td>\n",
       "      <td></td>\n",
       "      <td></td>\n",
       "      <td></td>\n",
       "      <td></td>\n",
       "      <td>NaN</td>\n",
       "    </tr>\n",
       "    <tr>\n",
       "      <th>175966</th>\n",
       "      <td>27.271005</td>\n",
       "      <td>3.797878</td>\n",
       "      <td>SDSS J014905.03+034752.4</td>\n",
       "      <td>Q</td>\n",
       "      <td>19.76</td>\n",
       "      <td>20.58</td>\n",
       "      <td>pmG</td>\n",
       "      <td>-</td>\n",
       "      <td>-</td>\n",
       "      <td>1.644</td>\n",
       "      <td></td>\n",
       "      <td></td>\n",
       "      <td></td>\n",
       "      <td></td>\n",
       "      <td>NaN</td>\n",
       "    </tr>\n",
       "    <tr>\n",
       "      <th>621256</th>\n",
       "      <td>148.976532</td>\n",
       "      <td>41.934527</td>\n",
       "      <td>SDSS J095554.36+415604.3</td>\n",
       "      <td>Q</td>\n",
       "      <td>20.88</td>\n",
       "      <td>21.18</td>\n",
       "      <td>gG</td>\n",
       "      <td>-</td>\n",
       "      <td>1</td>\n",
       "      <td>1.339</td>\n",
       "      <td></td>\n",
       "      <td></td>\n",
       "      <td></td>\n",
       "      <td></td>\n",
       "      <td>NaN</td>\n",
       "    </tr>\n",
       "    <tr>\n",
       "      <th>273404</th>\n",
       "      <td>46.982762</td>\n",
       "      <td>12.696715</td>\n",
       "      <td>WISEA J030755.85+124148.1</td>\n",
       "      <td>q</td>\n",
       "      <td>18.75</td>\n",
       "      <td>20.14</td>\n",
       "      <td>pmG</td>\n",
       "      <td>-</td>\n",
       "      <td>-</td>\n",
       "      <td>1.200</td>\n",
       "      <td>98</td>\n",
       "      <td></td>\n",
       "      <td></td>\n",
       "      <td></td>\n",
       "      <td>NaN</td>\n",
       "    </tr>\n",
       "    <tr>\n",
       "      <th>1126104</th>\n",
       "      <td>227.093508</td>\n",
       "      <td>43.368746</td>\n",
       "      <td>SDSS J150822.44+432207.4</td>\n",
       "      <td>Q</td>\n",
       "      <td>21.59</td>\n",
       "      <td>21.76</td>\n",
       "      <td>g</td>\n",
       "      <td>-</td>\n",
       "      <td>-</td>\n",
       "      <td>1.524</td>\n",
       "      <td></td>\n",
       "      <td></td>\n",
       "      <td></td>\n",
       "      <td></td>\n",
       "      <td>NaN</td>\n",
       "    </tr>\n",
       "  </tbody>\n",
       "</table>\n",
       "</div>"
      ],
      "text/plain": [
       "            RAJ2000    DEJ2000                       Name  Type   Rmag   Bmag  \\\n",
       "1245639  249.361097  45.796952  SDSS J163726.66+454748.9   BRX   16.78  18.96   \n",
       "727898   165.653117  30.925764  SDSS J110236.74+305532.7   Q     20.55  20.97   \n",
       "925054   196.159334 -28.771601  WISEA J130438.28-284617.3  q     18.33  19.06   \n",
       "1400164  325.743611 -36.152644  WISEA J214258.45-360909.3  q     20.15  20.99   \n",
       "449390   119.671123  44.401865  SDSS J075841.07+442406.6   Q     19.06  19.05   \n",
       "815196   179.502316  57.989127  SDSS J115800.55+575920.8   Q     20.98  21.03   \n",
       "175966    27.271005   3.797878  SDSS J014905.03+034752.4   Q     19.76  20.58   \n",
       "621256   148.976532  41.934527  SDSS J095554.36+415604.3   Q     20.88  21.18   \n",
       "273404    46.982762  12.696715  WISEA J030755.85+124148.1  q     18.75  20.14   \n",
       "1126104  227.093508  43.368746  SDSS J150822.44+432207.4   Q     21.59  21.76   \n",
       "\n",
       "        Comment  R  B       z Qpct                   XName  \\\n",
       "1245639     pG   1  1   0.192   99  2RXS J163725.9+454746    \n",
       "727898      gG   -  -   3.308                                \n",
       "925054      p+G  1  -   1.500  100                           \n",
       "1400164     jG   1  1   2.200   98                           \n",
       "449390      gG   1  -   1.802                                \n",
       "815196      g    -  -   2.392                                \n",
       "175966      pmG  -  -   1.644                                \n",
       "621256      gG   -  1   1.339                                \n",
       "273404      pmG  -  -   1.200   98                           \n",
       "1126104     g    -  -   1.524                                \n",
       "\n",
       "                          RName                   Lobe1 Lobe2  \n",
       "1245639  VL0J163726.66+454748.9  FIRST J163726.6+454748   NaN  \n",
       "727898                                                    NaN  \n",
       "925054                                                    NaN  \n",
       "1400164                                                   NaN  \n",
       "449390                                                    NaN  \n",
       "815196                                                    NaN  \n",
       "175966                                                    NaN  \n",
       "621256                                                    NaN  \n",
       "273404                                                    NaN  \n",
       "1126104                                                   NaN  "
      ]
     },
     "execution_count": 17,
     "metadata": {},
     "output_type": "execute_result"
    }
   ],
   "source": [
    "agns_v72 = pd.read_csv(agncatalog, encoding='utf-8-sig', delimiter = '|')\n",
    "agns_v72.sample(10)"
   ]
  },
  {
   "cell_type": "code",
   "execution_count": 18,
   "metadata": {},
   "outputs": [
    {
     "data": {
      "text/plain": [
       "Index(['RAJ2000', 'DEJ2000', 'Name', 'Type', 'Rmag', 'Bmag', 'Comment', 'R',\n",
       "       'B', 'z', 'Qpct', 'XName', 'RName', 'Lobe1', 'Lobe2'],\n",
       "      dtype='object')"
      ]
     },
     "execution_count": 18,
     "metadata": {},
     "output_type": "execute_result"
    }
   ],
   "source": [
    "agns_v72.columns"
   ]
  },
  {
   "cell_type": "code",
   "execution_count": 19,
   "metadata": {
    "scrolled": true
   },
   "outputs": [
    {
     "data": {
      "text/plain": [
       "Type\n",
       "Q       707379\n",
       "q       478297\n",
       "X        83737\n",
       "R        52371\n",
       "QX       50952\n",
       "qX       46025\n",
       "qR       29917\n",
       "N        25773\n",
       "QR       24446\n",
       "A        24114\n",
       "AX        8100\n",
       "K         4522\n",
       "AR        4421\n",
       "NR        4117\n",
       "QRX       4093\n",
       "2         3928\n",
       "QR2       2150\n",
       "qRX       2100\n",
       "RX        1870\n",
       "NX        1843\n",
       "ARX       1831\n",
       "R2        1786\n",
       "qR2       1785\n",
       "BRX       1658\n",
       "q2         972\n",
       "QR2X       877\n",
       "BR         781\n",
       "Q2         715\n",
       "NRX        635\n",
       "KX         524\n",
       "qR2X       248\n",
       "KR         174\n",
       "NR2        165\n",
       "Q2X        164\n",
       "AR2X       150\n",
       "AR2        145\n",
       "R2X        142\n",
       "N2         133\n",
       "BX         106\n",
       "2X          90\n",
       "A2          87\n",
       "q2X         80\n",
       "BR2X        68\n",
       "B           51\n",
       "L           50\n",
       "KRX         49\n",
       "NR2X        43\n",
       "A2X         42\n",
       "BR2         27\n",
       "KR2         18\n",
       "K2          18\n",
       "N2X         17\n",
       "LX          10\n",
       "B2X          8\n",
       "KR2X         6\n",
       "K2X          5\n",
       "B2           5\n",
       "LRX          3\n",
       "LR           1\n",
       "dtype: int64"
      ]
     },
     "execution_count": 19,
     "metadata": {},
     "output_type": "execute_result"
    }
   ],
   "source": [
    "agns_v72.groupby('Type').size().sort_values(ascending=False)"
   ]
  },
  {
   "cell_type": "code",
   "execution_count": 20,
   "metadata": {},
   "outputs": [
    {
     "data": {
      "text/html": [
       "<div>\n",
       "<style scoped>\n",
       "    .dataframe tbody tr th:only-of-type {\n",
       "        vertical-align: middle;\n",
       "    }\n",
       "\n",
       "    .dataframe tbody tr th {\n",
       "        vertical-align: top;\n",
       "    }\n",
       "\n",
       "    .dataframe thead th {\n",
       "        text-align: right;\n",
       "    }\n",
       "</style>\n",
       "<table border=\"1\" class=\"dataframe\">\n",
       "  <thead>\n",
       "    <tr style=\"text-align: right;\">\n",
       "      <th></th>\n",
       "      <th>RAJ2000</th>\n",
       "      <th>DEJ2000</th>\n",
       "      <th>Name</th>\n",
       "      <th>Type</th>\n",
       "      <th>Rmag</th>\n",
       "      <th>Bmag</th>\n",
       "      <th>Comment</th>\n",
       "      <th>R</th>\n",
       "      <th>B</th>\n",
       "      <th>z</th>\n",
       "      <th>Qpct</th>\n",
       "      <th>XName</th>\n",
       "      <th>RName</th>\n",
       "      <th>Lobe1</th>\n",
       "      <th>Lobe2</th>\n",
       "    </tr>\n",
       "  </thead>\n",
       "  <tbody>\n",
       "    <tr>\n",
       "      <th>1343</th>\n",
       "      <td>0.212906</td>\n",
       "      <td>11.236500</td>\n",
       "      <td>SDSS J000051.09+111411.2</td>\n",
       "      <td>QRX</td>\n",
       "      <td>17.16</td>\n",
       "      <td>17.99</td>\n",
       "      <td>pG</td>\n",
       "      <td>-</td>\n",
       "      <td>-</td>\n",
       "      <td>0.865</td>\n",
       "      <td>99</td>\n",
       "      <td>2RXS J000051.2+111422</td>\n",
       "      <td>FIRST J000051.0+111411</td>\n",
       "      <td>VL0J000051.07+111411.6</td>\n",
       "      <td>NaN</td>\n",
       "    </tr>\n",
       "    <tr>\n",
       "      <th>1520</th>\n",
       "      <td>0.240825</td>\n",
       "      <td>29.710146</td>\n",
       "      <td>SDSS J000057.79+294236.4</td>\n",
       "      <td>QRX</td>\n",
       "      <td>20.10</td>\n",
       "      <td>20.11</td>\n",
       "      <td>gG</td>\n",
       "      <td>-</td>\n",
       "      <td>-</td>\n",
       "      <td>0.760</td>\n",
       "      <td>100</td>\n",
       "      <td>2RXS J000058.1+294227</td>\n",
       "      <td>VL0J000057.78+294236.5</td>\n",
       "      <td>NVSS J000058.1+294237</td>\n",
       "      <td>2RXP J000058.5+294234</td>\n",
       "    </tr>\n",
       "    <tr>\n",
       "      <th>1787</th>\n",
       "      <td>0.285889</td>\n",
       "      <td>19.242694</td>\n",
       "      <td>TEX 2358+189</td>\n",
       "      <td>QRX</td>\n",
       "      <td>20.50</td>\n",
       "      <td>21.19</td>\n",
       "      <td>j</td>\n",
       "      <td>1</td>\n",
       "      <td>1</td>\n",
       "      <td>3.100</td>\n",
       "      <td>100</td>\n",
       "      <td>2SXPS J000108.5+191431</td>\n",
       "      <td>VL0J000108.62+191434.1</td>\n",
       "      <td>NVSS J000108.6+191434</td>\n",
       "      <td>NaN</td>\n",
       "    </tr>\n",
       "    <tr>\n",
       "      <th>2071</th>\n",
       "      <td>0.330319</td>\n",
       "      <td>19.429377</td>\n",
       "      <td>SDSS J000119.28+192545.7</td>\n",
       "      <td>QRX</td>\n",
       "      <td>19.97</td>\n",
       "      <td>20.61</td>\n",
       "      <td>gG</td>\n",
       "      <td>-</td>\n",
       "      <td>1</td>\n",
       "      <td>1.253</td>\n",
       "      <td>98</td>\n",
       "      <td>2SXPS J000119.2+192541</td>\n",
       "      <td>NVSS J000119.2+192548</td>\n",
       "      <td></td>\n",
       "      <td>NaN</td>\n",
       "    </tr>\n",
       "    <tr>\n",
       "      <th>2227</th>\n",
       "      <td>0.353409</td>\n",
       "      <td>8.890468</td>\n",
       "      <td>SDSS J000124.81+085325.7</td>\n",
       "      <td>QRX</td>\n",
       "      <td>19.13</td>\n",
       "      <td>18.93</td>\n",
       "      <td>jG</td>\n",
       "      <td>-</td>\n",
       "      <td>-</td>\n",
       "      <td>1.051</td>\n",
       "      <td>99</td>\n",
       "      <td>2RXS J000124.9+085320</td>\n",
       "      <td>FIRST J000124.8+085325</td>\n",
       "      <td>NVSS J000124.8+085325</td>\n",
       "      <td>NaN</td>\n",
       "    </tr>\n",
       "  </tbody>\n",
       "</table>\n",
       "</div>"
      ],
      "text/plain": [
       "       RAJ2000    DEJ2000                       Name  Type   Rmag   Bmag  \\\n",
       "1343  0.212906  11.236500  SDSS J000051.09+111411.2   QRX   17.16  17.99   \n",
       "1520  0.240825  29.710146  SDSS J000057.79+294236.4   QRX   20.10  20.11   \n",
       "1787  0.285889  19.242694  TEX 2358+189               QRX   20.50  21.19   \n",
       "2071  0.330319  19.429377  SDSS J000119.28+192545.7   QRX   19.97  20.61   \n",
       "2227  0.353409   8.890468  SDSS J000124.81+085325.7   QRX   19.13  18.93   \n",
       "\n",
       "     Comment  R  B       z Qpct                   XName  \\\n",
       "1343     pG   -  -   0.865   99  2RXS J000051.2+111422    \n",
       "1520     gG   -  -   0.760  100  2RXS J000058.1+294227    \n",
       "1787     j    1  1   3.100  100  2SXPS J000108.5+191431   \n",
       "2071     gG   -  1   1.253   98  2SXPS J000119.2+192541   \n",
       "2227     jG   -  -   1.051   99  2RXS J000124.9+085320    \n",
       "\n",
       "                       RName                   Lobe1                  Lobe2  \n",
       "1343  FIRST J000051.0+111411  VL0J000051.07+111411.6                    NaN  \n",
       "1520  VL0J000057.78+294236.5  NVSS J000058.1+294237   2RXP J000058.5+294234  \n",
       "1787  VL0J000108.62+191434.1  NVSS J000108.6+191434                     NaN  \n",
       "2071  NVSS J000119.2+192548                                             NaN  \n",
       "2227  FIRST J000124.8+085325  NVSS J000124.8+085325                     NaN  "
      ]
     },
     "execution_count": 20,
     "metadata": {},
     "output_type": "execute_result"
    }
   ],
   "source": [
    "# seleziono il tipo \"QRX\" cioè QSO type-I broad-line core-dominated con associazione Radio e X (4093)\n",
    "agns_qrx = agns_v72.loc[agns_v72['Type'].str.strip() == 'QRX']\n",
    "agns_qrx.head()"
   ]
  },
  {
   "cell_type": "code",
   "execution_count": 21,
   "metadata": {},
   "outputs": [
    {
     "data": {
      "text/plain": [
       "(4093, 2)"
      ]
     },
     "execution_count": 21,
     "metadata": {},
     "output_type": "execute_result"
    }
   ],
   "source": [
    "# seleziono le coordinate per fare il RUN con il SED Builder (i nomi non li riconosce)\n",
    "agns_qrx_radec = agns_qrx[['RAJ2000','DEJ2000']]\n",
    "agns_qrx_radec.shape"
   ]
  },
  {
   "cell_type": "code",
   "execution_count": null,
   "metadata": {},
   "outputs": [],
   "source": [
    "# salvo in .csv 4093 AGNS\n",
    "agns_qrx_radec.to_csv('agn_qrx_radec.csv', header=None, index=False)"
   ]
  },
  {
   "cell_type": "markdown",
   "metadata": {},
   "source": [
    "# Preprocessing of the SED data file obteined with SED Builder\n",
    "\n",
    "At this point, the SED of each object (providing one) is obtained with the `SEd-Builder Tool`(SSDC-ASI). I buildt a python script to automatically access the online tool via the browser, load the lists with the names of the sources and submit the request to obtain the files with the data.\n",
    "For the  `Blazars ` I used the `BZCAT + 2WHSP` list of name (the data are in the folders  `./sedData_bzcat_name/` and  `./sedData_2whsp_name/`) and for the  `AGNs` I used the  `mqv7.2 QRX`list of ra-dec (the data are in the folder `./agns/`)"
   ]
  },
  {
   "cell_type": "code",
   "execution_count": 22,
   "metadata": {},
   "outputs": [],
   "source": [
    "#funzione per creare una lista con i nomi dei file da analizzare\n",
    "\n",
    "def list_files_recursive(path):\n",
    "    \"\"\"\n",
    "    Function that receives as a parameter a directory path\n",
    "    :return list_: File List and Its Absolute Paths\n",
    "    \"\"\"\n",
    "    import os\n",
    "    files = []\n",
    "    # r = root, d = directories, f = files\n",
    "    for r, d, f in os.walk(path):\n",
    "          for file in f:\n",
    "                if '.zip' in file:\n",
    "                    continue\n",
    "                files.append(os.path.join(r, file))\n",
    "                \n",
    "    return files"
   ]
  },
  {
   "cell_type": "code",
   "execution_count": 23,
   "metadata": {},
   "outputs": [
    {
     "name": "stdout",
     "output_type": "stream",
     "text": [
      "/home/elenagasparri/Documenti/Fisica/esame_cmepda/SED_Builder/Data\n"
     ]
    }
   ],
   "source": [
    "dir_agn = 'agns/'\n",
    "dir_bzcat = 'sedData_bzcat_name/'\n",
    "dir_2whsp = 'sedData_2whsp_name/'\n",
    "print(os.getcwd())"
   ]
  },
  {
   "cell_type": "code",
   "execution_count": 29,
   "metadata": {
    "scrolled": true
   },
   "outputs": [
    {
     "name": "stdout",
     "output_type": "stream",
     "text": [
      "/home/elenagasparri/Documenti/Fisica/esame_cmepda/SED_Builder\n"
     ]
    }
   ],
   "source": [
    "cd /home/elenagasparri/Documenti/Fisica/esame_cmepda/SED_Builder"
   ]
  },
  {
   "cell_type": "code",
   "execution_count": 30,
   "metadata": {},
   "outputs": [
    {
     "name": "stdout",
     "output_type": "stream",
     "text": [
      " \u001b[0m\u001b[01;32m5BZCAT.csv\u001b[0m*\r\n",
      " agn_name.csv\r\n",
      " \u001b[01;34magns\u001b[0m/\r\n",
      " AGNs.csv\r\n",
      " \u001b[01;34magns_mqv7.2_name\u001b[0m/\r\n",
      " \u001b[01;34magns_mqv7.2_radec_qrx\u001b[0m/\r\n",
      " bzcat_catalougue_ssdc.csv\r\n",
      " bzcat_name.csv\r\n",
      " carlos_AGNSample_AllColumns_clean.csv\r\n",
      " Check_run_VOUB.ipynb\r\n",
      " \u001b[01;34mData\u001b[0m/\r\n",
      " geckodriver.log\r\n",
      " newfile.txt\r\n",
      " nn_data_v2.npz\r\n",
      " nn_data_v3.npz\r\n",
      " nn_data_voub.npz\r\n",
      " preparationSED_BUILDERdata.ipynb\r\n",
      " preparation_sedData_BinningHist.ipynb\r\n",
      " preparation_sedData_final_version.ipynb\r\n",
      " preparation_sedData_final_version-v2.ipynb\r\n",
      " preparation_sedData_final_version-v3-Copy1.ipynb\r\n",
      " preparation_sedData_final_version-v3.ipynb\r\n",
      " preparation_sedData.ipynb\r\n",
      " preparationVOUBdata.ipynb\r\n",
      " \u001b[01;34m__pycache__\u001b[0m/\r\n",
      " result_bzcat.txt\r\n",
      " \u001b[01;32mrun_sedbuilder_batch.sh\u001b[0m*\r\n",
      " run_sedbuilder.py\r\n",
      " run_sedbuilder_selenium_command.py\r\n",
      " run_sedbuilder_selenium_final.py\r\n",
      " \u001b[01;34msedData_2whsp_name\u001b[0m/\r\n",
      " \u001b[01;34msedData_bzcat_name\u001b[0m/\r\n",
      "\u001b[01;34m'SED with no data'\u001b[0m/\r\n",
      " \u001b[01;34mVOUB_AGNCarlos\u001b[0m/\r\n",
      " \u001b[01;34mVOUB_BlazarCarlos\u001b[0m/\r\n",
      " \u001b[01;34mVOUB_blazarE\u001b[0m/\r\n"
     ]
    }
   ],
   "source": [
    "cur_dir = os.getcwd()\n",
    "%ls"
   ]
  },
  {
   "cell_type": "code",
   "execution_count": 31,
   "metadata": {},
   "outputs": [],
   "source": [
    "# List of sed file for agn and blazar from VOUB\n",
    "path_bzcat = os.path.join(cur_dir, dir_bzcat)\n",
    "sed_bzcat = list_files_recursive(path_bzcat)\n",
    "path_2whsp = os.path.join(cur_dir, dir_2whsp)\n",
    "sed_2whsp = list_files_recursive(path_2whsp)\n",
    "\n",
    "path_agn = os.path.join(cur_dir, dir_agn)\n",
    "sed_agns = list_files_recursive(path_agn)"
   ]
  },
  {
   "cell_type": "code",
   "execution_count": 32,
   "metadata": {},
   "outputs": [
    {
     "data": {
      "text/plain": [
       "3560"
      ]
     },
     "execution_count": 32,
     "metadata": {},
     "output_type": "execute_result"
    }
   ],
   "source": [
    "# le blazar bzcat in lista sono 3560 e non 3561 perché a catalogo compare due volte la sorgente 5BZBJ1701+3954 (cartella_56)\n",
    "# le coordinate riportate sono leggermente diverse ma anche lo sky_explorer le identifica come medesima sorgente\n",
    "len(sed_bzcat)"
   ]
  },
  {
   "cell_type": "code",
   "execution_count": 33,
   "metadata": {},
   "outputs": [
    {
     "data": {
      "text/plain": [
       "1067"
      ]
     },
     "execution_count": 33,
     "metadata": {},
     "output_type": "execute_result"
    }
   ],
   "source": [
    "# sono 1067 perché 5 sorgenti 2whsp non sono state risolte da sed builder:\n",
    "# Name not found in file_1: ?2WHSPJ000116.3+293534\n",
    "# Name not found in file_2: 2WHSPJ013309.4-453524\n",
    "# Name not found in file_10: 2WHSPJ111603.5+371036\n",
    "# Name not found in file_13: 2WHSPJ135340.2-663958\n",
    "# Name not found in file_19: 2WHSPJ200054.0-364226\n",
    "len(sed_2whsp)"
   ]
  },
  {
   "cell_type": "code",
   "execution_count": 34,
   "metadata": {},
   "outputs": [
    {
     "data": {
      "text/plain": [
       "4627"
      ]
     },
     "execution_count": 34,
     "metadata": {},
     "output_type": "execute_result"
    }
   ],
   "source": [
    "#Concateno liste 'sed_bzcat' e 'sed_2whsp' a creare una unica lista files blazars\n",
    "sed_blazars = sed_bzcat + sed_2whsp\n",
    "len(sed_blazars)"
   ]
  },
  {
   "cell_type": "code",
   "execution_count": 35,
   "metadata": {},
   "outputs": [
    {
     "data": {
      "text/plain": [
       "4059"
      ]
     },
     "execution_count": 35,
     "metadata": {},
     "output_type": "execute_result"
    }
   ],
   "source": [
    "# Dovevano essere 4093 (probabilmente 5 sorgenti hanno coordinate molto simili e il sed builder non risolve)\n",
    "len(sed_agns)"
   ]
  },
  {
   "cell_type": "markdown",
   "metadata": {},
   "source": [
    "### Filtraggio file frequenza - flusso per rete neurale:  se più entry hanno stessa frequenza teniamo la entry con flusso maggiore"
   ]
  },
  {
   "cell_type": "code",
   "execution_count": 36,
   "metadata": {},
   "outputs": [],
   "source": [
    "# Pulizia file sed Blazars\n",
    "\n",
    "ul_blazars = 0\n",
    "bad_words = ['; UPPER LIMIT','NAN', 'nan','NaN']\n",
    "\n",
    "freq_all_bl=[]\n",
    "flux_all_bl=[]\n",
    "seddata_all_bl= []\n",
    "point_sed_bl =[]\n",
    "\n",
    "for file in sed_blazars:\n",
    "    # tolgo dal file le misure Upper limit e eventuali NAN\n",
    "    with open(file) as oldfile, open('newfile.txt', 'w') as newfile:\n",
    "        for line in oldfile:\n",
    "            if not any(bad_word in line for bad_word in bad_words):\n",
    "                newfile.write(line)\n",
    "            else:\n",
    "                ul_blazars += 1\n",
    "    freq_opt = []                        # vettori fequenza flusso che non contengono upper limit e misure ripetute\n",
    "    flux_opt = []\n",
    "    freq, flux = np.loadtxt('newfile.txt', usecols=(0, 2), unpack=True)\n",
    "    try:\n",
    "        #tolgo eventuali punti molto alti in flusso\n",
    "        strange_flux_index = [i for i in range(len(freq)) if flux[i]>= 1e-6 or flux[i]<0]\n",
    "        freq = np.delete(freq,strange_flux_index)\n",
    "        flux = np.delete(flux,strange_flux_index)\n",
    "        # se le frequenze sono ripetute, tengo la misura a flusso più alto\n",
    "        for i in range(len(freq)):\n",
    "            if np.size(np.where(freq_opt == freq[i]))>0:\n",
    "                if flux[i] > flux_opt[np.where(freq_opt == freq[i])]:\n",
    "                    flux_opt[np.where(freq_opt == freq[i])]=flux[i]\n",
    "            else:\n",
    "                freq_opt= np.append(freq_opt,freq[i])\n",
    "                flux_opt= np.append(flux_opt,flux[i])\n",
    "    except TypeError:\n",
    "        freq_opt= np.append(freq_opt,freq[i])                       # Nel caso ci sia una misura sola di flusso\n",
    "        flux_opt= np.append(flux_opt,flux[i])                       # non da errore ma appende semplicemente valore\n",
    "    \n",
    "    # Costruisco array di interesse\n",
    "    freq_all_bl = np.append(freq_all_bl,freq_opt)                   # array 1-D con tutte le frequenze\n",
    "    flux_all_bl = np.append(flux_all_bl,flux_opt)                   # array 1-D con tutti i flussi\n",
    "    freq_points_bl = np.unique(freq_all_bl)                         # array 1-D con solo le frequenze diverse presenti nel set blazars\n",
    "    freq_points_bl_ord = freq_points_bl[freq_points_bl.argsort()]   # array freq_points ordinato\n",
    "    seddata_all_bl.append((freq_opt,flux_opt))                      # tupla flux_all[i][j][k], i = source, j=0 or 1 freq or\n",
    "                                                                    # flux measure, [k] = k-riga dell'array\n",
    "    point_sed_bl = np.append(point_sed_bl,len(freq_opt))            # array con numero di punti per sed"
   ]
  },
  {
   "cell_type": "code",
   "execution_count": 37,
   "metadata": {
    "scrolled": false
   },
   "outputs": [
    {
     "name": "stdout",
     "output_type": "stream",
     "text": [
      "Il numero di frequenze diverse nel dataset blazar è  (527,)\n",
      "Il numero di input vector per le blazars è  4627\n",
      "Gli Upper limit nelle SED per le Blazars sono:  14247\n"
     ]
    }
   ],
   "source": [
    "print('Il numero di frequenze diverse nel dataset blazar è ',freq_points_bl.shape)\n",
    "print('Il numero di input vector per le blazars è ',len(seddata_all_bl))\n",
    "print('Gli Upper limit nelle SED per le Blazars sono: ',ul_blazars)"
   ]
  },
  {
   "cell_type": "code",
   "execution_count": 38,
   "metadata": {},
   "outputs": [],
   "source": [
    "# Pulizia file sed Agn\n",
    "ul_agns = 0\n",
    "bad_words = ['; UPPER LIMIT','NAN', 'nan','NaN']\n",
    "\n",
    "freq_all_agn=[]\n",
    "flux_all_agn=[]\n",
    "seddata_all_agn= []\n",
    "point_sed_agn =[]\n",
    "\n",
    "for file in sed_agns:\n",
    "    # tolgo dal file le misure Upper limit\n",
    "    with open(file) as oldfile, open('newfile.txt', 'w') as newfile:\n",
    "        for line in oldfile:\n",
    "            if not any(bad_word in line for bad_word in bad_words):\n",
    "                newfile.write(line)\n",
    "            else:\n",
    "                ul_agns += 1\n",
    "    freq_opt = [] # vettori fequenza flusso che non contengono upper limit e misure ripetute\n",
    "    flux_opt = []\n",
    "    freq = []\n",
    "    freq, flux = np.loadtxt('newfile.txt', usecols=(0, 2), unpack=True)\n",
    "    try:\n",
    "        #tolgo eventuali punti molto alti in flusso\n",
    "        strange_flux_index = [i for i in range(len(freq)) if flux[i]>= 1e-6 or flux[i]<0]\n",
    "        freq = np.delete(freq,strange_flux_index)\n",
    "        flux = np.delete(flux,strange_flux_index)\n",
    "        # se le frequenze sono ripetute, tengo la misura a flusso più alto\n",
    "        for i in range(len(freq)):\n",
    "            if np.size(np.where(freq_opt == freq[i]))>0:\n",
    "                if flux[i] > flux_opt[np.where(freq_opt == freq[i])]:\n",
    "                    flux_opt[np.where(freq_opt == freq[i])]=flux[i]\n",
    "            else:\n",
    "                freq_opt= np.append(freq_opt,freq[i])\n",
    "                flux_opt= np.append(flux_opt,flux[i])\n",
    "    except TypeError:\n",
    "        freq_opt= np.append(freq_opt,freq)                       # Nel caso ci sia una misura sola di flusso\n",
    "        flux_opt= np.append(flux_opt,flux)                       # non da errore ma appende semplicemente valore\n",
    "    \n",
    "    # Costruisco array di interesse\n",
    "    freq_all_agn = np.append(freq_all_agn,freq_opt)                    # array 1-D con tutte le frequenze\n",
    "    flux_all_agn = np.append(flux_all_agn,flux_opt)                    # array 1-D con tutti i flussi\n",
    "    freq_points_agn = np.unique(freq_all_agn)                          # array 1-D con solo le frequenze diverse presenti nel set agns\n",
    "    freq_points_agn_ord = freq_points_agn[freq_points_agn.argsort()]   # array freq_points ordinato\n",
    "    seddata_all_agn.append((freq_opt,flux_opt))                        # tupla seddata_all_agn[i][j][k], [i] = source, j=0 or 1 freq or\n",
    "                                                                       # flux measure, [k] = k-riga dell'array\n",
    "    point_sed_agn = np.append(point_sed_agn,len(freq_opt))             # array con numero di punti per sed"
   ]
  },
  {
   "cell_type": "code",
   "execution_count": 39,
   "metadata": {
    "scrolled": true
   },
   "outputs": [
    {
     "name": "stdout",
     "output_type": "stream",
     "text": [
      "Il numero di frequenze diverse nel dataset AGNs è  (216,)\n",
      "Il numero di input vector per gli AGNs è  4059\n",
      "Gli Upper limit nelle SED per gli AGNs sono:  6473\n",
      "None\n"
     ]
    }
   ],
   "source": [
    "print('Il numero di frequenze diverse nel dataset AGNs è ',freq_points_agn.shape)\n",
    "print('Il numero di input vector per gli AGNs è ',len(seddata_all_agn))\n",
    "print(print('Gli Upper limit nelle SED per gli AGNs sono: ',ul_agns))"
   ]
  },
  {
   "cell_type": "markdown",
   "metadata": {},
   "source": [
    "# Generation of the dataset for the Neural Network"
   ]
  },
  {
   "cell_type": "code",
   "execution_count": 40,
   "metadata": {},
   "outputs": [
    {
     "data": {
      "text/plain": [
       "(529,)"
      ]
     },
     "execution_count": 40,
     "metadata": {},
     "output_type": "execute_result"
    }
   ],
   "source": [
    "# Genero 'nn_freq_data' un vettore ordinato che contenga tutti i valori di frequenze diverse che compaiono nei due\n",
    "# data set blazars e agns per creare gli array di lunghezza identica da dare in pasto alla rete neurale\n",
    "tot_freq = np.append(freq_points_bl_ord,freq_points_agn_ord)\n",
    "tot_freq_un = np.unique(tot_freq)\n",
    "nn_freq_data = tot_freq_un[tot_freq_un.argsort()]\n",
    "\n",
    "nn_freq_data.shape"
   ]
  },
  {
   "cell_type": "code",
   "execution_count": 41,
   "metadata": {},
   "outputs": [],
   "source": [
    "def GenerateDataSet(nn_frequencies, sed_values):\n",
    "    \"\"\"\n",
    "    Una funzione che dato un array di frequenze ordinato, genera una array con shape (N,2) dove i valori di flusso\n",
    "    sono disposti nella giusta posizione rispetto alla frequenza associata (assegna zero ai flussi non misurati).\n",
    "    Nella seconda colonna abbiamo un flag a 1 per dati presenti nel file della sed.\n",
    "    \n",
    "    nn_frequencies = numpy array ordinato con tutte le frequenze diverse presenti nei data set blazar + agns\n",
    "    sed_values = tupla che contiene tutti i dati sed (blazars o agn) [i]= sources, [j]= 0 (freq), 1(flux), [k]=k-riga dell'array\n",
    "    \n",
    "    \"\"\"\n",
    "    data = []\n",
    "    for x in sed_values:\n",
    "        temp = np.zeros((nn_frequencies.shape[0],2)) #np.zeros(freq_points.shape)\n",
    "        for i in range(len(x[0])):\n",
    "            idx = np.where(nn_frequencies == x[0][i])\n",
    "            temp[idx,0] = x[1][i]                 # temp[idx] = x[1][i]\n",
    "            temp[idx,1]=1                        # flag a 1 per presenza dati nella sed\n",
    "        data.append(temp)\n",
    "    return np.array(data)"
   ]
  },
  {
   "cell_type": "code",
   "execution_count": 42,
   "metadata": {},
   "outputs": [
    {
     "data": {
      "text/plain": [
       "(4627, 529, 2)"
      ]
     },
     "execution_count": 42,
     "metadata": {},
     "output_type": "execute_result"
    }
   ],
   "source": [
    "# n-D array di numpy con i dati delle blazars per la rete neurale\n",
    "bl_data = GenerateDataSet(nn_freq_data, seddata_all_bl)\n",
    "\n",
    "bl_data.shape"
   ]
  },
  {
   "cell_type": "code",
   "execution_count": 43,
   "metadata": {},
   "outputs": [
    {
     "data": {
      "text/plain": [
       "(4059, 529, 2)"
      ]
     },
     "execution_count": 43,
     "metadata": {},
     "output_type": "execute_result"
    }
   ],
   "source": [
    "# n-D array di numpy con i dati degli AGN non-blazazar per la rete neurale\n",
    "agn_data = GenerateDataSet(nn_freq_data, seddata_all_agn)\n",
    "\n",
    "agn_data.shape"
   ]
  },
  {
   "cell_type": "code",
   "execution_count": null,
   "metadata": {},
   "outputs": [],
   "source": [
    "# Salvo i due numpy.ndarray dei dati blazar e agn e l'array con le frequenze ordinate, nel file nn_data.npz\n",
    "# che userò nella rete neurale\n",
    "#np.savez('nn_data_voub.npz',bl_data = bl_data, agn_data = agn_data, nn_freq_data = nn_freq_data)\n",
    "#np.savez('nn_data_v3.npz',bl_data = bl_data, agn_data = agn_data, nn_freq_data = nn_freq_data)"
   ]
  },
  {
   "cell_type": "markdown",
   "metadata": {},
   "source": [
    "# Some Plot of data"
   ]
  },
  {
   "cell_type": "code",
   "execution_count": 44,
   "metadata": {},
   "outputs": [],
   "source": [
    "# Histogram of the number of sources per amount of data points in the SED\n",
    "#plt.style.use('seaborn-white')\n",
    "def histData(points_bl, points_agn):\n",
    "    ''' Histogram of the amount of data points per SED file\n",
    "    -----------\n",
    "        points_bl = numpy array like points_per_sed of Blazars sources\n",
    "        points_agn = numpy array like points_per_sed of AGN sources\n",
    "    '''\n",
    "    plt.figure()\n",
    "    plt.title('Number of sources per amount of data points in the SED')\n",
    "    plt.xlabel('Points per SED')\n",
    "    plt.ylabel('Numbers of sources')\n",
    "    plt.grid(True)\n",
    "    bins = np.logspace(0, 3, 50)\n",
    "    plt.xscale('log')\n",
    "\n",
    "    n, bins, patches=plt.hist(points_bl, bins=bins, alpha=1.0, histtype='step', label='Blazars')\n",
    "    n_1, bins_1, patches_1=plt.hist(points_agn, bins=bins, alpha=1.0, histtype='step', label=f'AGNs')\n",
    "    plt.legend(loc='upper right')\n",
    "    plt.show()"
   ]
  },
  {
   "cell_type": "code",
   "execution_count": 45,
   "metadata": {
    "scrolled": false
   },
   "outputs": [
    {
     "data": {
      "image/png": "[encoded data removed]",
      "text/plain": [
       "<Figure size 432x288 with 1 Axes>"
      ]
     },
     "metadata": {
      "needs_background": "light"
     },
     "output_type": "display_data"
    }
   ],
   "source": [
    "#plot of SED Builder data\n",
    "histData(point_sed_bl,point_sed_agn)"
   ]
  },
  {
   "cell_type": "code",
   "execution_count": 46,
   "metadata": {},
   "outputs": [],
   "source": [
    "# plotto le SED sovraposte di tutti i file per vedere come sono distribuiti i punti\n",
    "def sedDistribution(sed_data_all,mode):\n",
    "    ''' Plot of the SED files\n",
    "    -------------\n",
    "        sed_data_all = tupla con i dati completi freq e flux like seddata_all_***\n",
    "        mode = boolean , 'True' stands for blazar and 'False' for AGNs\n",
    "    '''\n",
    "    plt.figure()\n",
    "    if mode:\n",
    "        plt.title('Superimposed Plot of the SED of the entire Blazars dataset')\n",
    "    else:\n",
    "        plt.title('Superimposed Plot of the SED of the entire AGNs dataset')\n",
    "    plt.xlabel('Frequency (Hz)')\n",
    "    plt.ylabel(r'$\\nu F_{\\nu} (erg/cm^2/s)$')\n",
    "    plt.grid(True)\n",
    "    for sed in sed_data_all:\n",
    "        freq= sed[0]\n",
    "        flux= sed[1]\n",
    "        plt.loglog(freq, flux, 'b.', markersize=1)\n",
    "    plt.show()"
   ]
  },
  {
   "cell_type": "code",
   "execution_count": 47,
   "metadata": {
    "scrolled": true
   },
   "outputs": [
    {
     "data": {
      "image/png": "[encoded data removed]",
      "text/plain": [
       "<Figure size 432x288 with 1 Axes>"
      ]
     },
     "metadata": {
      "needs_background": "light"
     },
     "output_type": "display_data"
    }
   ],
   "source": [
    "sedDistribution(seddata_all_bl,True)"
   ]
  },
  {
   "cell_type": "code",
   "execution_count": 48,
   "metadata": {},
   "outputs": [
    {
     "data": {
      "image/png": "[encoded data removed]",
      "text/plain": [
       "<Figure size 432x288 with 1 Axes>"
      ]
     },
     "metadata": {
      "needs_background": "light"
     },
     "output_type": "display_data"
    }
   ],
   "source": [
    "sedDistribution(seddata_all_agn, False)"
   ]
  },
  {
   "cell_type": "code",
   "execution_count": 49,
   "metadata": {},
   "outputs": [],
   "source": [
    "#Scatter plot of the SED files with color map for the recurrent point\n",
    "\n",
    "def sedColormapPlot(sed_data_all,mode):\n",
    "    ''' Scatter plot of the SED files with color map for the recurrent point\n",
    "    -------------\n",
    "        sed_data_all = tupla con i dati completi freq e flux like seddata_all_***\n",
    "        mode = boolean , 'True' stands for blazar and 'False' for AGNs\n",
    "    '''\n",
    "    dens = np.zeros((1,3))\n",
    "    for sed in sed_data_all:\n",
    "        freq= sed[0]\n",
    "        flux= sed[1]\n",
    "        # Con l'ndarray dens conto quante volte in totale ho una stessa misura di freq/flusso\n",
    "        # La terza colonna dell'array ci dice il numero di volte che è ripetuta la misura nell'intero dataset\n",
    "        for i in range(len(freq)):\n",
    "            if np.size(np.where(np.logical_and(dens[:,0] == freq[i], dens[:,1] == flux[i]))[0]) > 0:\n",
    "                dens[np.where(np.logical_and(dens[:,0] == freq[i], dens[:,1] == flux[i]))[0],2] += 1\n",
    "            else:\n",
    "                dens = np.vstack([dens,[freq[i],flux[i],1]])\n",
    "    densn = np.delete(dens,(0),axis=0)                              #tolgo la prima riga di zeri\n",
    "    \n",
    "    plt.figure()\n",
    "    fig,ax = plt.subplots()\n",
    "    if mode:\n",
    "        fig.suptitle('Density plots of the SEDs of Blazars data set')\n",
    "    else:\n",
    "        fig.suptitle('Density plots of the SEDs of AGNs data set')\n",
    "    ax.set_xlabel('Frequency (Hz)')\n",
    "    ax.set_ylabel(r'$\\nu F_{\\nu} (erg/cm^2/s)$')\n",
    "    ax.grid(False)\n",
    "    ax.set_xscale('log')\n",
    "    ax.set_yscale('log')\n",
    "    im = ax.scatter(densn[:,0],densn[:,1], c = densn[:,2], cmap ='viridis',marker='.', alpha=0.5)\n",
    "    fig.colorbar(im, ax=ax)\n",
    "    plt.show()"
   ]
  },
  {
   "cell_type": "code",
   "execution_count": 50,
   "metadata": {},
   "outputs": [
    {
     "data": {
      "text/plain": [
       "<Figure size 432x288 with 0 Axes>"
      ]
     },
     "metadata": {},
     "output_type": "display_data"
    },
    {
     "data": {
      "image/png": "[encoded data removed]",
      "text/plain": [
       "<Figure size 432x288 with 2 Axes>"
      ]
     },
     "metadata": {
      "needs_background": "light"
     },
     "output_type": "display_data"
    }
   ],
   "source": [
    "#plot of SED Builder data\n",
    "sedColormapPlot(seddata_all_bl,True)"
   ]
  },
  {
   "cell_type": "code",
   "execution_count": 51,
   "metadata": {},
   "outputs": [
    {
     "data": {
      "text/plain": [
       "<Figure size 432x288 with 0 Axes>"
      ]
     },
     "metadata": {},
     "output_type": "display_data"
    },
    {
     "data": {
      "image/png": "[encoded data removed]",
      "text/plain": [
       "<Figure size 432x288 with 2 Axes>"
      ]
     },
     "metadata": {
      "needs_background": "light"
     },
     "output_type": "display_data"
    }
   ],
   "source": [
    "#Plot of SED Builder Data\n",
    "sedColormapPlot(seddata_all_agn, False)"
   ]
  },
  {
   "cell_type": "code",
   "execution_count": 52,
   "metadata": {},
   "outputs": [],
   "source": [
    "# Hist2D of the SEDs in our blazars data set\n",
    "# freq_all e flux_all sono array con tutte le coppie di dati del dataset anche ripetute\n",
    "def hist2dSed(freq_all,flux_all,mode):\n",
    "    '''Hist2D of the SEDs of the entire data set.\n",
    "    ------------\n",
    "            freq_all,flux_all = 1D-array with all couple of data of type Blazar or AGNs\n",
    "            mode = boolean, 'True' for Blazars data and 'False' for AGNs data\n",
    "    '''\n",
    "    plt.figure()\n",
    "    if mode:\n",
    "        plt.title('2D Histogram of the SEDs of Blazars data set')\n",
    "    else:\n",
    "        plt.title('2D Histogram of the SEDs of AGNs data set')\n",
    "    plt.xlabel('Frequency (Hz)')\n",
    "    plt.ylabel(r'$\\nu F_{\\nu} (erg/cm^2/s)$')\n",
    "    plt.grid(False)\n",
    "\n",
    "    plt.xscale('log')\n",
    "    plt.yscale('log')\n",
    "\n",
    "    x_bins = np.logspace(6, 27,200)\n",
    "    y_bins = np.logspace(-20,-7,200)\n",
    "    #plt.hist2d(freq_all,flux_all, bins=[x_bins,y_bins], vmin =10, cmap = 'BuPu')\n",
    "    plt.hist2d(freq_all,flux_all, bins=[x_bins,y_bins], vmin =-10, cmap = 'twilight')\n",
    "    cb = plt.colorbar()\n",
    "    cb.set_label('counts in bin')\n",
    "    plt.show()"
   ]
  },
  {
   "cell_type": "code",
   "execution_count": 53,
   "metadata": {},
   "outputs": [
    {
     "data": {
      "image/png": "[encoded data removed]",
      "text/plain": [
       "<Figure size 432x288 with 2 Axes>"
      ]
     },
     "metadata": {
      "needs_background": "light"
     },
     "output_type": "display_data"
    }
   ],
   "source": [
    "hist2dSed(freq_all_bl,flux_all_bl,True)"
   ]
  },
  {
   "cell_type": "code",
   "execution_count": 54,
   "metadata": {},
   "outputs": [
    {
     "data": {
      "image/png": "[encoded data removed]",
      "text/plain": [
       "<Figure size 432x288 with 2 Axes>"
      ]
     },
     "metadata": {
      "needs_background": "light"
     },
     "output_type": "display_data"
    }
   ],
   "source": [
    "hist2dSed(freq_all_agn,flux_all_agn,False)"
   ]
  }
 ],
 "metadata": {
  "kernelspec": {
   "display_name": "Python 3 (ipykernel)",
   "language": "python",
   "name": "python3"
  },
  "language_info": {
   "codemirror_mode": {
    "name": "ipython",
    "version": 3
   },
   "file_extension": ".py",
   "mimetype": "text/x-python",
   "name": "python",
   "nbconvert_exporter": "python",
   "pygments_lexer": "ipython3",
   "version": "3.8.8"
  }
 },
 "nbformat": 4,
 "nbformat_minor": 2
}
