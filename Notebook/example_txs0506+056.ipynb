{
  "nbformat": 4,
  "nbformat_minor": 0,
  "metadata": {
    "colab": {
      "name": "example_txs0506+056.ipynb",
      "provenance": []
    },
    "kernelspec": {
      "name": "python3",
      "display_name": "Python 3"
    },
    "language_info": {
      "name": "python"
    }
  },
  "cells": [
    {
      "cell_type": "code",
      "execution_count": 1,
      "metadata": {
        "colab": {
          "base_uri": "https://localhost:8080/"
        },
        "id": "fj5RZHTU9L3p",
        "outputId": "d44b9288-f97e-42a6-c708-d7bebca18473"
      },
      "outputs": [
        {
          "output_type": "stream",
          "name": "stdout",
          "text": [
            "1.21.6\n"
          ]
        }
      ],
      "source": [
        "import matplotlib\n",
        "from matplotlib import pyplot as plt\n",
        "%matplotlib inline\n",
        "\n",
        "import numpy as np\n",
        "print(np.__version__)\n",
        "\n",
        "import os"
      ]
    },
    {
      "cell_type": "code",
      "source": [
        "cd /content/drive/MyDrive/Colab Notebooks"
      ],
      "metadata": {
        "colab": {
          "base_uri": "https://localhost:8080/"
        },
        "id": "UGDN_xib-AWh",
        "outputId": "133b129d-b7d9-46fa-8f8f-9db56eecc41f"
      },
      "execution_count": 2,
      "outputs": [
        {
          "output_type": "stream",
          "name": "stdout",
          "text": [
            "/content/drive/MyDrive/Colab Notebooks\n"
          ]
        }
      ]
    },
    {
      "cell_type": "code",
      "source": [
        "ls"
      ],
      "metadata": {
        "colab": {
          "base_uri": "https://localhost:8080/"
        },
        "id": "1rAwae5_-Kyi",
        "outputId": "c29a0436-90ed-4f92-b11c-326add22924b"
      },
      "execution_count": 3,
      "outputs": [
        {
          "output_type": "stream",
          "name": "stdout",
          "text": [
            " \u001b[0m\u001b[01;34m2LS\u001b[0m/                                  media.ipynb\n",
            " BlazarDNN.ipynb                       model.png\n",
            " BlazarDNN_vecchio.ipynb               \u001b[01;34mmodel_v2\u001b[0m/\n",
            " blazar_model_colab.ipynb              \u001b[01;34mmodel_v3\u001b[0m/\n",
            " blazar_model_colab_v2.ipynb           \u001b[01;34mmodel_v4\u001b[0m/\n",
            " blazar_model_colab_v3.ipynb           \u001b[01;34mmodel_v5\u001b[0m/\n",
            " blazar_model_colab_v5.ipynb           \u001b[01;34mmodel_v6\u001b[0m/\n",
            " blazar_model_colab_v6.ipynb           \u001b[01;34mmodel_v6_nokfold\u001b[0m/\n",
            " blazar_model_colab_v6_nokfold.ipynb   \u001b[01;34mmodel_voub\u001b[0m/\n",
            " blazar_model_colab_v7_plot.ipynb      newfile.txt\n",
            "'Copia di KerasSimple.ipynb'           nn_data.npz\n",
            "'Copy of CNN tutorial.ipynb'           nn_data_v2.npz\n",
            "'Copy of Jet_exploration.ipynb'        nn_data_v3.npz\n",
            " example_txs0506+056.ipynb             nn_data_voub.npz\n",
            " k_model_pot.py                        \u001b[01;34m__pycache__\u001b[0m/\n",
            "'Lezione GPU.ipynb'                    TXS0506056.txt\n",
            " Librerie.ipynb\n"
          ]
        }
      ]
    },
    {
      "cell_type": "code",
      "source": [
        "# open file ASCII whit sed data of txs0506+056 and prepare for the net\n",
        "ul_blazars = 0\n",
        "bad_words = ['; UPPER LIMIT','NAN', 'nan','NaN']\n",
        "\n",
        "filee = 'TXS0506056.txt'\n",
        "\n",
        "# deleting rows whit upper limit ora NAN\n",
        "with open(filee) as oldfile, open('newfile.txt', 'w') as newfile:\n",
        "  for line in oldfile:\n",
        "    if not any(bad_word in line for bad_word in bad_words):\n",
        "      newfile.write(line)\n",
        "    else:\n",
        "      ul_blazars += 1\n",
        "freq_opt = []                                                   # refined freq-flux array initialization\n",
        "flux_opt = []\n",
        "freq, flux = np.loadtxt('newfile.txt', usecols=(0, 2), unpack=True)\n",
        "try:\n",
        "  #deleting strange measures\n",
        "  strange_flux_index = [i for i in range(len(freq)) if flux[i]>= 1e-5 or flux[i]<0]\n",
        "  freq = np.delete(freq,strange_flux_index)\n",
        "  flux = np.delete(flux,strange_flux_index)\n",
        "  # if the frequencies are repeated, I keep the higher flux measurement\n",
        "  for i in range(len(freq)):\n",
        "    if np.size(np.where(freq_opt == freq[i]))>0:\n",
        "      if flux[i] > flux_opt[np.where(freq_opt == freq[i])]:\n",
        "        flux_opt[np.where(freq_opt == freq[i])]=flux[i]\n",
        "    else:\n",
        "      freq_opt= np.append(freq_opt,freq[i])\n",
        "      flux_opt= np.append(flux_opt,flux[i])\n",
        "except TypeError:\n",
        "  freq_opt= np.append(freq_opt,freq[i])                       # In case there is only one freq-flux measurement\n",
        "  flux_opt= np.append(flux_opt,flux[i])                       # does not give an error but simply appends value"
      ],
      "metadata": {
        "id": "3b-pdhGX-Ocx"
      },
      "execution_count": 4,
      "outputs": []
    },
    {
      "cell_type": "code",
      "source": [
        "len(freq_opt)"
      ],
      "metadata": {
        "colab": {
          "base_uri": "https://localhost:8080/"
        },
        "id": "pJ38dTtMEhKT",
        "outputId": "30ac56d8-6409-4edc-a86a-4ddc5ad889ea"
      },
      "execution_count": 5,
      "outputs": [
        {
          "output_type": "execute_result",
          "data": {
            "text/plain": [
              "120"
            ]
          },
          "metadata": {},
          "execution_count": 5
        }
      ]
    },
    {
      "cell_type": "code",
      "source": [
        "print(ul_blazars)"
      ],
      "metadata": {
        "colab": {
          "base_uri": "https://localhost:8080/"
        },
        "id": "scXYTDE9G0OY",
        "outputId": "cf876e9b-5246-4df3-b1b3-fa9f5406720d"
      },
      "execution_count": null,
      "outputs": [
        {
          "output_type": "stream",
          "name": "stdout",
          "text": [
            "4\n"
          ]
        }
      ]
    },
    {
      "cell_type": "code",
      "source": [
        "nn_data = np.load('nn_data_v3.npz')\n",
        "\n",
        "set_freq = nn_data['nn_freq_data']"
      ],
      "metadata": {
        "id": "vA_chqwNHoHg"
      },
      "execution_count": 6,
      "outputs": []
    },
    {
      "cell_type": "code",
      "source": [
        "input = np.zeros((set_freq.shape[0],2))\n",
        "for i in range(len(freq_opt)):\n",
        "  idx = np.where(set_freq == freq_opt[i])\n",
        "  input[idx,0] = flux_opt[i]\n",
        "  input[idx,1]= 1                        # flag at 1 for real data in sed file"
      ],
      "metadata": {
        "id": "xs6TEnkJH4oM"
      },
      "execution_count": 7,
      "outputs": []
    },
    {
      "cell_type": "code",
      "source": [
        "input.shape"
      ],
      "metadata": {
        "colab": {
          "base_uri": "https://localhost:8080/"
        },
        "id": "V3MSsm4AKNel",
        "outputId": "bb076a3d-7f35-419e-dae9-9a872e56c79c"
      },
      "execution_count": 8,
      "outputs": [
        {
          "output_type": "execute_result",
          "data": {
            "text/plain": [
              "(529, 2)"
            ]
          },
          "metadata": {},
          "execution_count": 8
        }
      ]
    },
    {
      "cell_type": "code",
      "source": [
        "ninput = np.expand_dims(input,axis=0)\n",
        "ninput.shape"
      ],
      "metadata": {
        "colab": {
          "base_uri": "https://localhost:8080/"
        },
        "id": "Plgmi21uQfUe",
        "outputId": "8032bc60-44f6-4535-aaa0-e627a0a56571"
      },
      "execution_count": 10,
      "outputs": [
        {
          "output_type": "execute_result",
          "data": {
            "text/plain": [
              "(1, 529, 2)"
            ]
          },
          "metadata": {},
          "execution_count": 10
        }
      ]
    },
    {
      "cell_type": "code",
      "source": [
        "ninput = input[np.newaxis, :]\n",
        "ninput.shape"
      ],
      "metadata": {
        "colab": {
          "base_uri": "https://localhost:8080/"
        },
        "id": "Q9kRFFKKSC74",
        "outputId": "4bedbdc7-fe00-4241-bb4e-3e00dd7de9da"
      },
      "execution_count": 13,
      "outputs": [
        {
          "output_type": "execute_result",
          "data": {
            "text/plain": [
              "(1, 529, 2)"
            ]
          },
          "metadata": {},
          "execution_count": 13
        }
      ]
    },
    {
      "cell_type": "code",
      "source": [
        "from keras import models\n",
        "\n",
        "model=models.load_model('model_v6/model_3.h5')\n",
        "probs = model.predict(ninput)\n",
        "\n",
        "print(f'TXS 0506+056 is a blazar whit a probability of {probs}')"
      ],
      "metadata": {
        "colab": {
          "base_uri": "https://localhost:8080/"
        },
        "id": "WsCh1TDAKajP",
        "outputId": "267341f4-f839-4ca1-a71a-f538fb2a715c"
      },
      "execution_count": 18,
      "outputs": [
        {
          "output_type": "stream",
          "name": "stdout",
          "text": [
            "TXS 0506+056 is a blazar whit a probability of [[0.74973524]]\n"
          ]
        }
      ]
    }
  ]
}